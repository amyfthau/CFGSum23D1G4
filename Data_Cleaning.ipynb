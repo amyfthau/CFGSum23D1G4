{
  "nbformat": 4,
  "nbformat_minor": 0,
  "metadata": {
    "colab": {
      "provenance": [],
      "include_colab_link": true
    },
    "kernelspec": {
      "name": "python3",
      "display_name": "Python 3"
    },
    "language_info": {
      "name": "python"
    }
  },
  "cells": [
    {
      "cell_type": "markdown",
      "metadata": {
        "id": "view-in-github",
        "colab_type": "text"
      },
      "source": [
        "<a href=\"https://colab.research.google.com/github/amyfthau/CFGSum23D1G4/blob/data_collection/Data_Cleaning.ipynb\" target=\"_parent\"><img src=\"https://colab.research.google.com/assets/colab-badge.svg\" alt=\"Open In Colab\"/></a>"
      ]
    },
    {
      "cell_type": "markdown",
      "source": [
        "![group4icon_tiny.png](data:image/png;base64,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)"
      ],
      "metadata": {
        "id": "Hewq3R7wmzf4"
      }
    },
    {
      "cell_type": "markdown",
      "source": [
        "Hey guys! Just playing around to see how we will collab and code - Amy :)\n",
        "\n",
        "Feel free to add to this - I want to see how it does version control with GitHub"
      ],
      "metadata": {
        "id": "eI9LcEXnbwAY"
      }
    },
    {
      "cell_type": "markdown",
      "source": [
        "**Import Data from Google Drive**"
      ],
      "metadata": {
        "id": "MXyvrjreuC5T"
      }
    },
    {
      "cell_type": "code",
      "execution_count": null,
      "metadata": {
        "colab": {
          "base_uri": "https://localhost:8080/"
        },
        "id": "bogbOEh7pj9Y",
        "outputId": "30f2c19b-21dc-4ea4-f4d8-0475ad0b5d61"
      },
      "outputs": [
        {
          "output_type": "stream",
          "name": "stdout",
          "text": [
            "Mounted at /content/drive\n",
            "/content\n"
          ]
        }
      ],
      "source": [
        "# 1) Set files ready\n",
        "\n",
        "# Import relevant libraries to mount drive\n",
        "from google.colab import drive\n",
        "import os\n",
        "\n",
        "# Mount google drive\n",
        "drive.mount('/content/drive')\n",
        "\n",
        "# Define the path to your specific folder\n",
        "specific_folder_path = '/content/drive/MyDrive/CFGdegree_Sum23_D1_G4'\n",
        "\n",
        "# Navigate to the specific folder\n",
        "os.chdir(specific_folder_path)\n",
        "\n",
        "# change directory to shared group folder\n",
        "%cd /content/drive/MyDrive/CFGdegree_Sum23_D1_G4\n",
        "\n",
        "\n"
      ]
    },
    {
      "cell_type": "code",
      "source": [
        "# 2) Import relevant libraries\n",
        "\n",
        "import pandas as pd\n",
        "import requests"
      ],
      "metadata": {
        "id": "9v-Ihw-2LNv4"
      },
      "execution_count": null,
      "outputs": []
    },
    {
      "cell_type": "markdown",
      "source": [
        "## Functions"
      ],
      "metadata": {
        "id": "vWRP4ongLP-0"
      }
    },
    {
      "cell_type": "code",
      "source": [
        "# Functions\n",
        "\n",
        "def remove_spaces (df, column_wise):\n",
        "  \"\"\"\n",
        "  Function for removing whitespaces from string columns in a pandas DataFrame.\n",
        "\n",
        "  #if we want to do it column-wise and not for the whole dataset remove the first line of the function and place column name in.\n",
        "\n",
        "  Args:\n",
        "    df (pandas.DataFrame): The input DataFrame.\n",
        "    column_wise (bool): Whether to remove whitespaces column-wise (default is True).\n",
        "    columns (list or None): List of columns to process. If None, all string columns are processed.\n",
        "\n",
        "  Returns:\n",
        "    pandas.DataFrame: The DataFrame with whitespaces removed.\n",
        "\n",
        "  Note:\n",
        "    If column_wise is False, provide the 'columns' parameter to specify columns to process.\n",
        "\n",
        "\n",
        "  \"\"\"\n",
        "  if column_wise:\n",
        "    # Iterate through each column in the DataFrame\n",
        "    for col in df.columns:\n",
        "      # Check if the column contains string data\n",
        "      if df[col].dtype == 'object':\n",
        "        # Remove leading and trailing whitespaces from string values in the column\n",
        "        df[col] = df[col].str.strip()\n",
        "  else:\n",
        "    # If not processing column-wise, use specified columns or default to all string columns\n",
        "    if columns is None:\n",
        "      columns = [col for col in df.columns if df[col].dtype == 'object']\n",
        "      # Iterate through specified columns\n",
        "      for col in columns:\n",
        "      # Remove leading and trailing whitespaces from string values in the specified column\n",
        "        df[col] = df[col].str.strip()\n",
        "  # Return the DataFrame with whitespaces now removed\n",
        "  return df\n",
        "\n",
        "# when you've all looked through and are happy with the cleaned data here is a function for exporting the cleaned data into a new CSV to make it easier for use in other files:\n",
        "#this will go into the same directory as this file - is this okay??\n",
        "\n",
        "def save_clean_data(file_name, df):\n",
        "  \"\"\"\n",
        "  Function for saving a cleaned DataFrame to a CSV file\n",
        "\n",
        "  Args:\n",
        "    file_name(str): The base name of the CSV file.\n",
        "    df(pd.DataFrame): The DataFrame to save.\n",
        "\n",
        "  \"\"\"\n",
        "  # Construct the output file name by appending 'cleaned.csv' to the provided file_name\n",
        "  # and then save the DataFrame to the specified output file in CSV format\n",
        "  df.to_csv('{}cleaned.csv'.format(file_name),index = False)\n",
        "\n",
        "\n",
        "def check_unique_values(column_name, df):\n",
        "    \"\"\"\n",
        "    Returns an array of unique values in a specified column of the DataFrame.\n",
        "\n",
        "    Args:\n",
        "        column_name (str): The name of the column to check for unique values.\n",
        "        df (pandas.DataFrame): The DataFrame to analyze.\n",
        "\n",
        "    Returns:\n",
        "        numpy.ndarray: An array containing the unique values in the specified column.\n",
        "    \"\"\"\n",
        "    # Use the unique() function to obtain an array of unique values in the specified column\n",
        "    unique_values = df[column_name].unique()\n",
        "    return unique_values\n",
        "\n",
        "\n",
        "def value_count_series(column_name, df):\n",
        "    \"\"\"\n",
        "    Creates a Pandas Series object containing value counts for each unique value in the specified column.\n",
        "\n",
        "    Args:\n",
        "        column_name (str): The name of the column for which to calculate value counts.\n",
        "        df (pandas.DataFrame): The DataFrame to analyze.\n",
        "\n",
        "    Returns:\n",
        "        pandas.Series: A Series object with indices representing unique values and values representing their counts.\n",
        "    \"\"\"\n",
        "    # Use the value_counts() function to count occurrences of each unique value in the specified column\n",
        "    value_counts = df[column_name].value_counts()\n",
        "    return value_counts\n",
        "\n",
        "def clean_missing_data(df, column_names):\n",
        "    \"\"\"\n",
        "    Removes rows with missing data from the DataFrame for specified columns.\n",
        "\n",
        "    Args:\n",
        "        df (pandas.DataFrame): The DataFrame to clean.\n",
        "        column_names (str or list): The name(s) of the column(s) to consider for missing data removal.\n",
        "\n",
        "    Returns:\n",
        "        pandas.DataFrame: A new DataFrame with rows containing missing data in the specified columns removed.\n",
        "    \"\"\"\n",
        "    # If column_names is a string, convert it to a list to handle single column case\n",
        "    if isinstance(column_names, str):\n",
        "        column_names = [column_names]\n",
        "\n",
        "    # Drop rows with missing data in the specified columns\n",
        "    df_cleaned = df.dropna(subset=column_names)\n",
        "\n",
        "    return df_cleaned\n",
        "\n",
        "\n",
        "\n",
        "\n",
        "def count_duplicates_drop(df):\n",
        "  duplicates = df[df.duplicated()].shape[0]\n",
        "  print('Duplicates Number: ',duplicates)\n",
        "  df.drop_duplicates(inplace = True)\n",
        "  print('Still any duplicates?: ',duplicates)\n",
        "\n",
        "\n",
        "# # To add:\n",
        "# 1. Handling duplicates /\n",
        "# 2. Handling outliers\n",
        "# 3. Data transformations - replace, apply, map\n",
        "# 4. Handling categorical data\n",
        "# 5. Data imptuation\n",
        "# 6. String operations\n",
        "# 7. Reshaping data\n",
        "# 8.  DateTime handling\n",
        "# 9. date type conversion\n",
        "# 10. type conversion\n",
        "\n"
      ],
      "metadata": {
        "id": "h3zQeftcLFFf"
      },
      "execution_count": null,
      "outputs": []
    },
    {
      "cell_type": "code",
      "source": [
        "# @title Data Selection\n",
        "# checking Anna's code -\n",
        "\n",
        "\n",
        "# Define the range of rows to import (using header and skiprows)\n",
        "header_row = 3  # The row that contains the column headers\n",
        "skip_rows = 1   # The number of rows to skip after the header\n",
        "\n",
        "header_row2 = 3  # The row that contains the column headers\n",
        "\n",
        "# Specify the range of rows you want to keep\n",
        "end_row = 13\n",
        "end_row2 = 117\n",
        "\n",
        "# Define the column range to import (skip the first blank column)\n",
        "use_columns = \"B:H\"  # Specify the range of columns you want to import\n",
        "use_columns2 = \"A:AA\"\n",
        "\n",
        "# Create paths\n",
        "householdwealthpath = '/content/drive/MyDrive/CFGdegree_Sum23_D1_G4/Data_Collection/Predicting_House_Prices/Household_Wealth_by_Ethnicity_GBR.xlsx'\n",
        "Housingaffordabilitypath = '/content/drive/MyDrive/CFGdegree_Sum23_D1_G4/Data_Collection/Predicting_House_Prices/Housing_Purchase_Affordability_Tables2022.xlsx'\n",
        "HomeOwnershippath = '/content/drive/MyDrive/CFGdegree_Sum23_D1_G4/Data_Collection/Predicting_House_Prices/home-ownership-spreadsheet.csv'\n",
        "UKHPI2022path = '/content/drive/MyDrive/CFGdegree_Sum23_D1_G4/Data_Collection/Predicting_House_Prices/UK-HPI-full-file-2022-01.csv'\n",
        "PricePaidRecordspath = '/content/drive/MyDrive/CFGdegree_Sum23_D1_G4/Data_Collection/Predicting_House_Prices/price_paid_records.csv'\n",
        "# Read and convert into a dataframe object\n",
        "WealthByEthnicity_df = pd.read_excel(householdwealthpath, sheet_name='Table 1', header=header_row, skiprows=skip_rows, usecols=use_columns)\n",
        "HousingAffordability_df = pd.read_excel(Housingaffordabilitypath, sheet_name='1', header=header_row2, usecols=use_columns2)\n",
        "HomeOwnership_df = pd.read_csv(HomeOwnershippath, encoding = 'unicode_escape')\n",
        "UKHPI2022_df = pd.read_csv(UKHPI2022path)\n",
        "PricePaidRecords_df = pd.read_csv(PricePaidRecordspath)\n",
        "# Select the specified range of rows\n",
        "WealthByEthnicity_df = WealthByEthnicity_df.iloc[0:end_row]\n",
        "HousingAffordability_df = HousingAffordability_df.iloc[0:end_row2]\n",
        "# Check data\n",
        "print(WealthByEthnicity_df.describe())\n",
        "print(HousingAffordability_df.describe())\n",
        "print(HomeOwnership_df.describe())\n",
        "print(UKHPI2022_df.describe())\n",
        "print(PricePaidRecords_df.describe())\n",
        "#HousingAffordability2022 = pd.DataFrame(pd.read_excel('/CFGdegree_Sum23_D1_G4/Data_Collection/Housing_Purchase_Affordability_Tables2022.xlsx')\n",
        "#HomeOwnership = pd.DataFrame(pd.read_csv('/content/drive/MyDrive/CFGdegree_Sum23_D1_G4/Data_Collection/Predicting_House_Prices/home-ownership-spreadsheet.csv'))\n",
        "#UKHPI2022 = pd.DataFrame(pd.read_csv(\"UK-HPI-full-file-2022-01.csv\"))\n",
        "#EHSHeadline2022 = pd.DataFrame(pd.read_excel(\"2021-22_EHS_Headline_Report_Section_1_Households_Figures.xlsx\"))\n",
        "#PricePaidRecords = pd.DataFrame(pd.read_csv(\"price_paid_records.csv\"))"
      ],
      "metadata": {
        "colab": {
          "base_uri": "https://localhost:8080/"
        },
        "id": "VuDGoQJUdPjW",
        "outputId": "840a46ca-dd7f-456c-ee12-e44fa6df0552"
      },
      "execution_count": null,
      "outputs": [
        {
          "output_type": "stream",
          "name": "stdout",
          "text": [
            "            Mean (£)  25th percentile (£)  50th percentile (£)  \\\n",
            "count      12.000000            12.000000            12.000000   \n",
            "mean   373308.333333         44233.333333        158433.333333   \n",
            "std    158714.342929         45807.112059        107891.345456   \n",
            "min    141100.000000          6800.000000         34300.000000   \n",
            "25%    286650.000000         11150.000000         74375.000000   \n",
            "50%    373500.000000         27050.000000        140000.000000   \n",
            "75%    428250.000000         56375.000000        245725.000000   \n",
            "max    665400.000000        152900.000000        313900.000000   \n",
            "\n",
            "       75th percentile (£)  Unweighted Frequency  Weighted Frequency  \n",
            "count            12.000000             12.000000        1.200000e+01  \n",
            "mean         460316.666667           1501.750000        2.158750e+06  \n",
            "std          193357.515468           4471.931109        6.014353e+06  \n",
            "min          140300.000000             37.000000        8.100000e+04  \n",
            "25%          339175.000000             89.750000        1.827500e+05  \n",
            "50%          467550.000000            130.000000        2.950000e+05  \n",
            "75%          552575.000000            317.500000        6.280000e+05  \n",
            "max          751200.000000          15685.000000        2.121300e+07  \n",
            "                2006           2007           2008           2009  \\\n",
            "count     117.000000     117.000000     117.000000     117.000000   \n",
            "mean   158207.888889  172748.538462  186642.606838  175489.239316   \n",
            "std     74565.652148   79691.250030   88634.909614   87010.537613   \n",
            "min     41480.000000   52500.000000   62000.000000   60000.000000   \n",
            "25%    105000.000000  117500.000000  123000.000000  115000.000000   \n",
            "50%    141095.000000  155000.000000  168500.000000  154995.000000   \n",
            "75%    192500.000000  205000.000000  226500.000000  216000.000000   \n",
            "max    475000.000000  530000.000000  590000.000000  597000.000000   \n",
            "\n",
            "                2010           2011           2012           2013  \\\n",
            "count     117.000000     117.000000     117.000000     117.000000   \n",
            "mean   175819.136752  183204.410256  178870.538462  182569.042735   \n",
            "std     91298.166120  102930.622746  101785.096207  108596.292308   \n",
            "min     60000.000000   60000.000000   50000.000000   47000.000000   \n",
            "25%    115000.000000  115000.000000  112000.000000  113000.000000   \n",
            "50%    154500.000000  155000.000000  152500.000000  155000.000000   \n",
            "75%    210000.000000  225950.000000  216789.000000  222000.000000   \n",
            "max    650000.000000  725000.000000  720000.000000  776359.000000   \n",
            "\n",
            "                2014           2015           2016           2017  \\\n",
            "count     117.000000     117.000000     117.000000     117.000000   \n",
            "mean   188718.726496  201902.735043  214279.418803  225852.333333   \n",
            "std    115677.025318  126499.405611  136142.039650  141433.607534   \n",
            "min     49950.000000   54951.000000   60000.000000   60000.000000   \n",
            "25%    116500.000000  123000.000000  128000.000000  133000.000000   \n",
            "50%    160000.000000  170000.000000  180000.000000  190000.000000   \n",
            "75%    230000.000000  248000.000000  267500.000000  277500.000000   \n",
            "max    840000.000000  915000.000000  945000.000000  955405.000000   \n",
            "\n",
            "               2018           2019          2020          2021          2022  \n",
            "count  1.170000e+02     117.000000  1.170000e+02  1.170000e+02  1.170000e+02  \n",
            "mean   2.364437e+05  240898.948718  2.471489e+05  2.725141e+05  2.750019e+05  \n",
            "std    1.509070e+05  147384.295921  1.520780e+05  1.652658e+05  1.693011e+05  \n",
            "min    6.250000e+04   63500.000000  6.500000e+04  6.695000e+04  7.000000e+04  \n",
            "25%    1.375000e+05  141000.000000  1.450000e+05  1.600000e+05  1.635000e+05  \n",
            "50%    1.999500e+05  205000.000000  2.100000e+05  2.300000e+05  2.350000e+05  \n",
            "75%    2.899500e+05  300000.000000  3.085000e+05  3.462610e+05  3.425000e+05  \n",
            "max    1.047500e+06  993000.000000  1.050000e+06  1.100000e+06  1.170000e+06  \n",
            "        Sample_size\n",
            "count    234.000000\n",
            "mean    3762.311966\n",
            "std     6080.672614\n",
            "min       12.000000\n",
            "25%      444.750000\n",
            "50%     1748.500000\n",
            "75%     3840.250000\n",
            "max    26416.000000\n",
            "       AveragePrice          Index      IndexSA      1m%Change     12m%Change  \\\n",
            "count  1.352500e+05  135250.000000  4539.000000  134807.000000  130210.000000   \n",
            "mean   1.663382e+05      80.502968    83.043165       0.574463       6.578408   \n",
            "std    1.119901e+05      34.574135    31.764825       2.001996       8.967794   \n",
            "min    2.712016e+03       1.096815    18.312610     -30.297781     -35.786566   \n",
            "25%    9.331214e+04      46.401927    56.601615      -0.432478       1.453098   \n",
            "50%    1.462071e+05      88.556950    89.887310       0.528818       5.551385   \n",
            "75%    2.086069e+05     105.609288   105.917289       1.523309      10.791316   \n",
            "max    1.479252e+06     221.485238   151.907012      35.286646      98.437940   \n",
            "\n",
            "       AveragePriceSA    SalesVolume  DetachedPrice  DetachedIndex  \\\n",
            "count     4539.000000  130751.000000   1.290000e+05  129000.000000   \n",
            "mean    156936.369427    1216.732140   2.930692e+05      81.937078   \n",
            "std      80878.336180    7591.352117   2.538515e+05      32.695509   \n",
            "min      40405.313840       2.000000   4.064610e+04      12.494361   \n",
            "25%     107785.612100     139.000000   1.625800e+05      51.574052   \n",
            "50%     147866.457400     215.000000   2.358328e+05      88.075041   \n",
            "75%     192838.313500     373.000000   3.400492e+05     104.859589   \n",
            "max     517465.608200  156531.000000   4.269390e+06     197.988967   \n",
            "\n",
            "       Detached1m%Change  ...      NewPrice       NewIndex   New1m%Change  \\\n",
            "count      128591.000000  ...  1.285150e+05  128515.000000  128105.000000   \n",
            "mean            0.520551  ...  1.986911e+05      82.277735       0.553568   \n",
            "std             1.763161  ...  1.163829e+05      33.820329       1.829101   \n",
            "min           -19.628465  ...  2.722990e+04       9.708894     -29.816368   \n",
            "25%            -0.444156  ...  1.202643e+05      50.667923      -0.454606   \n",
            "50%             0.504738  ...  1.825345e+05      88.318798       0.542908   \n",
            "75%             1.492517  ...  2.473388e+05     105.286675       1.553986   \n",
            "max            34.812357  ...  1.327172e+06     200.375456      34.946588   \n",
            "\n",
            "       New12m%Change  NewSalesVolume      OldPrice       OldIndex  \\\n",
            "count  123619.000000   128156.000000  1.285180e+05  128518.000000   \n",
            "mean        6.735921      128.249222  1.678213e+05      81.047492   \n",
            "std         8.466877      816.322286  1.109992e+05      32.623490   \n",
            "min       -28.851244        0.000000  2.278638e+04      10.097461   \n",
            "25%         1.823935        9.000000  9.638548e+04      48.830292   \n",
            "50%         5.761493       20.000000  1.469261e+05      88.763021   \n",
            "75%        11.228866       44.000000  2.082266e+05     105.018837   \n",
            "max        96.170727    21097.333330  1.489779e+06     207.478740   \n",
            "\n",
            "        Old1m%Change  Old12m%Change  OldSalesVolume  \n",
            "count  128108.000000  123622.000000   128506.000000  \n",
            "mean        0.513983       6.471868     1102.805519  \n",
            "std         1.789161       8.726435     6860.315835  \n",
            "min       -30.587732     -30.341125        2.000000  \n",
            "25%        -0.444748       1.368445      125.000000  \n",
            "50%         0.500265       5.446164      192.000000  \n",
            "75%         1.469834      10.661533      338.000000  \n",
            "max        35.552952      98.648458   151333.333300  \n",
            "\n",
            "[8 rows x 51 columns]\n",
            "              Price\n",
            "count  2.248935e+07\n",
            "mean   1.782442e+05\n",
            "std    3.903677e+05\n",
            "min    1.000000e+00\n",
            "25%    7.500000e+04\n",
            "50%    1.300000e+05\n",
            "75%    2.100000e+05\n",
            "max    9.890000e+07\n"
          ]
        }
      ]
    },
    {
      "cell_type": "markdown",
      "source": [
        "used .describe to check for outliers in numerical values (these are very large numbers so it's printed out with the exponent (e+....))\n",
        "- none in wealth by ethnicity\n",
        "- check values between 192000-520000 in average price for HousingAffordability_df to see any outliers (though i don't think any ouliers should be cast off as house prices really do differ that much!)\n",
        "-tbh a bit confused by the index columns so I would delete these.\n",
        "\n",
        "- everything else in all datasets looks good numerical data outliers-wise.\n"
      ],
      "metadata": {
        "id": "ceX8u30HmYCb"
      }
    },
    {
      "cell_type": "markdown",
      "source": [
        "- Although the datasets are clean anyway I'm now going through with.info to check the datatypes to see if any which we need as floats or numbers are strings etc, to know if we need to remove whitespace etc."
      ],
      "metadata": {
        "id": "xPn7b7oLtR4d"
      }
    },
    {
      "cell_type": "code",
      "source": [
        "print(WealthByEthnicity_df.head(10))\n",
        "#checking for nul values\n",
        "WealthByEthnicity_df.isnull().sum()\n",
        "WealthByEthnicity_df.info()"
      ],
      "metadata": {
        "colab": {
          "base_uri": "https://localhost:8080/"
        },
        "id": "tSJfqrgIZuJs",
        "outputId": "74f517c7-be78-44a2-8e6a-01aaf27212b6"
      },
      "execution_count": null,
      "outputs": [
        {
          "output_type": "stream",
          "name": "stdout",
          "text": [
            "                                       HRP Ethnicity  Mean (£)  \\\n",
            "0  Total household wealth including private pensi...       NaN   \n",
            "1                                      White British  590400.0   \n",
            "2                                        Other White  406400.0   \n",
            "3                                     Mixed/Multiple  397500.0   \n",
            "4                                             Indian  493800.0   \n",
            "5                                          Pakistani  302100.0   \n",
            "6                                        Bangladeshi  141100.0   \n",
            "7                             Other Asian background  367800.0   \n",
            "8                                    Black Caribbean  379200.0   \n",
            "9                                      Black African  147300.0   \n",
            "\n",
            "   25th percentile (£)  50th percentile (£)  75th percentile (£)  \\\n",
            "0                  NaN                  NaN                  NaN   \n",
            "1              85100.0             313900.0             747500.0   \n",
            "2              23800.0             118000.0             526900.0   \n",
            "3              30300.0             162000.0             479600.0   \n",
            "4             152900.0             313200.0             629600.0   \n",
            "5              46800.0             224500.0             356400.0   \n",
            "6               6800.0              65600.0             210700.0   \n",
            "7              33100.0             162100.0             455500.0   \n",
            "8              23200.0              85900.0             418600.0   \n",
            "9               7200.0              34300.0             140300.0   \n",
            "\n",
            "   Unweighted Frequency  Weighted Frequency  \n",
            "0                   NaN                 NaN  \n",
            "1               15685.0          21213000.0  \n",
            "2                 493.0           1048000.0  \n",
            "3                 124.0            229000.0  \n",
            "4                 259.0            488000.0  \n",
            "5                 123.0            282000.0  \n",
            "6                  39.0             95000.0  \n",
            "7                  71.0            155000.0  \n",
            "8                  96.0            192000.0  \n",
            "9                 136.0            308000.0  \n",
            "<class 'pandas.core.frame.DataFrame'>\n",
            "RangeIndex: 13 entries, 0 to 12\n",
            "Data columns (total 7 columns):\n",
            " #   Column                Non-Null Count  Dtype  \n",
            "---  ------                --------------  -----  \n",
            " 0   HRP Ethnicity         13 non-null     object \n",
            " 1   Mean (£)              12 non-null     float64\n",
            " 2   25th percentile (£)   12 non-null     float64\n",
            " 3   50th percentile (£)   12 non-null     float64\n",
            " 4   75th percentile (£)   12 non-null     float64\n",
            " 5   Unweighted Frequency  12 non-null     float64\n",
            " 6   Weighted Frequency    12 non-null     float64\n",
            "dtypes: float64(6), object(1)\n",
            "memory usage: 856.0+ bytes\n"
          ]
        }
      ]
    },
    {
      "cell_type": "markdown",
      "source": [
        "This looks all good- will now quickly check for duplicates:"
      ],
      "metadata": {
        "id": "WtMIaUN4_VPA"
      }
    },
    {
      "cell_type": "code",
      "source": [
        "def count_duplicates_drop(df):\n",
        "  duplicates = df[df.duplicated()].shape[0]\n",
        "  print('Duplicates Number: ',duplicates)\n",
        "  df.drop_duplicates(inplace = True)\n",
        "  print('Still any duplicates?: ',duplicates)\n",
        "\n",
        "\n",
        "count_duplicates_drop(WealthByEthnicity_df)"
      ],
      "metadata": {
        "colab": {
          "base_uri": "https://localhost:8080/"
        },
        "id": "Y0fy7-g7_cox",
        "outputId": "88806f06-ec63-4ce6-cbe7-07c7ae6b1cf9"
      },
      "execution_count": null,
      "outputs": [
        {
          "output_type": "stream",
          "name": "stdout",
          "text": [
            "Duplicates Number:  0\n",
            "Still any duplicates?:  0\n"
          ]
        }
      ]
    },
    {
      "cell_type": "code",
      "source": [
        "print(HousingAffordability_df.head(10))\n",
        "#checking for nul values\n",
        "HousingAffordability_df.isnull().sum()\n",
        "HousingAffordability_df.info()"
      ],
      "metadata": {
        "id": "b1QtuxxJZm5X",
        "colab": {
          "base_uri": "https://localhost:8080/"
        },
        "outputId": "99e29182-7282-4dc7-bead-779f0c6ee730"
      },
      "execution_count": null,
      "outputs": [
        {
          "output_type": "stream",
          "name": "stdout",
          "text": [
            "  Country/Region code Country/Region name House price decile    1999    2000  \\\n",
            "0           E92000001             England    10th percentile   33000   35500   \n",
            "1           E92000001             England    20th percentile   42105   46229   \n",
            "2           E92000001             England    30th percentile   50000   55995   \n",
            "3           E92000001             England    40th percentile   58500   65000   \n",
            "4           E92000001             England    50th percentile   67000   75495   \n",
            "5           E92000001             England    60th percentile   78000   88000   \n",
            "6           E92000001             England    70th percentile   91500  107000   \n",
            "7           E92000001             England    80th percentile  116000  133000   \n",
            "8           E92000001             England    90th percentile  158500  182000   \n",
            "9           E12000001          North East    10th percentile   22000   23500   \n",
            "\n",
            "     2001    2002    2003    2004    2005  ...    2013    2014    2015  \\\n",
            "0   36000   39450   45000   57500   73500  ...   89500   92000   95000   \n",
            "1   49000   55000   65000   80000   96500  ...  117000  120000  124995   \n",
            "2   59950   68000   82000   98000  119000  ...  137500  142000  149000   \n",
            "3   71000   80950   98000  119000  135950  ...  160000  165000  172500   \n",
            "4   83500   95000  118595  136000  155000  ...  185000  190000  200000   \n",
            "5   97995  115000  137500  157000  175000  ...  216000  223000  236000   \n",
            "6  120000  135000  162000  180000  202000  ...  250000  250000  275000   \n",
            "7  148500  165000  195000  220000  242500  ...  310000  320000  344950   \n",
            "8  205000  227000  250000  282500  314995  ...  427000  445001  475000   \n",
            "9   22500   23000   25000   30000   43000  ...   58000   58500   60000   \n",
            "\n",
            "     2016    2017    2018    2019    2020    2021    2022  \n",
            "0   99950  103499  106000  110000  113000  125000  125000  \n",
            "1  129950  134500  138950  142500  147500  164950  165000  \n",
            "2  155000  162000  168000  172500  178000  200000  200000  \n",
            "3  181500  190000  199950  205000  210000  237500  235000  \n",
            "4  215000  225000  235000  240000  247500  277500  275000  \n",
            "5  251000  265000  275000  280000  286000  325000  320000  \n",
            "6  300000  315000  325000  330000  338000  380000  375000  \n",
            "7  370000  384000  399950  400000  410000  464950  460000  \n",
            "8  501000  515000  535000  535000  550000  615000  625000  \n",
            "9   60000   61000   62500   63500   65000   66950   70000  \n",
            "\n",
            "[10 rows x 27 columns]\n",
            "<class 'pandas.core.frame.DataFrame'>\n",
            "RangeIndex: 117 entries, 0 to 116\n",
            "Data columns (total 27 columns):\n",
            " #   Column               Non-Null Count  Dtype \n",
            "---  ------               --------------  ----- \n",
            " 0   Country/Region code  117 non-null    object\n",
            " 1   Country/Region name  117 non-null    object\n",
            " 2   House price decile   117 non-null    object\n",
            " 3   1999                 117 non-null    object\n",
            " 4   2000                 117 non-null    object\n",
            " 5   2001                 117 non-null    object\n",
            " 6   2002                 117 non-null    object\n",
            " 7   2003                 117 non-null    object\n",
            " 8   2004                 117 non-null    object\n",
            " 9   2005                 117 non-null    object\n",
            " 10  2006                 117 non-null    int64 \n",
            " 11  2007                 117 non-null    int64 \n",
            " 12  2008                 117 non-null    int64 \n",
            " 13  2009                 117 non-null    int64 \n",
            " 14  2010                 117 non-null    int64 \n",
            " 15  2011                 117 non-null    int64 \n",
            " 16  2012                 117 non-null    int64 \n",
            " 17  2013                 117 non-null    int64 \n",
            " 18  2014                 117 non-null    int64 \n",
            " 19  2015                 117 non-null    int64 \n",
            " 20  2016                 117 non-null    int64 \n",
            " 21  2017                 117 non-null    int64 \n",
            " 22  2018                 117 non-null    int64 \n",
            " 23  2019                 117 non-null    int64 \n",
            " 24  2020                 117 non-null    int64 \n",
            " 25  2021                 117 non-null    int64 \n",
            " 26  2022                 117 non-null    int64 \n",
            "dtypes: int64(17), object(10)\n",
            "memory usage: 24.8+ KB\n"
          ]
        }
      ]
    },
    {
      "cell_type": "markdown",
      "source": [
        "- here the dates 1999-2005 are objects- these should be changed to int64 to match the rest of the values so we can work on them.\n",
        "- its actually false that there are non non-null values here - they have replaced the null values with ':' - My reccomendation is to remove all of the data on scotland and northern ireland and focus on england as these are what is causing an issue\n",
        "- this is what I've done in the following code:"
      ],
      "metadata": {
        "id": "yXooO-6tt095"
      }
    },
    {
      "cell_type": "code",
      "source": [
        "import numpy as np\n",
        "\n",
        "HousingAffordability_df = HousingAffordability_df.replace(':', np.NaN)\n",
        "HousingAffordability_df = HousingAffordability_df.dropna()\n",
        "\n",
        "\n",
        "HousingAffordability_df['1999'] = HousingAffordability_df['1999'].astype('int64')\n",
        "HousingAffordability_df['2000'] = HousingAffordability_df['2000'].astype('int64')\n",
        "HousingAffordability_df['2001'] = HousingAffordability_df['2001'].astype('int64')\n",
        "HousingAffordability_df['2002'] = HousingAffordability_df['2002'].astype('int64')\n",
        "HousingAffordability_df['2003'] = HousingAffordability_df['2003'].astype('int64')\n",
        "HousingAffordability_df['2004'] = HousingAffordability_df['2004'].astype('int64')\n",
        "HousingAffordability_df['2005'] = HousingAffordability_df['2005'].astype('int64')\n",
        "HousingAffordability_df.info()\n",
        "\n",
        "count_duplicates_drop(HousingAffordability_df)"
      ],
      "metadata": {
        "colab": {
          "base_uri": "https://localhost:8080/"
        },
        "id": "FwNjeVt2uCcn",
        "outputId": "fa300365-64bd-405a-c189-4101e6aa0a3f"
      },
      "execution_count": null,
      "outputs": [
        {
          "output_type": "stream",
          "name": "stdout",
          "text": [
            "<class 'pandas.core.frame.DataFrame'>\n",
            "Int64Index: 99 entries, 0 to 98\n",
            "Data columns (total 27 columns):\n",
            " #   Column               Non-Null Count  Dtype \n",
            "---  ------               --------------  ----- \n",
            " 0   Country/Region code  99 non-null     object\n",
            " 1   Country/Region name  99 non-null     object\n",
            " 2   House price decile   99 non-null     object\n",
            " 3   1999                 99 non-null     int64 \n",
            " 4   2000                 99 non-null     int64 \n",
            " 5   2001                 99 non-null     int64 \n",
            " 6   2002                 99 non-null     int64 \n",
            " 7   2003                 99 non-null     int64 \n",
            " 8   2004                 99 non-null     int64 \n",
            " 9   2005                 99 non-null     int64 \n",
            " 10  2006                 99 non-null     int64 \n",
            " 11  2007                 99 non-null     int64 \n",
            " 12  2008                 99 non-null     int64 \n",
            " 13  2009                 99 non-null     int64 \n",
            " 14  2010                 99 non-null     int64 \n",
            " 15  2011                 99 non-null     int64 \n",
            " 16  2012                 99 non-null     int64 \n",
            " 17  2013                 99 non-null     int64 \n",
            " 18  2014                 99 non-null     int64 \n",
            " 19  2015                 99 non-null     int64 \n",
            " 20  2016                 99 non-null     int64 \n",
            " 21  2017                 99 non-null     int64 \n",
            " 22  2018                 99 non-null     int64 \n",
            " 23  2019                 99 non-null     int64 \n",
            " 24  2020                 99 non-null     int64 \n",
            " 25  2021                 99 non-null     int64 \n",
            " 26  2022                 99 non-null     int64 \n",
            "dtypes: int64(24), object(3)\n",
            "memory usage: 21.7+ KB\n",
            "Duplicates Number:  0\n",
            "Still any duplicates?:  0\n"
          ]
        }
      ]
    },
    {
      "cell_type": "code",
      "source": [
        "print(HomeOwnership_df.head(10))\n",
        "#checking for nul values\n",
        "HomeOwnership_df.isnull().sum()\n",
        "HomeOwnership_df.info()"
      ],
      "metadata": {
        "colab": {
          "base_uri": "https://localhost:8080/"
        },
        "id": "xvtIDRD52dxM",
        "outputId": "d5d4390c-0920-4c72-9e6b-45851aac893a"
      },
      "execution_count": null,
      "outputs": [
        {
          "output_type": "stream",
          "name": "stdout",
          "text": [
            "                                       Measure                 Time  \\\n",
            "0  Percentage of households who own their home  2016-17 and 2017-18   \n",
            "1  Percentage of households who own their home  2016-17 and 2017-18   \n",
            "2  Percentage of households who own their home  2016-17 and 2017-18   \n",
            "3  Percentage of households who own their home  2016-17 and 2017-18   \n",
            "4  Percentage of households who own their home  2016-17 and 2017-18   \n",
            "5  Percentage of households who own their home  2016-17 and 2017-18   \n",
            "6  Percentage of households who own their home  2016-17 and 2017-18   \n",
            "7  Percentage of households who own their home  2016-17 and 2017-18   \n",
            "8  Percentage of households who own their home  2016-17 and 2017-18   \n",
            "9  Percentage of households who own their home  2016-17 and 2017-18   \n",
            "\n",
            "   Time_type                        Ethnicity Ethnicity_type Geography  \\\n",
            "0  Two years                    White British  ONS 2011 18+1   England   \n",
            "1  Two years                      White Irish  ONS 2011 18+1   England   \n",
            "2  Two years   White Gypsy or Irish Traveller  ONS 2011 18+1   England   \n",
            "3  Two years                      White Other  ONS 2011 18+1   England   \n",
            "4  Two years  Mixed White and Black Caribbean  ONS 2011 18+1   England   \n",
            "5  Two years    Mixed White and Black African  ONS 2011 18+1   England   \n",
            "6  Two years            Mixed White and Asian  ONS 2011 18+1   England   \n",
            "7  Two years                      Mixed Other  ONS 2011 18+1   England   \n",
            "8  Two years                           Indian  ONS 2011 18+1   England   \n",
            "9  Two years                        Pakistani  ONS 2011 18+1   England   \n",
            "\n",
            "  Age_group NS-SEC Income_band Region        Value Numerator Denominator  \\\n",
            "0       All    All         All    All  68.12514457     12851       18863   \n",
            "1       All    All         All    All  56.32688461       120         213   \n",
            "2       All    All         All    All            ?         ?           ?   \n",
            "3       All    All         All    All  29.71161152       388        1307   \n",
            "4       All    All         All    All  32.16964928        30          93   \n",
            "5       All    All         All    All  34.06423961        29          85   \n",
            "6       All    All         All    All   70.3166572        36          52   \n",
            "7       All    All         All    All  42.43383405        31          73   \n",
            "8       All    All         All    All  73.77612855       406         550   \n",
            "9       All    All         All    All   57.8657488       207         358   \n",
            "\n",
            "   Sample_size  \n",
            "0        21556  \n",
            "1          233  \n",
            "2           12  \n",
            "3         1420  \n",
            "4          102  \n",
            "5           97  \n",
            "6           61  \n",
            "7           78  \n",
            "8          563  \n",
            "9          399  \n",
            "<class 'pandas.core.frame.DataFrame'>\n",
            "RangeIndex: 234 entries, 0 to 233\n",
            "Data columns (total 14 columns):\n",
            " #   Column          Non-Null Count  Dtype \n",
            "---  ------          --------------  ----- \n",
            " 0   Measure         234 non-null    object\n",
            " 1   Time            234 non-null    object\n",
            " 2   Time_type       234 non-null    object\n",
            " 3   Ethnicity       234 non-null    object\n",
            " 4   Ethnicity_type  234 non-null    object\n",
            " 5   Geography       234 non-null    object\n",
            " 6   Age_group       234 non-null    object\n",
            " 7   NS-SEC          234 non-null    object\n",
            " 8   Income_band     234 non-null    object\n",
            " 9   Region          234 non-null    object\n",
            " 10  Value           234 non-null    object\n",
            " 11  Numerator       234 non-null    object\n",
            " 12  Denominator     234 non-null    object\n",
            " 13  Sample_size     234 non-null    int64 \n",
            "dtypes: int64(1), object(13)\n",
            "memory usage: 25.7+ KB\n"
          ]
        }
      ]
    },
    {
      "cell_type": "markdown",
      "source": [
        "Here we want the Value (percentage), to be float and the Numerator and Denominator to be int so I'll change their values:\n",
        "\n",
        "I also want to delete the column 'ethnicity type' and change the 'time column to two columns 'start time' and 'end time' as dates to make this easier when we analyse and visualise the data.\n",
        "\n",
        "'?' was found instead of a null value in one row-'white gypsy/irish' meaning there is no data on the percentage of homowners in this group. I'll delete this row."
      ],
      "metadata": {
        "id": "Kj3M7P7f46cV"
      }
    },
    {
      "cell_type": "code",
      "source": [
        "#HomeOwnership_df = HomeOwnership_df.drop(['Ethnicity_type'], axis=1)\n",
        "\n",
        "HomeOwnership_df = HomeOwnership_df.replace('?', np.NaN)\n",
        "HomeOwnership_df = HomeOwnership_df.dropna()\n",
        "\n",
        "HomeOwnership_df['Value'] = HomeOwnership_df['Value'].astype('float64')\n",
        "HomeOwnership_df['Numerator'] = HomeOwnership_df['Numerator'].astype('int64')\n",
        "HomeOwnership_df['Denominator'] = HomeOwnership_df['Denominator'].astype('int64')\n",
        "\n",
        "HomeOwnership_df['Start_year'] = ((HomeOwnership_df['Time'].str[:4]).astype('int64'))\n",
        "HomeOwnership_df['End_year'] = ((HomeOwnership_df['Start_year'].astype('int64')) +2 )\n",
        "HomeOwnership_df['Start_year'] = HomeOwnership_df['Start_year'].apply(lambda x: pd.to_datetime(str(x),format='%Y'))\n",
        "HomeOwnership_df['End_year'] = HomeOwnership_df['End_year'].apply(lambda x: pd.to_datetime(str(x),format='%Y'))\n",
        "HomeOwnership_df.head()\n",
        "\n",
        "count_duplicates_drop(HomeOwnership_df)"
      ],
      "metadata": {
        "colab": {
          "base_uri": "https://localhost:8080/"
        },
        "id": "IvcqgY_S45zP",
        "outputId": "0b49184a-306b-422d-bdbd-b1f74d453462"
      },
      "execution_count": null,
      "outputs": [
        {
          "output_type": "stream",
          "name": "stdout",
          "text": [
            "Duplicates Number:  0\n",
            "Still any duplicates?:  0\n"
          ]
        }
      ]
    },
    {
      "cell_type": "code",
      "source": [],
      "metadata": {
        "id": "eUeNSwe29G_B"
      },
      "execution_count": null,
      "outputs": []
    },
    {
      "cell_type": "code",
      "source": [
        "print(UKHPI2022_df.head(10))\n",
        "#checking for nul values\n",
        "UKHPI2022_df.isnull().sum()\n",
        "UKHPI2022_df['Structured_Date']= UKHPI2022_df['Date'].apply(lambda x: pd.to_datetime(str(x),format = '%d/%m/%Y'))\n",
        "UKHPI2022_df.info()"
      ],
      "metadata": {
        "colab": {
          "base_uri": "https://localhost:8080/"
        },
        "id": "383SxXC_2eAL",
        "outputId": "d5e03fc5-d185-425d-ac5e-2e54943b914e"
      },
      "execution_count": null,
      "outputs": [
        {
          "output_type": "stream",
          "name": "stdout",
          "text": [
            "         Date     RegionName   AreaCode  AveragePrice      Index  IndexSA  \\\n",
            "0  01/01/2004  Aberdeenshire  S12000034   81693.66964  40.864214      NaN   \n",
            "1  01/02/2004  Aberdeenshire  S12000034   81678.76231  40.856757      NaN   \n",
            "2  01/03/2004  Aberdeenshire  S12000034   83525.09702  41.780317      NaN   \n",
            "3  01/04/2004  Aberdeenshire  S12000034   84333.67900  42.184780      NaN   \n",
            "4  01/05/2004  Aberdeenshire  S12000034   86379.95396  43.208353      NaN   \n",
            "5  01/06/2004  Aberdeenshire  S12000034   89267.61305  44.652797      NaN   \n",
            "6  01/07/2004  Aberdeenshire  S12000034   93047.50105  46.543545      NaN   \n",
            "7  01/08/2004  Aberdeenshire  S12000034   97790.66757  48.916137      NaN   \n",
            "8  01/09/2004  Aberdeenshire  S12000034   98663.95545  49.352967      NaN   \n",
            "9  01/10/2004  Aberdeenshire  S12000034   99083.88349  49.563020      NaN   \n",
            "\n",
            "   1m%Change  12m%Change  AveragePriceSA  SalesVolume  ...      NewPrice  \\\n",
            "0        NaN         NaN             NaN        388.0  ...   88436.13953   \n",
            "1  -0.018248         NaN             NaN        326.0  ...   88606.44649   \n",
            "2   2.260483         NaN             NaN        453.0  ...   90296.91375   \n",
            "3   0.968071         NaN             NaN        571.0  ...   90319.87844   \n",
            "4   2.426403         NaN             NaN        502.0  ...   91989.17763   \n",
            "5   3.342974         NaN             NaN        525.0  ...   94964.60319   \n",
            "6   4.234333         NaN             NaN        652.0  ...   98682.59954   \n",
            "7   5.097575         NaN             NaN        512.0  ...  103223.74280   \n",
            "8   0.893018         NaN             NaN        497.0  ...  103855.90760   \n",
            "9   0.425614         NaN             NaN        590.0  ...  104867.86010   \n",
            "\n",
            "    NewIndex  New1m%Change  New12m%Change  NewSalesVolume     OldPrice  \\\n",
            "0  40.267250           NaN            NaN           103.0  81043.95084   \n",
            "1  40.344795      0.192576            NaN           107.0  80965.29542   \n",
            "2  41.114508      1.907838            NaN           140.0  82903.23948   \n",
            "3  41.124964      0.025432            NaN           180.0  84003.99161   \n",
            "4  41.885039      1.848208            NaN           167.0  86222.73484   \n",
            "5  43.239827      3.234539            NaN           164.0  89139.77924   \n",
            "6  44.932726      3.915139            NaN           163.0  93022.86929   \n",
            "7  47.000426      4.601767            NaN           130.0  97937.62146   \n",
            "8  47.288267      0.612422            NaN           142.0  98913.87933   \n",
            "9  47.749035      0.974381            NaN           164.0  99131.45382   \n",
            "\n",
            "    OldIndex  Old1m%Change  Old12m%Change  OldSalesVolume  \n",
            "0  40.883367           NaN            NaN           285.0  \n",
            "1  40.843688     -0.097053            NaN           219.0  \n",
            "2  41.821302      2.393549            NaN           313.0  \n",
            "3  42.376586      1.327755            NaN           391.0  \n",
            "4  43.495852      2.641235            NaN           335.0  \n",
            "5  44.967382      3.383150            NaN           361.0  \n",
            "6  46.926242      4.356181            NaN           489.0  \n",
            "7  49.405534      5.283381            NaN           382.0  \n",
            "8  49.898016      0.996816            NaN           355.0  \n",
            "9  50.007774      0.219964            NaN           426.0  \n",
            "\n",
            "[10 rows x 54 columns]\n",
            "<class 'pandas.core.frame.DataFrame'>\n",
            "RangeIndex: 135250 entries, 0 to 135249\n",
            "Data columns (total 55 columns):\n",
            " #   Column                  Non-Null Count   Dtype         \n",
            "---  ------                  --------------   -----         \n",
            " 0   Date                    135250 non-null  object        \n",
            " 1   RegionName              135250 non-null  object        \n",
            " 2   AreaCode                135250 non-null  object        \n",
            " 3   AveragePrice            135250 non-null  float64       \n",
            " 4   Index                   135250 non-null  float64       \n",
            " 5   IndexSA                 4539 non-null    float64       \n",
            " 6   1m%Change               134807 non-null  float64       \n",
            " 7   12m%Change              130210 non-null  float64       \n",
            " 8   AveragePriceSA          4539 non-null    float64       \n",
            " 9   SalesVolume             130751 non-null  float64       \n",
            " 10  DetachedPrice           129000 non-null  float64       \n",
            " 11  DetachedIndex           129000 non-null  float64       \n",
            " 12  Detached1m%Change       128591 non-null  float64       \n",
            " 13  Detached12m%Change      124116 non-null  float64       \n",
            " 14  SemiDetachedPrice       129013 non-null  float64       \n",
            " 15  SemiDetachedIndex       129013 non-null  float64       \n",
            " 16  SemiDetached1m%Change   128604 non-null  float64       \n",
            " 17  SemiDetached12m%Change  124129 non-null  float64       \n",
            " 18  TerracedPrice           129040 non-null  float64       \n",
            " 19  TerracedIndex           129040 non-null  float64       \n",
            " 20  Terraced1m%Change       128631 non-null  float64       \n",
            " 21  Terraced12m%Change      124156 non-null  float64       \n",
            " 22  FlatPrice               129338 non-null  float64       \n",
            " 23  FlatIndex               129338 non-null  float64       \n",
            " 24  Flat1m%Change           128928 non-null  float64       \n",
            " 25  Flat12m%Change          124442 non-null  float64       \n",
            " 26  CashPrice               49368 non-null   float64       \n",
            " 27  CashIndex               49368 non-null   float64       \n",
            " 28  Cash1m%Change           48962 non-null   float64       \n",
            " 29  Cash12m%Change          44496 non-null   float64       \n",
            " 30  CashSalesVolume         48551 non-null   float64       \n",
            " 31  MortgagePrice           49368 non-null   float64       \n",
            " 32  MortgageIndex           49368 non-null   float64       \n",
            " 33  Mortgage1m%Change       48962 non-null   float64       \n",
            " 34  Mortgage12m%Change      44496 non-null   float64       \n",
            " 35  MortgageSalesVolume     48552 non-null   float64       \n",
            " 36  FTBPrice                49764 non-null   float64       \n",
            " 37  FTBIndex                49764 non-null   float64       \n",
            " 38  FTB1m%Change            49358 non-null   float64       \n",
            " 39  FTB12m%Change           44892 non-null   float64       \n",
            " 40  FOOPrice                49368 non-null   float64       \n",
            " 41  FOOIndex                49368 non-null   float64       \n",
            " 42  FOO1m%Change            48962 non-null   float64       \n",
            " 43  FOO12m%Change           44496 non-null   float64       \n",
            " 44  NewPrice                128515 non-null  float64       \n",
            " 45  NewIndex                128515 non-null  float64       \n",
            " 46  New1m%Change            128105 non-null  float64       \n",
            " 47  New12m%Change           123619 non-null  float64       \n",
            " 48  NewSalesVolume          128156 non-null  float64       \n",
            " 49  OldPrice                128518 non-null  float64       \n",
            " 50  OldIndex                128518 non-null  float64       \n",
            " 51  Old1m%Change            128108 non-null  float64       \n",
            " 52  Old12m%Change           123622 non-null  float64       \n",
            " 53  OldSalesVolume          128506 non-null  float64       \n",
            " 54  Structured_Date         135250 non-null  datetime64[ns]\n",
            "dtypes: datetime64[ns](1), float64(51), object(3)\n",
            "memory usage: 56.8+ MB\n"
          ]
        }
      ]
    },
    {
      "cell_type": "code",
      "source": [
        "count_duplicates_drop(UKHPI2022_df)"
      ],
      "metadata": {
        "colab": {
          "base_uri": "https://localhost:8080/"
        },
        "id": "wBZIsHyQB5xz",
        "outputId": "413f6422-033d-416a-a738-1fe35af0e6fa"
      },
      "execution_count": null,
      "outputs": [
        {
          "output_type": "stream",
          "name": "stdout",
          "text": [
            "Duplicates Number:  0\n",
            "Still any duplicates?:  0\n"
          ]
        }
      ]
    },
    {
      "cell_type": "markdown",
      "source": [
        "I'm going to start by finding which column has the most missing data by percentage then delete the ones which are the highest"
      ],
      "metadata": {
        "id": "_ZaES1bbIe9W"
      }
    },
    {
      "cell_type": "code",
      "source": [
        "Percent_null = UKHPI2022_df.isnull().mean()*100\n",
        "print(Percent_null)"
      ],
      "metadata": {
        "colab": {
          "base_uri": "https://localhost:8080/"
        },
        "id": "2BxlChYUIq5h",
        "outputId": "a30186d1-d5d5-41b6-a827-ea007045b765"
      },
      "execution_count": null,
      "outputs": [
        {
          "output_type": "stream",
          "name": "stdout",
          "text": [
            "Date                       0.000000\n",
            "RegionName                 0.000000\n",
            "AreaCode                   0.000000\n",
            "AveragePrice               0.000000\n",
            "Index                      0.000000\n",
            "IndexSA                   96.643993\n",
            "1m%Change                  0.327542\n",
            "12m%Change                 3.726433\n",
            "AveragePriceSA            96.643993\n",
            "SalesVolume                3.326433\n",
            "DetachedPrice              4.621072\n",
            "DetachedIndex              4.621072\n",
            "Detached1m%Change          4.923475\n",
            "Detached12m%Change         8.232163\n",
            "SemiDetachedPrice          4.611460\n",
            "SemiDetachedIndex          4.611460\n",
            "SemiDetached1m%Change      4.913863\n",
            "SemiDetached12m%Change     8.222551\n",
            "TerracedPrice              4.591497\n",
            "TerracedIndex              4.591497\n",
            "Terraced1m%Change          4.893900\n",
            "Terraced12m%Change         8.202588\n",
            "FlatPrice                  4.371165\n",
            "FlatIndex                  4.371165\n",
            "Flat1m%Change              4.674307\n",
            "Flat12m%Change             7.991128\n",
            "CashPrice                 63.498706\n",
            "CashIndex                 63.498706\n",
            "Cash1m%Change             63.798891\n",
            "Cash12m%Change            67.100924\n",
            "CashSalesVolume           64.102773\n",
            "MortgagePrice             63.498706\n",
            "MortgageIndex             63.498706\n",
            "Mortgage1m%Change         63.798891\n",
            "Mortgage12m%Change        67.100924\n",
            "MortgageSalesVolume       64.102033\n",
            "FTBPrice                  63.205915\n",
            "FTBIndex                  63.205915\n",
            "FTB1m%Change              63.506100\n",
            "FTB12m%Change             66.808133\n",
            "FOOPrice                  63.498706\n",
            "FOOIndex                  63.498706\n",
            "FOO1m%Change              63.798891\n",
            "FOO12m%Change             67.100924\n",
            "NewPrice                   4.979667\n",
            "NewIndex                   4.979667\n",
            "New1m%Change               5.282810\n",
            "New12m%Change              8.599630\n",
            "NewSalesVolume             5.245102\n",
            "OldPrice                   4.977449\n",
            "OldIndex                   4.977449\n",
            "Old1m%Change               5.280591\n",
            "Old12m%Change              8.597412\n",
            "OldSalesVolume             4.986322\n",
            "Structured_Date            0.000000\n",
            "dtype: float64\n"
          ]
        }
      ]
    },
    {
      "cell_type": "markdown",
      "source": [
        "the columns IndexSA and AveragePriceSA can definitely go as over 90% is missing - the rest we'll have to sort out row-wise."
      ],
      "metadata": {
        "id": "EruVPCGqJBSH"
      }
    },
    {
      "cell_type": "code",
      "source": [
        "UKHPI2022_df = UKHPI2022_df.drop(['IndexSA','AveragePriceSA' ], axis=1)"
      ],
      "metadata": {
        "id": "TOf5JTsPJPfj"
      },
      "execution_count": null,
      "outputs": []
    },
    {
      "cell_type": "code",
      "source": [
        "print(PricePaidRecords_df.head(10))\n",
        "#checking for nul values\n",
        "PricePaidRecords_df.isnull().sum()\n",
        "PricePaidRecords_df.info()"
      ],
      "metadata": {
        "colab": {
          "base_uri": "https://localhost:8080/"
        },
        "id": "SgJkdLMv2eN0",
        "outputId": "1dee74a2-227a-4a52-871c-642875180889"
      },
      "execution_count": null,
      "outputs": [
        {
          "output_type": "stream",
          "name": "stdout",
          "text": [
            "            Transaction unique identifier  Price  Date of Transfer  \\\n",
            "0  {81B82214-7FBC-4129-9F6B-4956B4A663AD}  25000  1995-08-18 00:00   \n",
            "1  {8046EC72-1466-42D6-A753-4956BF7CD8A2}  42500  1995-08-09 00:00   \n",
            "2  {278D581A-5BF3-4FCE-AF62-4956D87691E6}  45000  1995-06-30 00:00   \n",
            "3  {1D861C06-A416-4865-973C-4956DB12CD12}  43150  1995-11-24 00:00   \n",
            "4  {DD8645FD-A815-43A6-A7BA-4956E58F1874}  18899  1995-06-23 00:00   \n",
            "5  {895E4E63-203F-476A-9AA9-42389DD0AE5C}  81750  1995-05-19 00:00   \n",
            "6  {FB195C27-E790-45FD-847A-4238BC94546A}  56000  1995-03-10 00:00   \n",
            "7  {1D6B01EC-DC33-4147-8A21-4238BEB2D4C1}  31000  1995-03-02 00:00   \n",
            "8  {B8D0F817-4553-448D-A2C1-4238BF81C6FA}  82000  1995-06-16 00:00   \n",
            "9  {6DD27423-CC39-4B31-A848-4238D58268D4}  10000  1995-05-17 00:00   \n",
            "\n",
            "  Property Type Old/New Duration    Town/City            District  \\\n",
            "0             T       N        F       OLDHAM              OLDHAM   \n",
            "1             S       N        F        GRAYS            THURROCK   \n",
            "2             T       N        F   HIGHBRIDGE           SEDGEMOOR   \n",
            "3             T       N        F      BEDFORD  NORTH BEDFORDSHIRE   \n",
            "4             S       N        F    WAKEFIELD               LEEDS   \n",
            "5             S       N        F    SALISBURY           SALISBURY   \n",
            "6             S       N        F       WITNEY    WEST OXFORDSHIRE   \n",
            "7             S       N        F  ST. AUSTELL           RESTORMEL   \n",
            "8             S       N        F    GREENFORD              EALING   \n",
            "9             T       N        F     FERNDALE             RHONDDA   \n",
            "\n",
            "               County PPDCategory Type Record Status - monthly file only  \n",
            "0  GREATER MANCHESTER                A                                 A  \n",
            "1            THURROCK                A                                 A  \n",
            "2            SOMERSET                A                                 A  \n",
            "3        BEDFORDSHIRE                A                                 A  \n",
            "4      WEST YORKSHIRE                A                                 A  \n",
            "5           WILTSHIRE                A                                 A  \n",
            "6         OXFORDSHIRE                A                                 A  \n",
            "7            CORNWALL                A                                 A  \n",
            "8      GREATER LONDON                A                                 A  \n",
            "9       MID GLAMORGAN                A                                 A  \n",
            "<class 'pandas.core.frame.DataFrame'>\n",
            "RangeIndex: 22489348 entries, 0 to 22489347\n",
            "Data columns (total 11 columns):\n",
            " #   Column                             Dtype \n",
            "---  ------                             ----- \n",
            " 0   Transaction unique identifier      object\n",
            " 1   Price                              int64 \n",
            " 2   Date of Transfer                   object\n",
            " 3   Property Type                      object\n",
            " 4   Old/New                            object\n",
            " 5   Duration                           object\n",
            " 6   Town/City                          object\n",
            " 7   District                           object\n",
            " 8   County                             object\n",
            " 9   PPDCategory Type                   object\n",
            " 10  Record Status - monthly file only  object\n",
            "dtypes: int64(1), object(10)\n",
            "memory usage: 1.8+ GB\n"
          ]
        }
      ]
    },
    {
      "cell_type": "code",
      "source": [
        "count_duplicates_drop(PricePaidRecords_df)"
      ],
      "metadata": {
        "colab": {
          "base_uri": "https://localhost:8080/"
        },
        "id": "uV7xcZf6CFIv",
        "outputId": "9369d2f7-e236-464a-eaaf-5a911cc354d8"
      },
      "execution_count": null,
      "outputs": [
        {
          "output_type": "stream",
          "name": "stdout",
          "text": [
            "Duplicates Number:  0\n",
            "Still any duplicates?:  0\n"
          ]
        }
      ]
    },
    {
      "cell_type": "markdown",
      "source": [
        "I'll change the 'date of transfer to a datetime type??"
      ],
      "metadata": {
        "id": "EpLVZXfgF_NG"
      }
    },
    {
      "cell_type": "code",
      "source": [
        "#PricePaidRecords_df['Date of Transfer']= PricePaidRecords_df['Date of Transfer'].apply(lambda x: pd.to_datetime(str(x),format = '%Y%m%d'))\n",
        "PricePaidRecords_df.head(10)"
      ],
      "metadata": {
        "colab": {
          "base_uri": "https://localhost:8080/",
          "height": 297
        },
        "id": "98XrROscGXYl",
        "outputId": "e7a8d6fc-4475-4f34-dd2a-1d5b3f37087b"
      },
      "execution_count": null,
      "outputs": [
        {
          "output_type": "error",
          "ename": "ValueError",
          "evalue": "ignored",
          "traceback": [
            "\u001b[0;31m---------------------------------------------------------------------------\u001b[0m",
            "\u001b[0;31mValueError\u001b[0m                                Traceback (most recent call last)",
            "\u001b[0;32m<ipython-input-40-1c2b9d260959>\u001b[0m in \u001b[0;36m<cell line: 1>\u001b[0;34m()\u001b[0m\n\u001b[0;32m----> 1\u001b[0;31m \u001b[0mPricePaidRecords_df\u001b[0m\u001b[0;34m[\u001b[0m\u001b[0;34m'Date of Transfer'\u001b[0m\u001b[0;34m]\u001b[0m\u001b[0;34m=\u001b[0m \u001b[0mPricePaidRecords_df\u001b[0m\u001b[0;34m[\u001b[0m\u001b[0;34m'Date of Transfer'\u001b[0m\u001b[0;34m]\u001b[0m\u001b[0;34m.\u001b[0m\u001b[0mapply\u001b[0m\u001b[0;34m(\u001b[0m\u001b[0;32mlambda\u001b[0m \u001b[0mx\u001b[0m\u001b[0;34m:\u001b[0m \u001b[0mpd\u001b[0m\u001b[0;34m.\u001b[0m\u001b[0mto_datetime\u001b[0m\u001b[0;34m(\u001b[0m\u001b[0mstr\u001b[0m\u001b[0;34m(\u001b[0m\u001b[0mx\u001b[0m\u001b[0;34m)\u001b[0m\u001b[0;34m,\u001b[0m\u001b[0mformat\u001b[0m \u001b[0;34m=\u001b[0m \u001b[0;34m'%Y%m%d'\u001b[0m\u001b[0;34m)\u001b[0m\u001b[0;34m)\u001b[0m\u001b[0;34m\u001b[0m\u001b[0;34m\u001b[0m\u001b[0m\n\u001b[0m\u001b[1;32m      2\u001b[0m \u001b[0mPricePaidRecords_df\u001b[0m\u001b[0;34m.\u001b[0m\u001b[0mhead\u001b[0m\u001b[0;34m(\u001b[0m\u001b[0;36m10\u001b[0m\u001b[0;34m)\u001b[0m\u001b[0;34m\u001b[0m\u001b[0;34m\u001b[0m\u001b[0m\n",
            "\u001b[0;32m/usr/local/lib/python3.10/dist-packages/pandas/core/series.py\u001b[0m in \u001b[0;36mapply\u001b[0;34m(self, func, convert_dtype, args, **kwargs)\u001b[0m\n\u001b[1;32m   4769\u001b[0m         \u001b[0mdtype\u001b[0m\u001b[0;34m:\u001b[0m \u001b[0mfloat64\u001b[0m\u001b[0;34m\u001b[0m\u001b[0;34m\u001b[0m\u001b[0m\n\u001b[1;32m   4770\u001b[0m         \"\"\"\n\u001b[0;32m-> 4771\u001b[0;31m         \u001b[0;32mreturn\u001b[0m \u001b[0mSeriesApply\u001b[0m\u001b[0;34m(\u001b[0m\u001b[0mself\u001b[0m\u001b[0;34m,\u001b[0m \u001b[0mfunc\u001b[0m\u001b[0;34m,\u001b[0m \u001b[0mconvert_dtype\u001b[0m\u001b[0;34m,\u001b[0m \u001b[0margs\u001b[0m\u001b[0;34m,\u001b[0m \u001b[0mkwargs\u001b[0m\u001b[0;34m)\u001b[0m\u001b[0;34m.\u001b[0m\u001b[0mapply\u001b[0m\u001b[0;34m(\u001b[0m\u001b[0;34m)\u001b[0m\u001b[0;34m\u001b[0m\u001b[0;34m\u001b[0m\u001b[0m\n\u001b[0m\u001b[1;32m   4772\u001b[0m \u001b[0;34m\u001b[0m\u001b[0m\n\u001b[1;32m   4773\u001b[0m     def _reduce(\n",
            "\u001b[0;32m/usr/local/lib/python3.10/dist-packages/pandas/core/apply.py\u001b[0m in \u001b[0;36mapply\u001b[0;34m(self)\u001b[0m\n\u001b[1;32m   1121\u001b[0m \u001b[0;34m\u001b[0m\u001b[0m\n\u001b[1;32m   1122\u001b[0m         \u001b[0;31m# self.f is Callable\u001b[0m\u001b[0;34m\u001b[0m\u001b[0;34m\u001b[0m\u001b[0m\n\u001b[0;32m-> 1123\u001b[0;31m         \u001b[0;32mreturn\u001b[0m \u001b[0mself\u001b[0m\u001b[0;34m.\u001b[0m\u001b[0mapply_standard\u001b[0m\u001b[0;34m(\u001b[0m\u001b[0;34m)\u001b[0m\u001b[0;34m\u001b[0m\u001b[0;34m\u001b[0m\u001b[0m\n\u001b[0m\u001b[1;32m   1124\u001b[0m \u001b[0;34m\u001b[0m\u001b[0m\n\u001b[1;32m   1125\u001b[0m     \u001b[0;32mdef\u001b[0m \u001b[0magg\u001b[0m\u001b[0;34m(\u001b[0m\u001b[0mself\u001b[0m\u001b[0;34m)\u001b[0m\u001b[0;34m:\u001b[0m\u001b[0;34m\u001b[0m\u001b[0;34m\u001b[0m\u001b[0m\n",
            "\u001b[0;32m/usr/local/lib/python3.10/dist-packages/pandas/core/apply.py\u001b[0m in \u001b[0;36mapply_standard\u001b[0;34m(self)\u001b[0m\n\u001b[1;32m   1172\u001b[0m             \u001b[0;32melse\u001b[0m\u001b[0;34m:\u001b[0m\u001b[0;34m\u001b[0m\u001b[0;34m\u001b[0m\u001b[0m\n\u001b[1;32m   1173\u001b[0m                 \u001b[0mvalues\u001b[0m \u001b[0;34m=\u001b[0m \u001b[0mobj\u001b[0m\u001b[0;34m.\u001b[0m\u001b[0mastype\u001b[0m\u001b[0;34m(\u001b[0m\u001b[0mobject\u001b[0m\u001b[0;34m)\u001b[0m\u001b[0;34m.\u001b[0m\u001b[0m_values\u001b[0m\u001b[0;34m\u001b[0m\u001b[0;34m\u001b[0m\u001b[0m\n\u001b[0;32m-> 1174\u001b[0;31m                 mapped = lib.map_infer(\n\u001b[0m\u001b[1;32m   1175\u001b[0m                     \u001b[0mvalues\u001b[0m\u001b[0;34m,\u001b[0m\u001b[0;34m\u001b[0m\u001b[0;34m\u001b[0m\u001b[0m\n\u001b[1;32m   1176\u001b[0m                     \u001b[0mf\u001b[0m\u001b[0;34m,\u001b[0m\u001b[0;34m\u001b[0m\u001b[0;34m\u001b[0m\u001b[0m\n",
            "\u001b[0;32m/usr/local/lib/python3.10/dist-packages/pandas/_libs/lib.pyx\u001b[0m in \u001b[0;36mpandas._libs.lib.map_infer\u001b[0;34m()\u001b[0m\n",
            "\u001b[0;32m<ipython-input-40-1c2b9d260959>\u001b[0m in \u001b[0;36m<lambda>\u001b[0;34m(x)\u001b[0m\n\u001b[0;32m----> 1\u001b[0;31m \u001b[0mPricePaidRecords_df\u001b[0m\u001b[0;34m[\u001b[0m\u001b[0;34m'Date of Transfer'\u001b[0m\u001b[0;34m]\u001b[0m\u001b[0;34m=\u001b[0m \u001b[0mPricePaidRecords_df\u001b[0m\u001b[0;34m[\u001b[0m\u001b[0;34m'Date of Transfer'\u001b[0m\u001b[0;34m]\u001b[0m\u001b[0;34m.\u001b[0m\u001b[0mapply\u001b[0m\u001b[0;34m(\u001b[0m\u001b[0;32mlambda\u001b[0m \u001b[0mx\u001b[0m\u001b[0;34m:\u001b[0m \u001b[0mpd\u001b[0m\u001b[0;34m.\u001b[0m\u001b[0mto_datetime\u001b[0m\u001b[0;34m(\u001b[0m\u001b[0mstr\u001b[0m\u001b[0;34m(\u001b[0m\u001b[0mx\u001b[0m\u001b[0;34m)\u001b[0m\u001b[0;34m,\u001b[0m\u001b[0mformat\u001b[0m \u001b[0;34m=\u001b[0m \u001b[0;34m'%Y%m%d'\u001b[0m\u001b[0;34m)\u001b[0m\u001b[0;34m)\u001b[0m\u001b[0;34m\u001b[0m\u001b[0;34m\u001b[0m\u001b[0m\n\u001b[0m\u001b[1;32m      2\u001b[0m \u001b[0mPricePaidRecords_df\u001b[0m\u001b[0;34m.\u001b[0m\u001b[0mhead\u001b[0m\u001b[0;34m(\u001b[0m\u001b[0;36m10\u001b[0m\u001b[0;34m)\u001b[0m\u001b[0;34m\u001b[0m\u001b[0;34m\u001b[0m\u001b[0m\n",
            "\u001b[0;32m/usr/local/lib/python3.10/dist-packages/pandas/core/tools/datetimes.py\u001b[0m in \u001b[0;36mto_datetime\u001b[0;34m(arg, errors, dayfirst, yearfirst, utc, format, exact, unit, infer_datetime_format, origin, cache)\u001b[0m\n\u001b[1;32m   1100\u001b[0m             \u001b[0mresult\u001b[0m \u001b[0;34m=\u001b[0m \u001b[0mconvert_listlike\u001b[0m\u001b[0;34m(\u001b[0m\u001b[0margc\u001b[0m\u001b[0;34m,\u001b[0m \u001b[0mformat\u001b[0m\u001b[0;34m)\u001b[0m\u001b[0;34m\u001b[0m\u001b[0;34m\u001b[0m\u001b[0m\n\u001b[1;32m   1101\u001b[0m     \u001b[0;32melse\u001b[0m\u001b[0;34m:\u001b[0m\u001b[0;34m\u001b[0m\u001b[0;34m\u001b[0m\u001b[0m\n\u001b[0;32m-> 1102\u001b[0;31m         \u001b[0mresult\u001b[0m \u001b[0;34m=\u001b[0m \u001b[0mconvert_listlike\u001b[0m\u001b[0;34m(\u001b[0m\u001b[0mnp\u001b[0m\u001b[0;34m.\u001b[0m\u001b[0marray\u001b[0m\u001b[0;34m(\u001b[0m\u001b[0;34m[\u001b[0m\u001b[0marg\u001b[0m\u001b[0;34m]\u001b[0m\u001b[0;34m)\u001b[0m\u001b[0;34m,\u001b[0m \u001b[0mformat\u001b[0m\u001b[0;34m)\u001b[0m\u001b[0;34m[\u001b[0m\u001b[0;36m0\u001b[0m\u001b[0;34m]\u001b[0m\u001b[0;34m\u001b[0m\u001b[0;34m\u001b[0m\u001b[0m\n\u001b[0m\u001b[1;32m   1103\u001b[0m         \u001b[0;32mif\u001b[0m \u001b[0misinstance\u001b[0m\u001b[0;34m(\u001b[0m\u001b[0marg\u001b[0m\u001b[0;34m,\u001b[0m \u001b[0mbool\u001b[0m\u001b[0;34m)\u001b[0m \u001b[0;32mand\u001b[0m \u001b[0misinstance\u001b[0m\u001b[0;34m(\u001b[0m\u001b[0mresult\u001b[0m\u001b[0;34m,\u001b[0m \u001b[0mnp\u001b[0m\u001b[0;34m.\u001b[0m\u001b[0mbool_\u001b[0m\u001b[0;34m)\u001b[0m\u001b[0;34m:\u001b[0m\u001b[0;34m\u001b[0m\u001b[0;34m\u001b[0m\u001b[0m\n\u001b[1;32m   1104\u001b[0m             \u001b[0mresult\u001b[0m \u001b[0;34m=\u001b[0m \u001b[0mbool\u001b[0m\u001b[0;34m(\u001b[0m\u001b[0mresult\u001b[0m\u001b[0;34m)\u001b[0m  \u001b[0;31m# TODO: avoid this kludge.\u001b[0m\u001b[0;34m\u001b[0m\u001b[0;34m\u001b[0m\u001b[0m\n",
            "\u001b[0;32m/usr/local/lib/python3.10/dist-packages/pandas/core/tools/datetimes.py\u001b[0m in \u001b[0;36m_convert_listlike_datetimes\u001b[0;34m(arg, format, name, tz, unit, errors, infer_datetime_format, dayfirst, yearfirst, exact)\u001b[0m\n\u001b[1;32m    428\u001b[0m \u001b[0;34m\u001b[0m\u001b[0m\n\u001b[1;32m    429\u001b[0m     \u001b[0;32mif\u001b[0m \u001b[0mformat\u001b[0m \u001b[0;32mis\u001b[0m \u001b[0;32mnot\u001b[0m \u001b[0;32mNone\u001b[0m\u001b[0;34m:\u001b[0m\u001b[0;34m\u001b[0m\u001b[0;34m\u001b[0m\u001b[0m\n\u001b[0;32m--> 430\u001b[0;31m         res = _to_datetime_with_format(\n\u001b[0m\u001b[1;32m    431\u001b[0m             \u001b[0marg\u001b[0m\u001b[0;34m,\u001b[0m \u001b[0morig_arg\u001b[0m\u001b[0;34m,\u001b[0m \u001b[0mname\u001b[0m\u001b[0;34m,\u001b[0m \u001b[0mtz\u001b[0m\u001b[0;34m,\u001b[0m \u001b[0mformat\u001b[0m\u001b[0;34m,\u001b[0m \u001b[0mexact\u001b[0m\u001b[0;34m,\u001b[0m \u001b[0merrors\u001b[0m\u001b[0;34m,\u001b[0m \u001b[0minfer_datetime_format\u001b[0m\u001b[0;34m\u001b[0m\u001b[0;34m\u001b[0m\u001b[0m\n\u001b[1;32m    432\u001b[0m         )\n",
            "\u001b[0;32m/usr/local/lib/python3.10/dist-packages/pandas/core/tools/datetimes.py\u001b[0m in \u001b[0;36m_to_datetime_with_format\u001b[0;34m(arg, orig_arg, name, tz, fmt, exact, errors, infer_datetime_format)\u001b[0m\n\u001b[1;32m    536\u001b[0m \u001b[0;34m\u001b[0m\u001b[0m\n\u001b[1;32m    537\u001b[0m     \u001b[0;31m# fallback\u001b[0m\u001b[0;34m\u001b[0m\u001b[0;34m\u001b[0m\u001b[0m\n\u001b[0;32m--> 538\u001b[0;31m     res = _array_strptime_with_fallback(\n\u001b[0m\u001b[1;32m    539\u001b[0m         \u001b[0marg\u001b[0m\u001b[0;34m,\u001b[0m \u001b[0mname\u001b[0m\u001b[0;34m,\u001b[0m \u001b[0mtz\u001b[0m\u001b[0;34m,\u001b[0m \u001b[0mfmt\u001b[0m\u001b[0;34m,\u001b[0m \u001b[0mexact\u001b[0m\u001b[0;34m,\u001b[0m \u001b[0merrors\u001b[0m\u001b[0;34m,\u001b[0m \u001b[0minfer_datetime_format\u001b[0m\u001b[0;34m\u001b[0m\u001b[0;34m\u001b[0m\u001b[0m\n\u001b[1;32m    540\u001b[0m     )\n",
            "\u001b[0;32m/usr/local/lib/python3.10/dist-packages/pandas/core/tools/datetimes.py\u001b[0m in \u001b[0;36m_array_strptime_with_fallback\u001b[0;34m(arg, name, tz, fmt, exact, errors, infer_datetime_format)\u001b[0m\n\u001b[1;32m    471\u001b[0m \u001b[0;34m\u001b[0m\u001b[0m\n\u001b[1;32m    472\u001b[0m     \u001b[0;32mtry\u001b[0m\u001b[0;34m:\u001b[0m\u001b[0;34m\u001b[0m\u001b[0;34m\u001b[0m\u001b[0m\n\u001b[0;32m--> 473\u001b[0;31m         \u001b[0mresult\u001b[0m\u001b[0;34m,\u001b[0m \u001b[0mtimezones\u001b[0m \u001b[0;34m=\u001b[0m \u001b[0marray_strptime\u001b[0m\u001b[0;34m(\u001b[0m\u001b[0marg\u001b[0m\u001b[0;34m,\u001b[0m \u001b[0mfmt\u001b[0m\u001b[0;34m,\u001b[0m \u001b[0mexact\u001b[0m\u001b[0;34m=\u001b[0m\u001b[0mexact\u001b[0m\u001b[0;34m,\u001b[0m \u001b[0merrors\u001b[0m\u001b[0;34m=\u001b[0m\u001b[0merrors\u001b[0m\u001b[0;34m)\u001b[0m\u001b[0;34m\u001b[0m\u001b[0;34m\u001b[0m\u001b[0m\n\u001b[0m\u001b[1;32m    474\u001b[0m     \u001b[0;32mexcept\u001b[0m \u001b[0mOutOfBoundsDatetime\u001b[0m\u001b[0;34m:\u001b[0m\u001b[0;34m\u001b[0m\u001b[0;34m\u001b[0m\u001b[0m\n\u001b[1;32m    475\u001b[0m         \u001b[0;32mif\u001b[0m \u001b[0merrors\u001b[0m \u001b[0;34m==\u001b[0m \u001b[0;34m\"raise\"\u001b[0m\u001b[0;34m:\u001b[0m\u001b[0;34m\u001b[0m\u001b[0;34m\u001b[0m\u001b[0m\n",
            "\u001b[0;32m/usr/local/lib/python3.10/dist-packages/pandas/_libs/tslibs/strptime.pyx\u001b[0m in \u001b[0;36mpandas._libs.tslibs.strptime.array_strptime\u001b[0;34m()\u001b[0m\n",
            "\u001b[0;31mValueError\u001b[0m: time data '1995-08-18 00:00' does not match format '%Y%m%d' (match)"
          ]
        }
      ]
    },
    {
      "cell_type": "markdown",
      "source": [
        " - looking through this data it seems we're missing information on things like house type and number of bedrooms - hopefully we can get this from the Zoopla API. This way we aren't thrown out by certain areas in the UK having cheaper housing prices for listings of garages, industrial istate buildings, or land plots and can analyse/make predictions based on these."
      ],
      "metadata": {
        "id": "NDg__tN1nxux"
      }
    },
    {
      "cell_type": "markdown",
      "source": [
        "Zoopla API"
      ],
      "metadata": {
        "id": "3FOD5vI-c30K"
      }
    },
    {
      "cell_type": "code",
      "source": [
        "#Description: Retrieve the average sale price for houses in a particular area.\n",
        "zoopla_url =  'https://api.zoopla.co.uk/api/v1/average_area_sold_price'\n"
      ],
      "metadata": {
        "id": "G9Z4Lyrzc5ae"
      },
      "execution_count": null,
      "outputs": []
    },
    {
      "cell_type": "markdown",
      "source": [
        "**ONS API**:\n",
        "\n",
        "This checks which datasets we can access. I'm just trying to see what is inside the APIs :) - it's very confusing!\n",
        "\n",
        "**Note:**\n",
        "\n",
        "*Time: The time dimension is treated slightly differently from all other dimensions and you need to use the time label, rather than the ID. This is beacause all IDs for a certain ‘type’ of time, e.g Months, are currently the same.*"
      ],
      "metadata": {
        "id": "6Lti5xu8c5nv"
      }
    },
    {
      "cell_type": "code",
      "source": [
        "#The Office for National Statistics API makes datasets and other data available programmatically using HTTP.\n",
        "# It allows you to filter datasets and directly access specific data points.\n",
        "ONS_url =  'https://api.beta.ons.gov.uk/v1/datasets'\n",
        "\n",
        "response = requests.get(ONS_url)\n",
        "print(response)\n",
        "\n",
        "# check if the request was successful (HTTP status code 200)\n",
        "if response.status_code == 200:\n",
        "  # convert response to JSON (dictionary)\n",
        "    data = response.json()\n",
        "    print(data)\n",
        "else:\n",
        "    print('Request failed with status code:', response.status_code)\n",
        "\n",
        "for item in data:\n",
        "  print(item)\n"
      ],
      "metadata": {
        "colab": {
          "base_uri": "https://localhost:8080/"
        },
        "id": "F0fTa7tNfn83",
        "outputId": "a89a498b-9b8a-482f-f8e3-83bc6e6bd51a"
      },
      "execution_count": null,
      "outputs": [
        {
          "output_type": "stream",
          "name": "stdout",
          "text": [
            "<Response [200]>\n",
            "{'@context': 'https://cdn.ons.gov.uk/assets/json-ld/context.json', 'count': 20, 'items': [{'contacts': [{'email': 'qualityoflife@ons.gov.uk', 'name': 'Rachel Mullis, Emily Froud and Geeta Kerai', 'telephone': '+44 300 0671543'}], 'description': 'Seasonally and non seasonally-adjusted quarterly estimates of life satisfaction, feeling that the things done in life are worthwhile, happiness and anxiety in the UK.', 'id': 'wellbeing-quarterly', 'keywords': ['well-being'], 'links': {'editions': {'href': 'https://api.beta.ons.gov.uk/v1/datasets/wellbeing-quarterly/editions'}, 'latest_version': {'href': 'https://api.beta.ons.gov.uk/v1/datasets/wellbeing-quarterly/editions/time-series/versions/7', 'id': '7'}, 'self': {'href': 'https://api.beta.ons.gov.uk/v1/datasets/wellbeing-quarterly'}, 'taxonomy': {'href': 'https://api.beta.ons.gov.uk/v1/peoplepopulationandcommunity/wellbeing'}}, 'methodologies': [{'href': 'https://www.ons.gov.uk/peoplepopulationandcommunity/wellbeing/methodologies/personalwellbeingquarterlyestimatestechnicalreport', 'title': 'Personal well-being quarterly estimates technical report'}], 'national_statistic': False, 'next_release': 'TBC', 'qmi': {'href': 'https://www.ons.gov.uk/peoplepopulationandcommunity/wellbeing/methodologies/personalwellbeingintheukqmi'}, 'related_datasets': [{'href': 'https://www.ons.gov.uk/peoplepopulationandcommunity/wellbeing/bulletins/personalwellbeingintheukquarterly/april2011toseptember2021/relateddata', 'title': 'Quality of life in the UK'}], 'release_frequency': 'Quarterly', 'state': 'published', 'title': 'Quarterly personal well-being estimates', 'unit_of_measure': 'Percentage'}, {'contacts': [{'email': 'QualityOfLife@ons.gov.uk', 'name': 'Ben Hayes, Charlotte Leach and Geeta Kerai', 'telephone': '+44 3000 671 543'}], 'description': 'Estimates of life satisfaction, feeling that the things done in life are worthwhile, happiness and anxiety at the UK, country, regional, county, local and unitary authority level.', 'id': 'wellbeing-local-authority', 'keywords': ['well-being'], 'links': {'editions': {'href': 'https://api.beta.ons.gov.uk/v1/datasets/wellbeing-local-authority/editions'}, 'latest_version': {'href': 'https://api.beta.ons.gov.uk/v1/datasets/wellbeing-local-authority/editions/time-series/versions/3', 'id': '3'}, 'self': {'href': 'https://api.beta.ons.gov.uk/v1/datasets/wellbeing-local-authority'}, 'taxonomy': {'href': 'https://api.beta.ons.gov.uk/v1/peoplepopulationandcommunity/wellbeing'}}, 'national_statistic': True, 'next_release': 'TBC', 'qmi': {'href': 'https://www.ons.gov.uk/peoplepopulationandcommunity/wellbeing/methodologies/personalwellbeingintheukqmi'}, 'related_datasets': [{'href': 'https://www.ons.gov.uk/peoplepopulationandcommunity/wellbeing/bulletins/measuringnationalwellbeing/april2021tomarch2022', 'title': 'Personal well-being in the UK: April 2021 to March 2022'}], 'release_frequency': 'Annual', 'state': 'published', 'title': 'Personal well-being estimates by local authority', 'unit_of_measure': 'Percentage'}, {'contacts': [{'email': 'health.data@ons.gov.uk', 'name': 'Sarah Caul', 'telephone': '+44 1329 444110'}], 'description': 'Provisional counts of the number of deaths registered in England and Wales, by region, in the latest weeks for which data are available.', 'id': 'weekly-deaths-region', 'keywords': ['Deaths', 'weekly deaths'], 'links': {'editions': {'href': 'https://api.beta.ons.gov.uk/v1/datasets/weekly-deaths-region/editions'}, 'latest_version': {'href': 'https://api.beta.ons.gov.uk/v1/datasets/weekly-deaths-region/editions/covid-19/versions/149', 'id': '149'}, 'self': {'href': 'https://api.beta.ons.gov.uk/v1/datasets/weekly-deaths-region'}, 'taxonomy': {'href': 'https://api.beta.ons.gov.uk/v1/peoplepopulationandcommunity/birthsdeathsandmarriages/deaths'}}, 'national_statistic': True, 'next_release': '15 August 2023', 'qmi': {'href': 'https://www.ons.gov.uk/peoplepopulationandcommunity/birthsdeathsandmarriages/deaths/methodologies/mortalitystatisticsinenglandandwalesqmi'}, 'release_frequency': 'Weekly', 'state': 'published', 'title': 'Deaths registered weekly in England and Wales by region'}, {'contacts': [{'email': 'health.data@ons.gov.uk', 'name': 'Sarah Caul', 'telephone': '+44 1329 444110'}], 'description': 'Provisional counts of the number of deaths registered in England and Wales, including deaths involving the coronavirus (COVID-19), by local authority, health board and place of death in the latest weeks for which data are available.', 'id': 'weekly-deaths-local-authority', 'keywords': ['Deaths', 'weekly deaths'], 'links': {'editions': {'href': 'https://api.beta.ons.gov.uk/v1/datasets/weekly-deaths-local-authority/editions'}, 'latest_version': {'href': 'https://api.beta.ons.gov.uk/v1/datasets/weekly-deaths-local-authority/editions/2022/versions/80', 'id': '80'}, 'self': {'href': 'https://api.beta.ons.gov.uk/v1/datasets/weekly-deaths-local-authority'}, 'taxonomy': {'href': 'https://api.beta.ons.gov.uk/v1/peoplepopulationandcommunity/birthsdeathsandmarriages/deaths'}}, 'national_statistic': True, 'next_release': '15 August 2023', 'qmi': {'href': 'https://www.ons.gov.uk/peoplepopulationandcommunity/birthsdeathsandmarriages/deaths/methodologies/mortalitystatisticsinenglandandwalesqmi'}, 'release_frequency': 'Weekly', 'state': 'published', 'title': 'Death registrations and occurrences by local authority and place of death'}, {'contacts': [{'email': 'health.data@ons.gov.uk', 'name': 'Sarah Caul', 'telephone': '+44 1329 444110'}], 'description': 'Provisional counts of the number of deaths registered in Wales, by health board and place of death, in the latest weeks for which data are available.', 'id': 'weekly-deaths-health-board', 'keywords': ['Deaths', 'weekly deaths'], 'links': {'editions': {'href': 'https://api.beta.ons.gov.uk/v1/datasets/weekly-deaths-health-board/editions'}, 'latest_version': {'href': 'https://api.beta.ons.gov.uk/v1/datasets/weekly-deaths-health-board/editions/2022/versions/80', 'id': '80'}, 'self': {'href': 'https://api.beta.ons.gov.uk/v1/datasets/weekly-deaths-health-board'}, 'taxonomy': {'href': 'https://api.beta.ons.gov.uk/v1/peoplepopulationandcommunity/birthsdeathsandmarriages/deaths'}}, 'national_statistic': True, 'next_release': '15 August 2023', 'qmi': {'href': 'https://www.ons.gov.uk/peoplepopulationandcommunity/birthsdeathsandmarriages/deaths/methodologies/mortalitystatisticsinenglandandwalesqmi'}, 'release_frequency': 'Weekly', 'state': 'published', 'title': 'Death registrations and occurrences by health board and place of death'}, {'contacts': [{'email': 'health.data@ons.gov.uk', 'name': 'Sarah Caul', 'telephone': '+44 1329 444110'}], 'description': 'Provisional counts of the number of deaths registered in England and Wales, by age and sex, in the latest weeks for which data are available.', 'id': 'weekly-deaths-age-sex', 'keywords': ['Deaths', 'weekly deaths'], 'links': {'editions': {'href': 'https://api.beta.ons.gov.uk/v1/datasets/weekly-deaths-age-sex/editions'}, 'latest_version': {'href': 'https://api.beta.ons.gov.uk/v1/datasets/weekly-deaths-age-sex/editions/covid-19/versions/149', 'id': '149'}, 'self': {'href': 'https://api.beta.ons.gov.uk/v1/datasets/weekly-deaths-age-sex'}, 'taxonomy': {'href': 'https://api.beta.ons.gov.uk/v1/peoplepopulationandcommunity/birthsdeathsandmarriages/deaths'}}, 'national_statistic': True, 'next_release': '15 August 2023', 'qmi': {'href': 'https://www.ons.gov.uk/peoplepopulationandcommunity/birthsdeathsandmarriages/deaths/methodologies/mortalitystatisticsinenglandandwalesqmi'}, 'release_frequency': 'Weekly', 'state': 'published', 'title': 'Deaths registered weekly in England and Wales by age and sex'}, {'contacts': [{'email': 'realtime.indicators@ons.gov.uk', 'name': 'Katie Cunliffe', 'telephone': '+44 1633 560344'}], 'description': 'These data series are experimental faster indicators for monitoring UK spending using debit and credit cards.', 'id': 'uk-spending-on-cards', 'links': {'editions': {'href': 'https://api.beta.ons.gov.uk/v1/datasets/uk-spending-on-cards/editions'}, 'latest_version': {'href': 'https://api.beta.ons.gov.uk/v1/datasets/uk-spending-on-cards/editions/time-series/versions/91', 'id': '91'}, 'self': {'href': 'https://api.beta.ons.gov.uk/v1/datasets/uk-spending-on-cards'}, 'taxonomy': {'href': 'https://api.beta.ons.gov.uk/v1/economy/economicoutputandproductivity/productivitymeasures'}}, 'national_statistic': False, 'next_release': 'To be announced', 'qmi': {'href': 'https://www.bankofengland.co.uk/payment-and-settlement/chaps-faster-indicator'}, 'release_frequency': 'Weekly', 'state': 'published', 'title': 'UK spending on credit and debit cards', 'type': 'filterable'}, {'contacts': [{'email': 'idbras@ons.gov.uk', 'name': 'Becky Shaw', 'telephone': '+44 1633 456902'}], 'description': 'The data contained in these tables are numbers of enterprises and local units produced from a snapshot of the Inter-Departmental Business Register (IDBR) taken on 12 March 2021. This dataset contains details of the number of VAT and/or PAYE based enterprises and local units in districts, counties and unitary authorities within region and country by broad industry group.', 'id': 'uk-business-by-enterprises-and-local-units', 'keywords': ['enterprises', 'local units,IDBR,business counts,Inter-Departmental Business Register'], 'links': {'editions': {'href': 'https://api.beta.ons.gov.uk/v1/datasets/uk-business-by-enterprises-and-local-units/editions'}, 'latest_version': {'href': 'https://api.beta.ons.gov.uk/v1/datasets/uk-business-by-enterprises-and-local-units/editions/2022/versions/1', 'id': '1'}, 'self': {'href': 'https://api.beta.ons.gov.uk/v1/datasets/uk-business-by-enterprises-and-local-units'}, 'taxonomy': {'href': 'https://api.beta.ons.gov.uk/v1/businessindustryandtrade/business/businessservices'}}, 'next_release': 'To be announced', 'publications': [{'href': 'https://www.ons.gov.uk/businessindustryandtrade/business/activitysizeandlocation', 'title': 'UK Business: Activity, Size and Location'}], 'qmi': {'href': 'https://www.ons.gov.uk/businessindustryandtrade/business/activitysizeandlocation/methodologies/ukbusinessactivitysizeandlocationqmi'}, 'release_frequency': 'Annual', 'state': 'published', 'title': 'UK Business: Activity, Size and Location', 'type': 'filterable', 'unit_of_measure': 'Count'}, {'contacts': [{'email': 'realtime.indicators@ons.gov.uk', 'name': 'Katie Cunliffe', 'telephone': '+44 1633 560344'}], 'description': 'Experimental dataset for business indices covering the UK as part of the real-time indicators release to help better understand economic activity and social change in the UK.', 'id': 'traffic-camera-activity', 'links': {'editions': {'href': 'https://api.beta.ons.gov.uk/v1/datasets/traffic-camera-activity/editions'}, 'latest_version': {'href': 'https://api.beta.ons.gov.uk/v1/datasets/traffic-camera-activity/editions/time-series/versions/71', 'id': '71'}, 'self': {'href': 'https://api.beta.ons.gov.uk/v1/datasets/traffic-camera-activity'}, 'taxonomy': {'href': 'https://api.beta.ons.gov.uk/v1/businessindustryandtrade/business/activitysizeandlocation'}}, 'national_statistic': False, 'next_release': 'To be announced', 'qmi': {'href': 'https://datasciencecampus.ons.gov.uk/projects/estimating-vehicle-and-pedestrian-activity-from-town-and-city-traffic-cameras/'}, 'release_frequency': 'Weekly', 'state': 'published', 'title': 'Traffic Camera Activity', 'type': 'filterable'}, {'contacts': [{'email': 'trade@ons.gov.uk', 'name': 'Hannah Donnarumma', 'telephone': '+44 (0)1329 447648'}], 'description': \"Country by commodity data on the UK's trade in goods, including trade by all countries and selected commodities, exports and imports, non seasonally adjusted.\", 'id': 'trade', 'keywords': ['trade'], 'links': {'editions': {'href': 'https://api.beta.ons.gov.uk/v1/datasets/trade/editions'}, 'latest_version': {'href': 'https://api.beta.ons.gov.uk/v1/datasets/trade/editions/time-series/versions/34', 'id': '34'}, 'self': {'href': 'https://api.beta.ons.gov.uk/v1/datasets/trade'}, 'taxonomy': {'href': 'https://api.beta.ons.gov.uk/v1/businessindustryandtrade/internationaltrade'}}, 'national_statistic': False, 'next_release': '11 August 2022', 'qmi': {'href': 'https://www.ons.gov.uk/economy/nationalaccounts/balanceofpayments/methodologies/uktradeqmi'}, 'release_frequency': 'Monthly', 'state': 'published', 'title': 'Trade in goods: country by commodity', 'unit_of_measure': '£million'}, {'contacts': [{'email': 'hie@ons.gov.uk', 'name': 'Paula Croal', 'telephone': '01633 651927'}], 'description': 'Estimates of mean and median annual incomes in the UK, by quintile groups.\\nThe redistribution effects on individuals of direct and indirect taxation and benefits received in cash or kind.', 'id': 'tax-benefits-statistics', 'links': {'editions': {'href': 'https://api.beta.ons.gov.uk/v1/datasets/tax-benefits-statistics/editions'}, 'latest_version': {'href': 'https://api.beta.ons.gov.uk/v1/datasets/tax-benefits-statistics/editions/time-series/versions/3', 'id': '3'}, 'self': {'href': 'https://api.beta.ons.gov.uk/v1/datasets/tax-benefits-statistics'}, 'taxonomy': {'href': 'https://api.beta.ons.gov.uk/v1/economy/governmentpublicsectorandtaxes/taxesandrevenue'}}, 'next_release': 'TBA', 'qmi': {'href': 'https://www.ons.gov.uk/peoplepopulationandcommunity/personalandhouseholdfinances/incomeandwealth/methodologies/theeffectsoftaxesandbenefitsonukhouseholdincome'}, 'release_frequency': 'Annual', 'state': 'published', 'title': 'Effects of Taxes and Benefits on Household Income'}, {'contacts': [{'email': 'health.data@ons.gov.uk', 'name': 'Rabiya Nasir, Emyr John and David Mais', 'telephone': '+44 1633 456501'}], 'description': 'Number of suicides by local authority in England and Wales, registered from 2001.\\n\\nIf you are struggling to cope, please call Samaritans for free on 116 123 (UK and ROI) or contact other sources of support, such as those listed on the NHS’s help for suicidal thoughts webpage. Support is available round the clock, every single day of the year, providing a safe place for anyone struggling to cope, whoever they are, however they feel, whatever life has done to them.', 'id': 'suicides-in-the-uk', 'keywords': ['suicide', 'mortality'], 'links': {'editions': {'href': 'https://api.beta.ons.gov.uk/v1/datasets/suicides-in-the-uk/editions'}, 'latest_version': {'href': 'https://api.beta.ons.gov.uk/v1/datasets/suicides-in-the-uk/editions/2021/versions/1', 'id': '1'}, 'self': {'href': 'https://api.beta.ons.gov.uk/v1/datasets/suicides-in-the-uk'}, 'taxonomy': {'href': 'https://api.beta.ons.gov.uk/v1/peoplepopulationandcommunity/birthsdeathsandmarriages/deaths'}}, 'methodologies': [{'href': 'https://www.samaritans.org/', 'title': 'Samaritans'}, {'href': 'https://www.nhs.uk/mental-health/feelings-symptoms-behaviours/behaviours/help-for-suicidal-thoughts/', 'title': 'Help for suicidal thoughts'}], 'national_statistic': True, 'next_release': 'To be announced', 'qmi': {'href': 'https://www.ons.gov.uk/peoplepopulationandcommunity/birthsdeathsandmarriages/deaths/methodologies/suicideratesintheukqmi'}, 'related_datasets': [{'href': 'https://www.ons.gov.uk/peoplepopulationandcommunity/birthsdeathsandmarriages/deaths/bulletins/suicidesintheunitedkingdom/latest', 'title': 'Suicides in England and Wales'}], 'release_frequency': 'Annually', 'state': 'published', 'title': 'Suicide registrations in England and Wales by local authority'}, {'contacts': [{'email': 'pop.info@ons.gov.uk', 'name': 'Amanda Sharfman and Pamela Cobb', 'telephone': '+44 (0)1329 444661'}], 'description': 'Sexual orientation in the UK from 2012 to 2020 by region.\\n\\nData source: Annual Population Survey, ONS\\n', 'id': 'sexual-orientation-by-region', 'keywords': ['gay', 'lesbian,bisexual,straight,LGB'], 'links': {'editions': {'href': 'https://api.beta.ons.gov.uk/v1/datasets/sexual-orientation-by-region/editions'}, 'latest_version': {'href': 'https://api.beta.ons.gov.uk/v1/datasets/sexual-orientation-by-region/editions/time-series/versions/2', 'id': '2'}, 'self': {'href': 'https://api.beta.ons.gov.uk/v1/datasets/sexual-orientation-by-region'}, 'taxonomy': {'href': 'https://api.beta.ons.gov.uk/v1/peoplepopulationandcommunity/culturalidentity/sexuality'}}, 'next_release': 'To be announced', 'publications': [{'href': 'https://www.ons.gov.uk/peoplepopulationandcommunity/culturalidentity/sexuality/bulletins/sexualidentityuk/2020', 'title': 'Sexual orientation, UK'}], 'qmi': {'href': 'https://www.ons.gov.uk/peoplepopulationandcommunity/culturalidentity/sexuality/methodologies/sexualidentityukqmi'}, 'related_datasets': [{'href': 'https://www.ons.gov.uk/peoplepopulationandcommunity/culturalidentity/sexuality/datasets/sexualidentityuk', 'title': 'Sexual orientation, UK, dataset'}], 'release_frequency': 'Annual', 'state': 'published', 'title': 'Sexual orientation by English regions and UK countries', 'type': 'filterable', 'unit_of_measure': 'Number of people (thousands) and percentage'}, {'contacts': [{'email': 'pop.info@ons.gov.uk', 'name': 'Amanda Sharfman and Pamela Cobb', 'telephone': '+44 (0)1329 444661'}], 'description': 'Sexual orientation in the UK by sex and age, 2014 to 2020.\\n\\nSource: Annual Population Survey, ONS', 'id': 'sexual-orientation-by-age-and-sex', 'links': {'editions': {'href': 'https://api.beta.ons.gov.uk/v1/datasets/sexual-orientation-by-age-and-sex/editions'}, 'latest_version': {'href': 'https://api.beta.ons.gov.uk/v1/datasets/sexual-orientation-by-age-and-sex/editions/time-series/versions/2', 'id': '2'}, 'self': {'href': 'https://api.beta.ons.gov.uk/v1/datasets/sexual-orientation-by-age-and-sex'}, 'taxonomy': {'href': 'https://api.beta.ons.gov.uk/v1/peoplepopulationandcommunity/culturalidentity/sexuality'}}, 'next_release': 'To be announced', 'publications': [{'href': 'https://www.ons.gov.uk/peoplepopulationandcommunity/culturalidentity/sexuality/bulletins/sexualidentityuk/2020', 'title': 'Sexual orientation, UK'}], 'qmi': {'href': 'https://www.ons.gov.uk/peoplepopulationandcommunity/culturalidentity/sexuality/methodologies/sexualidentityukqmi'}, 'related_datasets': [{'href': 'https://www.ons.gov.uk/peoplepopulationandcommunity/culturalidentity/sexuality/datasets/sexualidentityuk', 'title': 'Sexual orientation, UK dataset'}], 'release_frequency': 'Annual', 'state': 'published', 'title': 'Sexual orientation by age and sex', 'type': 'filterable', 'unit_of_measure': 'Number of people (thousands) and percentage'}, {'contacts': [{'email': 'retail.sales.enquiries@ons.gov.uk', 'name': 'Rhys Lewis', 'telephone': '+44 1633 455602'}], 'description': 'Value and volume of retail sales broken down by size of business', 'id': 'retail-sales-index-large-and-small-businesses', 'keywords': ['RSI', 'internet sales,goods bought,buying,spending'], 'links': {'editions': {'href': 'https://api.beta.ons.gov.uk/v1/datasets/retail-sales-index-large-and-small-businesses/editions'}, 'latest_version': {'href': 'https://api.beta.ons.gov.uk/v1/datasets/retail-sales-index-large-and-small-businesses/editions/time-series/versions/16', 'id': '16'}, 'self': {'href': 'https://api.beta.ons.gov.uk/v1/datasets/retail-sales-index-large-and-small-businesses'}, 'taxonomy': {'href': 'https://api.beta.ons.gov.uk/v1/businessindustryandtrade/retailindustry'}}, 'national_statistic': False, 'next_release': '18 August 2023', 'qmi': {'href': 'https://www.ons.gov.uk/businessindustryandtrade/retailindustry/methodologies/retailsalesindexrsiqmi'}, 'release_frequency': 'Monthly', 'state': 'published', 'title': 'Retail sales index - large and small businesses', 'type': 'filterable', 'unit_of_measure': '2019=100'}, {'contacts': [{'email': 'retail.sales.enquiries@ons.gov.uk', 'name': 'Rhys Lewis', 'telephone': '+44 1633 455602'}], 'description': 'Value and volume of retail sales for all businesses.', 'id': 'retail-sales-index-all-businesses', 'keywords': ['RSI', 'internet sales,goods bought,buying,spending'], 'links': {'editions': {'href': 'https://api.beta.ons.gov.uk/v1/datasets/retail-sales-index-all-businesses/editions'}, 'latest_version': {'href': 'https://api.beta.ons.gov.uk/v1/datasets/retail-sales-index-all-businesses/editions/time-series/versions/16', 'id': '16'}, 'self': {'href': 'https://api.beta.ons.gov.uk/v1/datasets/retail-sales-index-all-businesses'}, 'taxonomy': {'href': 'https://api.beta.ons.gov.uk/v1/businessindustryandtrade/retailindustry'}}, 'national_statistic': False, 'next_release': '18 August 2023', 'qmi': {'href': 'https://www.ons.gov.uk/businessindustryandtrade/retailindustry/methodologies/retailsalesindexrsiqmi'}, 'release_frequency': 'Monthly', 'state': 'published', 'title': 'Retail sales index - all businesses', 'type': 'filterable', 'unit_of_measure': '2019=100'}, {'contacts': [{'email': 'retail.sales.enquiries@ons.gov.uk', 'name': 'Rhys Lewis', 'telephone': '+44 1633 455602'}], 'description': 'Retail sales data for Great Britain in value and volume terms, seasonally and non-seasonally adjusted.', 'id': 'retail-sales-index', 'keywords': ['RSI', 'internet sales,goods bought,buying,spending'], 'links': {'editions': {'href': 'https://api.beta.ons.gov.uk/v1/datasets/retail-sales-index/editions'}, 'latest_version': {'href': 'https://api.beta.ons.gov.uk/v1/datasets/retail-sales-index/editions/time-series/versions/16', 'id': '16'}, 'self': {'href': 'https://api.beta.ons.gov.uk/v1/datasets/retail-sales-index'}, 'taxonomy': {'href': 'https://api.beta.ons.gov.uk/v1/businessindustryandtrade/retailindustry'}}, 'national_statistic': False, 'next_release': '18 August 2023', 'qmi': {'href': 'https://www.ons.gov.uk/businessindustryandtrade/retailindustry/methodologies/retailsalesindexrsiqmi'}, 'release_frequency': 'Monthly', 'state': 'published', 'title': 'Retail sales index', 'type': 'filterable', 'unit_of_measure': '2019=100'}, {'contacts': [{'email': 'regionalgdp@ons.gov.uk', 'name': 'Keith Barnes', 'telephone': '+441633 456630'}], 'description': 'Annual economic activity within England, Wales and the nine English regions (North East, North West, Yorkshire and the Humber, East Midlands, West Midlands, East of England, Greater London, South East, South West).', 'id': 'regional-gdp-by-year', 'keywords': ['regional GDP'], 'links': {'editions': {'href': 'https://api.beta.ons.gov.uk/v1/datasets/regional-gdp-by-year/editions'}, 'latest_version': {'href': 'https://api.beta.ons.gov.uk/v1/datasets/regional-gdp-by-year/editions/time-series/versions/6', 'id': '6'}, 'self': {'href': 'https://api.beta.ons.gov.uk/v1/datasets/regional-gdp-by-year'}, 'taxonomy': {'href': 'https://api.beta.ons.gov.uk/v1/economy/grossdomesticproductgdp'}}, 'national_statistic': False, 'next_release': 'TBA', 'qmi': {'href': 'https://www.ons.gov.uk/economy/grossdomesticproductgdp/methodologies/grossdomesticproductgdpukregionsandcountriesqmi'}, 'release_frequency': 'Annual', 'state': 'published', 'title': 'Annual GDP for England, Wales and the English regions'}, {'contacts': [{'email': 'regionalgdp@ons.gov.uk', 'name': 'Keith Barnes', 'telephone': '+441633 456630'}], 'description': 'Quarterly economic activity within England, Wales and the nine English regions (North East, North West, Yorkshire and The Humber, East Midlands, West Midlands, East of England, London, South East, South West).', 'id': 'regional-gdp-by-quarter', 'keywords': ['regional GDP'], 'links': {'editions': {'href': 'https://api.beta.ons.gov.uk/v1/datasets/regional-gdp-by-quarter/editions'}, 'latest_version': {'href': 'https://api.beta.ons.gov.uk/v1/datasets/regional-gdp-by-quarter/editions/time-series/versions/6', 'id': '6'}, 'self': {'href': 'https://api.beta.ons.gov.uk/v1/datasets/regional-gdp-by-quarter'}, 'taxonomy': {'href': 'https://api.beta.ons.gov.uk/v1/economy/grossdomesticproductgdp'}}, 'national_statistic': False, 'next_release': 'To be announced', 'qmi': {'href': 'https://www.ons.gov.uk/economy/grossdomesticproductgdp/methodologies/grossdomesticproductgdpukregionsandcountriesqmi'}, 'release_frequency': 'To be announced', 'state': 'published', 'title': 'Quarterly GDP for England, Wales and the English regions'}, {'contacts': [{'email': 'pop.info@ons.gov.uk', 'name': 'Population Statistics Division', 'telephone': '+44 (0)1329 444661'}], 'description': 'Projected indicators included are derived from the published 2018-based subnational population projections for England, Wales, Scotland and Northern Ireland up to the year 2043. The indicators are the projected sex ratio for those aged 65 years and over and the projected sex ratio for those aged 85 years and over. A sex ratio shows the number of males in the population for every 100 females.\\n\\nThis dataset has been produced by the Ageing Analysis Team for inclusion in the subnational ageing tool, which was published on July 20, 2020 (see link in Related datasets). The tool is interactive, and users can compare latest and projected measures of ageing for up to four different areas through selection on a map or from a drop-down menu. \\n\\nNote on data sources: England, Wales, Scotland and Northern Ireland independently publish subnational population projections and the data available here are a compilation of these datasets. The ONS publish national level data for the UK, England, Wales and England & Wales, which has been included. National level data for Scotland and Northern Ireland have been taken from their subnational population projections datasets.', 'id': 'projections-older-people-sex-ratios', 'links': {'editions': {'href': 'https://api.beta.ons.gov.uk/v1/datasets/projections-older-people-sex-ratios/editions'}, 'latest_version': {'href': 'https://api.beta.ons.gov.uk/v1/datasets/projections-older-people-sex-ratios/editions/time-series/versions/1', 'id': '1'}, 'self': {'href': 'https://api.beta.ons.gov.uk/v1/datasets/projections-older-people-sex-ratios'}, 'taxonomy': {'href': 'https://api.beta.ons.gov.uk/v1/peoplepopulationandcommunity/birthsdeathsandmarriages/ageing'}}, 'methodologies': [{'href': 'https://www.nrscotland.gov.uk/files//statistics/population-projections/sub-national-pp-18/pop-proj-principal-18-methodology.pdf', 'title': 'Scotland Methodology Guide'}, {'href': 'https://gov.wales/population-and-household-statistics-technical-information', 'title': 'Wales technical information'}, {'href': 'https://www.nisra.gov.uk/sites/nisra.gov.uk/files/publications/SNPP18-Methodology.pdf', 'title': 'Northern Ireland methodology paper'}], 'next_release': 'To be announced', 'qmi': {'href': 'https://www.ons.gov.uk/peoplepopulationandcommunity/populationandmigration/populationprojections/methodologies/subnationalpopulationprojectionsqmi'}, 'related_datasets': [{'href': 'https://www.ons.gov.uk/peoplepopulationandcommunity/populationandmigration/populationprojections/bulletins/subnationalpopulationprojectionsforengland/2018based', 'title': 'Subnational population projections for England: 2018-based'}, {'href': 'https://www.nrscotland.gov.uk/statistics-and-data/statistics/statistics-by-theme/population/population-projections/sub-national-population-projections/2018-based', 'title': 'Population Projections for Scottish Areas (2018-based)'}, {'href': 'https://gov.wales/subnational-population-projections-2018-based', 'title': 'Wales Subnational population projections (local authority): 2018-based'}, {'href': 'https://www.nisra.gov.uk/publications/2018-based-population-projections-areas-within-northern-ireland', 'title': '2018-based Population Projections for Areas within Northern Ireland'}, {'href': 'https://www.ons.gov.uk/peoplepopulationandcommunity/birthsdeathsandmarriages/ageing/articles/subnationalageingtool/2020-07-20', 'title': 'Subnational ageing tool'}], 'release_frequency': 'Biennial', 'state': 'published', 'title': 'Local authority ageing statistics, projected sex ratios for older people'}], 'limit': 20, 'offset': 0, 'total_count': 337}\n",
            "@context\n",
            "count\n",
            "items\n",
            "limit\n",
            "offset\n",
            "total_count\n"
          ]
        }
      ]
    },
    {
      "cell_type": "code",
      "source": [
        "# access the 'items' list\n",
        "items_list = data['items']\n",
        "#print(items_list)\n",
        "\n",
        "# for item in items_list:\n",
        "#   print(item)\n",
        "\n",
        "item_5 = items_list[5]\n",
        "#print(item_5)\n",
        "print(type(item_5))\n",
        "print(item_5.keys())\n",
        "\n"
      ],
      "metadata": {
        "colab": {
          "base_uri": "https://localhost:8080/"
        },
        "id": "oWpH3X-6uSIm",
        "outputId": "5cd5a047-5fa2-4de5-c164-eba625d1b8cd"
      },
      "execution_count": null,
      "outputs": [
        {
          "output_type": "stream",
          "name": "stdout",
          "text": [
            "<class 'dict'>\n",
            "dict_keys(['contacts', 'description', 'id', 'keywords', 'links', 'national_statistic', 'next_release', 'qmi', 'release_frequency', 'state', 'title'])\n"
          ]
        }
      ]
    },
    {
      "cell_type": "code",
      "source": [
        "\n",
        "# iterate through elements in item and print\n",
        "number = 0\n",
        "for item in items_list:\n",
        "    number += 1\n",
        "    print(f\"Item {number}:\")\n",
        "    for key, value in item.items():\n",
        "        print(f\"{key}: {value}\")\n",
        "    print(\"\\n\")  # Add an empty line between items"
      ],
      "metadata": {
        "colab": {
          "base_uri": "https://localhost:8080/"
        },
        "id": "c-4Ac-Tet7_W",
        "outputId": "72f65ba8-b829-4fc6-bd07-81db937e4ad9"
      },
      "execution_count": null,
      "outputs": [
        {
          "output_type": "stream",
          "name": "stdout",
          "text": [
            "Item 1:\n",
            "contacts: [{'email': 'qualityoflife@ons.gov.uk', 'name': 'Rachel Mullis, Emily Froud and Geeta Kerai', 'telephone': '+44 300 0671543'}]\n",
            "description: Seasonally and non seasonally-adjusted quarterly estimates of life satisfaction, feeling that the things done in life are worthwhile, happiness and anxiety in the UK.\n",
            "id: wellbeing-quarterly\n",
            "keywords: ['well-being']\n",
            "links: {'editions': {'href': 'https://api.beta.ons.gov.uk/v1/datasets/wellbeing-quarterly/editions'}, 'latest_version': {'href': 'https://api.beta.ons.gov.uk/v1/datasets/wellbeing-quarterly/editions/time-series/versions/7', 'id': '7'}, 'self': {'href': 'https://api.beta.ons.gov.uk/v1/datasets/wellbeing-quarterly'}, 'taxonomy': {'href': 'https://api.beta.ons.gov.uk/v1/peoplepopulationandcommunity/wellbeing'}}\n",
            "methodologies: [{'href': 'https://www.ons.gov.uk/peoplepopulationandcommunity/wellbeing/methodologies/personalwellbeingquarterlyestimatestechnicalreport', 'title': 'Personal well-being quarterly estimates technical report'}]\n",
            "national_statistic: False\n",
            "next_release: TBC\n",
            "qmi: {'href': 'https://www.ons.gov.uk/peoplepopulationandcommunity/wellbeing/methodologies/personalwellbeingintheukqmi'}\n",
            "related_datasets: [{'href': 'https://www.ons.gov.uk/peoplepopulationandcommunity/wellbeing/bulletins/personalwellbeingintheukquarterly/april2011toseptember2021/relateddata', 'title': 'Quality of life in the UK'}]\n",
            "release_frequency: Quarterly\n",
            "state: published\n",
            "title: Quarterly personal well-being estimates\n",
            "unit_of_measure: Percentage\n",
            "\n",
            "\n",
            "Item 2:\n",
            "contacts: [{'email': 'QualityOfLife@ons.gov.uk', 'name': 'Ben Hayes, Charlotte Leach and Geeta Kerai', 'telephone': '+44 3000 671 543'}]\n",
            "description: Estimates of life satisfaction, feeling that the things done in life are worthwhile, happiness and anxiety at the UK, country, regional, county, local and unitary authority level.\n",
            "id: wellbeing-local-authority\n",
            "keywords: ['well-being']\n",
            "links: {'editions': {'href': 'https://api.beta.ons.gov.uk/v1/datasets/wellbeing-local-authority/editions'}, 'latest_version': {'href': 'https://api.beta.ons.gov.uk/v1/datasets/wellbeing-local-authority/editions/time-series/versions/3', 'id': '3'}, 'self': {'href': 'https://api.beta.ons.gov.uk/v1/datasets/wellbeing-local-authority'}, 'taxonomy': {'href': 'https://api.beta.ons.gov.uk/v1/peoplepopulationandcommunity/wellbeing'}}\n",
            "national_statistic: True\n",
            "next_release: TBC\n",
            "qmi: {'href': 'https://www.ons.gov.uk/peoplepopulationandcommunity/wellbeing/methodologies/personalwellbeingintheukqmi'}\n",
            "related_datasets: [{'href': 'https://www.ons.gov.uk/peoplepopulationandcommunity/wellbeing/bulletins/measuringnationalwellbeing/april2021tomarch2022', 'title': 'Personal well-being in the UK: April 2021 to March 2022'}]\n",
            "release_frequency: Annual\n",
            "state: published\n",
            "title: Personal well-being estimates by local authority\n",
            "unit_of_measure: Percentage\n",
            "\n",
            "\n",
            "Item 3:\n",
            "contacts: [{'email': 'health.data@ons.gov.uk', 'name': 'Sarah Caul', 'telephone': '+44 1329 444110'}]\n",
            "description: Provisional counts of the number of deaths registered in England and Wales, by region, in the latest weeks for which data are available.\n",
            "id: weekly-deaths-region\n",
            "keywords: ['Deaths', 'weekly deaths']\n",
            "links: {'editions': {'href': 'https://api.beta.ons.gov.uk/v1/datasets/weekly-deaths-region/editions'}, 'latest_version': {'href': 'https://api.beta.ons.gov.uk/v1/datasets/weekly-deaths-region/editions/covid-19/versions/149', 'id': '149'}, 'self': {'href': 'https://api.beta.ons.gov.uk/v1/datasets/weekly-deaths-region'}, 'taxonomy': {'href': 'https://api.beta.ons.gov.uk/v1/peoplepopulationandcommunity/birthsdeathsandmarriages/deaths'}}\n",
            "national_statistic: True\n",
            "next_release: 15 August 2023\n",
            "qmi: {'href': 'https://www.ons.gov.uk/peoplepopulationandcommunity/birthsdeathsandmarriages/deaths/methodologies/mortalitystatisticsinenglandandwalesqmi'}\n",
            "release_frequency: Weekly\n",
            "state: published\n",
            "title: Deaths registered weekly in England and Wales by region\n",
            "\n",
            "\n",
            "Item 4:\n",
            "contacts: [{'email': 'health.data@ons.gov.uk', 'name': 'Sarah Caul', 'telephone': '+44 1329 444110'}]\n",
            "description: Provisional counts of the number of deaths registered in England and Wales, including deaths involving the coronavirus (COVID-19), by local authority, health board and place of death in the latest weeks for which data are available.\n",
            "id: weekly-deaths-local-authority\n",
            "keywords: ['Deaths', 'weekly deaths']\n",
            "links: {'editions': {'href': 'https://api.beta.ons.gov.uk/v1/datasets/weekly-deaths-local-authority/editions'}, 'latest_version': {'href': 'https://api.beta.ons.gov.uk/v1/datasets/weekly-deaths-local-authority/editions/2022/versions/80', 'id': '80'}, 'self': {'href': 'https://api.beta.ons.gov.uk/v1/datasets/weekly-deaths-local-authority'}, 'taxonomy': {'href': 'https://api.beta.ons.gov.uk/v1/peoplepopulationandcommunity/birthsdeathsandmarriages/deaths'}}\n",
            "national_statistic: True\n",
            "next_release: 15 August 2023\n",
            "qmi: {'href': 'https://www.ons.gov.uk/peoplepopulationandcommunity/birthsdeathsandmarriages/deaths/methodologies/mortalitystatisticsinenglandandwalesqmi'}\n",
            "release_frequency: Weekly\n",
            "state: published\n",
            "title: Death registrations and occurrences by local authority and place of death\n",
            "\n",
            "\n",
            "Item 5:\n",
            "contacts: [{'email': 'health.data@ons.gov.uk', 'name': 'Sarah Caul', 'telephone': '+44 1329 444110'}]\n",
            "description: Provisional counts of the number of deaths registered in Wales, by health board and place of death, in the latest weeks for which data are available.\n",
            "id: weekly-deaths-health-board\n",
            "keywords: ['Deaths', 'weekly deaths']\n",
            "links: {'editions': {'href': 'https://api.beta.ons.gov.uk/v1/datasets/weekly-deaths-health-board/editions'}, 'latest_version': {'href': 'https://api.beta.ons.gov.uk/v1/datasets/weekly-deaths-health-board/editions/2022/versions/80', 'id': '80'}, 'self': {'href': 'https://api.beta.ons.gov.uk/v1/datasets/weekly-deaths-health-board'}, 'taxonomy': {'href': 'https://api.beta.ons.gov.uk/v1/peoplepopulationandcommunity/birthsdeathsandmarriages/deaths'}}\n",
            "national_statistic: True\n",
            "next_release: 15 August 2023\n",
            "qmi: {'href': 'https://www.ons.gov.uk/peoplepopulationandcommunity/birthsdeathsandmarriages/deaths/methodologies/mortalitystatisticsinenglandandwalesqmi'}\n",
            "release_frequency: Weekly\n",
            "state: published\n",
            "title: Death registrations and occurrences by health board and place of death\n",
            "\n",
            "\n",
            "Item 6:\n",
            "contacts: [{'email': 'health.data@ons.gov.uk', 'name': 'Sarah Caul', 'telephone': '+44 1329 444110'}]\n",
            "description: Provisional counts of the number of deaths registered in England and Wales, by age and sex, in the latest weeks for which data are available.\n",
            "id: weekly-deaths-age-sex\n",
            "keywords: ['Deaths', 'weekly deaths']\n",
            "links: {'editions': {'href': 'https://api.beta.ons.gov.uk/v1/datasets/weekly-deaths-age-sex/editions'}, 'latest_version': {'href': 'https://api.beta.ons.gov.uk/v1/datasets/weekly-deaths-age-sex/editions/covid-19/versions/149', 'id': '149'}, 'self': {'href': 'https://api.beta.ons.gov.uk/v1/datasets/weekly-deaths-age-sex'}, 'taxonomy': {'href': 'https://api.beta.ons.gov.uk/v1/peoplepopulationandcommunity/birthsdeathsandmarriages/deaths'}}\n",
            "national_statistic: True\n",
            "next_release: 15 August 2023\n",
            "qmi: {'href': 'https://www.ons.gov.uk/peoplepopulationandcommunity/birthsdeathsandmarriages/deaths/methodologies/mortalitystatisticsinenglandandwalesqmi'}\n",
            "release_frequency: Weekly\n",
            "state: published\n",
            "title: Deaths registered weekly in England and Wales by age and sex\n",
            "\n",
            "\n",
            "Item 7:\n",
            "contacts: [{'email': 'realtime.indicators@ons.gov.uk', 'name': 'Katie Cunliffe', 'telephone': '+44 1633 560344'}]\n",
            "description: These data series are experimental faster indicators for monitoring UK spending using debit and credit cards.\n",
            "id: uk-spending-on-cards\n",
            "links: {'editions': {'href': 'https://api.beta.ons.gov.uk/v1/datasets/uk-spending-on-cards/editions'}, 'latest_version': {'href': 'https://api.beta.ons.gov.uk/v1/datasets/uk-spending-on-cards/editions/time-series/versions/91', 'id': '91'}, 'self': {'href': 'https://api.beta.ons.gov.uk/v1/datasets/uk-spending-on-cards'}, 'taxonomy': {'href': 'https://api.beta.ons.gov.uk/v1/economy/economicoutputandproductivity/productivitymeasures'}}\n",
            "national_statistic: False\n",
            "next_release: To be announced\n",
            "qmi: {'href': 'https://www.bankofengland.co.uk/payment-and-settlement/chaps-faster-indicator'}\n",
            "release_frequency: Weekly\n",
            "state: published\n",
            "title: UK spending on credit and debit cards\n",
            "type: filterable\n",
            "\n",
            "\n",
            "Item 8:\n",
            "contacts: [{'email': 'idbras@ons.gov.uk', 'name': 'Becky Shaw', 'telephone': '+44 1633 456902'}]\n",
            "description: The data contained in these tables are numbers of enterprises and local units produced from a snapshot of the Inter-Departmental Business Register (IDBR) taken on 12 March 2021. This dataset contains details of the number of VAT and/or PAYE based enterprises and local units in districts, counties and unitary authorities within region and country by broad industry group.\n",
            "id: uk-business-by-enterprises-and-local-units\n",
            "keywords: ['enterprises', 'local units,IDBR,business counts,Inter-Departmental Business Register']\n",
            "links: {'editions': {'href': 'https://api.beta.ons.gov.uk/v1/datasets/uk-business-by-enterprises-and-local-units/editions'}, 'latest_version': {'href': 'https://api.beta.ons.gov.uk/v1/datasets/uk-business-by-enterprises-and-local-units/editions/2022/versions/1', 'id': '1'}, 'self': {'href': 'https://api.beta.ons.gov.uk/v1/datasets/uk-business-by-enterprises-and-local-units'}, 'taxonomy': {'href': 'https://api.beta.ons.gov.uk/v1/businessindustryandtrade/business/businessservices'}}\n",
            "next_release: To be announced\n",
            "publications: [{'href': 'https://www.ons.gov.uk/businessindustryandtrade/business/activitysizeandlocation', 'title': 'UK Business: Activity, Size and Location'}]\n",
            "qmi: {'href': 'https://www.ons.gov.uk/businessindustryandtrade/business/activitysizeandlocation/methodologies/ukbusinessactivitysizeandlocationqmi'}\n",
            "release_frequency: Annual\n",
            "state: published\n",
            "title: UK Business: Activity, Size and Location\n",
            "type: filterable\n",
            "unit_of_measure: Count\n",
            "\n",
            "\n",
            "Item 9:\n",
            "contacts: [{'email': 'realtime.indicators@ons.gov.uk', 'name': 'Katie Cunliffe', 'telephone': '+44 1633 560344'}]\n",
            "description: Experimental dataset for business indices covering the UK as part of the real-time indicators release to help better understand economic activity and social change in the UK.\n",
            "id: traffic-camera-activity\n",
            "links: {'editions': {'href': 'https://api.beta.ons.gov.uk/v1/datasets/traffic-camera-activity/editions'}, 'latest_version': {'href': 'https://api.beta.ons.gov.uk/v1/datasets/traffic-camera-activity/editions/time-series/versions/71', 'id': '71'}, 'self': {'href': 'https://api.beta.ons.gov.uk/v1/datasets/traffic-camera-activity'}, 'taxonomy': {'href': 'https://api.beta.ons.gov.uk/v1/businessindustryandtrade/business/activitysizeandlocation'}}\n",
            "national_statistic: False\n",
            "next_release: To be announced\n",
            "qmi: {'href': 'https://datasciencecampus.ons.gov.uk/projects/estimating-vehicle-and-pedestrian-activity-from-town-and-city-traffic-cameras/'}\n",
            "release_frequency: Weekly\n",
            "state: published\n",
            "title: Traffic Camera Activity\n",
            "type: filterable\n",
            "\n",
            "\n",
            "Item 10:\n",
            "contacts: [{'email': 'trade@ons.gov.uk', 'name': 'Hannah Donnarumma', 'telephone': '+44 (0)1329 447648'}]\n",
            "description: Country by commodity data on the UK's trade in goods, including trade by all countries and selected commodities, exports and imports, non seasonally adjusted.\n",
            "id: trade\n",
            "keywords: ['trade']\n",
            "links: {'editions': {'href': 'https://api.beta.ons.gov.uk/v1/datasets/trade/editions'}, 'latest_version': {'href': 'https://api.beta.ons.gov.uk/v1/datasets/trade/editions/time-series/versions/34', 'id': '34'}, 'self': {'href': 'https://api.beta.ons.gov.uk/v1/datasets/trade'}, 'taxonomy': {'href': 'https://api.beta.ons.gov.uk/v1/businessindustryandtrade/internationaltrade'}}\n",
            "national_statistic: False\n",
            "next_release: 11 August 2022\n",
            "qmi: {'href': 'https://www.ons.gov.uk/economy/nationalaccounts/balanceofpayments/methodologies/uktradeqmi'}\n",
            "release_frequency: Monthly\n",
            "state: published\n",
            "title: Trade in goods: country by commodity\n",
            "unit_of_measure: £million\n",
            "\n",
            "\n",
            "Item 11:\n",
            "contacts: [{'email': 'hie@ons.gov.uk', 'name': 'Paula Croal', 'telephone': '01633 651927'}]\n",
            "description: Estimates of mean and median annual incomes in the UK, by quintile groups.\n",
            "The redistribution effects on individuals of direct and indirect taxation and benefits received in cash or kind.\n",
            "id: tax-benefits-statistics\n",
            "links: {'editions': {'href': 'https://api.beta.ons.gov.uk/v1/datasets/tax-benefits-statistics/editions'}, 'latest_version': {'href': 'https://api.beta.ons.gov.uk/v1/datasets/tax-benefits-statistics/editions/time-series/versions/3', 'id': '3'}, 'self': {'href': 'https://api.beta.ons.gov.uk/v1/datasets/tax-benefits-statistics'}, 'taxonomy': {'href': 'https://api.beta.ons.gov.uk/v1/economy/governmentpublicsectorandtaxes/taxesandrevenue'}}\n",
            "next_release: TBA\n",
            "qmi: {'href': 'https://www.ons.gov.uk/peoplepopulationandcommunity/personalandhouseholdfinances/incomeandwealth/methodologies/theeffectsoftaxesandbenefitsonukhouseholdincome'}\n",
            "release_frequency: Annual\n",
            "state: published\n",
            "title: Effects of Taxes and Benefits on Household Income\n",
            "\n",
            "\n",
            "Item 12:\n",
            "contacts: [{'email': 'health.data@ons.gov.uk', 'name': 'Rabiya Nasir, Emyr John and David Mais', 'telephone': '+44 1633 456501'}]\n",
            "description: Number of suicides by local authority in England and Wales, registered from 2001.\n",
            "\n",
            "If you are struggling to cope, please call Samaritans for free on 116 123 (UK and ROI) or contact other sources of support, such as those listed on the NHS’s help for suicidal thoughts webpage. Support is available round the clock, every single day of the year, providing a safe place for anyone struggling to cope, whoever they are, however they feel, whatever life has done to them.\n",
            "id: suicides-in-the-uk\n",
            "keywords: ['suicide', 'mortality']\n",
            "links: {'editions': {'href': 'https://api.beta.ons.gov.uk/v1/datasets/suicides-in-the-uk/editions'}, 'latest_version': {'href': 'https://api.beta.ons.gov.uk/v1/datasets/suicides-in-the-uk/editions/2021/versions/1', 'id': '1'}, 'self': {'href': 'https://api.beta.ons.gov.uk/v1/datasets/suicides-in-the-uk'}, 'taxonomy': {'href': 'https://api.beta.ons.gov.uk/v1/peoplepopulationandcommunity/birthsdeathsandmarriages/deaths'}}\n",
            "methodologies: [{'href': 'https://www.samaritans.org/', 'title': 'Samaritans'}, {'href': 'https://www.nhs.uk/mental-health/feelings-symptoms-behaviours/behaviours/help-for-suicidal-thoughts/', 'title': 'Help for suicidal thoughts'}]\n",
            "national_statistic: True\n",
            "next_release: To be announced\n",
            "qmi: {'href': 'https://www.ons.gov.uk/peoplepopulationandcommunity/birthsdeathsandmarriages/deaths/methodologies/suicideratesintheukqmi'}\n",
            "related_datasets: [{'href': 'https://www.ons.gov.uk/peoplepopulationandcommunity/birthsdeathsandmarriages/deaths/bulletins/suicidesintheunitedkingdom/latest', 'title': 'Suicides in England and Wales'}]\n",
            "release_frequency: Annually\n",
            "state: published\n",
            "title: Suicide registrations in England and Wales by local authority\n",
            "\n",
            "\n",
            "Item 13:\n",
            "contacts: [{'email': 'pop.info@ons.gov.uk', 'name': 'Amanda Sharfman and Pamela Cobb', 'telephone': '+44 (0)1329 444661'}]\n",
            "description: Sexual orientation in the UK from 2012 to 2020 by region.\n",
            "\n",
            "Data source: Annual Population Survey, ONS\n",
            "\n",
            "id: sexual-orientation-by-region\n",
            "keywords: ['gay', 'lesbian,bisexual,straight,LGB']\n",
            "links: {'editions': {'href': 'https://api.beta.ons.gov.uk/v1/datasets/sexual-orientation-by-region/editions'}, 'latest_version': {'href': 'https://api.beta.ons.gov.uk/v1/datasets/sexual-orientation-by-region/editions/time-series/versions/2', 'id': '2'}, 'self': {'href': 'https://api.beta.ons.gov.uk/v1/datasets/sexual-orientation-by-region'}, 'taxonomy': {'href': 'https://api.beta.ons.gov.uk/v1/peoplepopulationandcommunity/culturalidentity/sexuality'}}\n",
            "next_release: To be announced\n",
            "publications: [{'href': 'https://www.ons.gov.uk/peoplepopulationandcommunity/culturalidentity/sexuality/bulletins/sexualidentityuk/2020', 'title': 'Sexual orientation, UK'}]\n",
            "qmi: {'href': 'https://www.ons.gov.uk/peoplepopulationandcommunity/culturalidentity/sexuality/methodologies/sexualidentityukqmi'}\n",
            "related_datasets: [{'href': 'https://www.ons.gov.uk/peoplepopulationandcommunity/culturalidentity/sexuality/datasets/sexualidentityuk', 'title': 'Sexual orientation, UK, dataset'}]\n",
            "release_frequency: Annual\n",
            "state: published\n",
            "title: Sexual orientation by English regions and UK countries\n",
            "type: filterable\n",
            "unit_of_measure: Number of people (thousands) and percentage\n",
            "\n",
            "\n",
            "Item 14:\n",
            "contacts: [{'email': 'pop.info@ons.gov.uk', 'name': 'Amanda Sharfman and Pamela Cobb', 'telephone': '+44 (0)1329 444661'}]\n",
            "description: Sexual orientation in the UK by sex and age, 2014 to 2020.\n",
            "\n",
            "Source: Annual Population Survey, ONS\n",
            "id: sexual-orientation-by-age-and-sex\n",
            "links: {'editions': {'href': 'https://api.beta.ons.gov.uk/v1/datasets/sexual-orientation-by-age-and-sex/editions'}, 'latest_version': {'href': 'https://api.beta.ons.gov.uk/v1/datasets/sexual-orientation-by-age-and-sex/editions/time-series/versions/2', 'id': '2'}, 'self': {'href': 'https://api.beta.ons.gov.uk/v1/datasets/sexual-orientation-by-age-and-sex'}, 'taxonomy': {'href': 'https://api.beta.ons.gov.uk/v1/peoplepopulationandcommunity/culturalidentity/sexuality'}}\n",
            "next_release: To be announced\n",
            "publications: [{'href': 'https://www.ons.gov.uk/peoplepopulationandcommunity/culturalidentity/sexuality/bulletins/sexualidentityuk/2020', 'title': 'Sexual orientation, UK'}]\n",
            "qmi: {'href': 'https://www.ons.gov.uk/peoplepopulationandcommunity/culturalidentity/sexuality/methodologies/sexualidentityukqmi'}\n",
            "related_datasets: [{'href': 'https://www.ons.gov.uk/peoplepopulationandcommunity/culturalidentity/sexuality/datasets/sexualidentityuk', 'title': 'Sexual orientation, UK dataset'}]\n",
            "release_frequency: Annual\n",
            "state: published\n",
            "title: Sexual orientation by age and sex\n",
            "type: filterable\n",
            "unit_of_measure: Number of people (thousands) and percentage\n",
            "\n",
            "\n",
            "Item 15:\n",
            "contacts: [{'email': 'retail.sales.enquiries@ons.gov.uk', 'name': 'Rhys Lewis', 'telephone': '+44 1633 455602'}]\n",
            "description: Value and volume of retail sales broken down by size of business\n",
            "id: retail-sales-index-large-and-small-businesses\n",
            "keywords: ['RSI', 'internet sales,goods bought,buying,spending']\n",
            "links: {'editions': {'href': 'https://api.beta.ons.gov.uk/v1/datasets/retail-sales-index-large-and-small-businesses/editions'}, 'latest_version': {'href': 'https://api.beta.ons.gov.uk/v1/datasets/retail-sales-index-large-and-small-businesses/editions/time-series/versions/16', 'id': '16'}, 'self': {'href': 'https://api.beta.ons.gov.uk/v1/datasets/retail-sales-index-large-and-small-businesses'}, 'taxonomy': {'href': 'https://api.beta.ons.gov.uk/v1/businessindustryandtrade/retailindustry'}}\n",
            "national_statistic: False\n",
            "next_release: 18 August 2023\n",
            "qmi: {'href': 'https://www.ons.gov.uk/businessindustryandtrade/retailindustry/methodologies/retailsalesindexrsiqmi'}\n",
            "release_frequency: Monthly\n",
            "state: published\n",
            "title: Retail sales index - large and small businesses\n",
            "type: filterable\n",
            "unit_of_measure: 2019=100\n",
            "\n",
            "\n",
            "Item 16:\n",
            "contacts: [{'email': 'retail.sales.enquiries@ons.gov.uk', 'name': 'Rhys Lewis', 'telephone': '+44 1633 455602'}]\n",
            "description: Value and volume of retail sales for all businesses.\n",
            "id: retail-sales-index-all-businesses\n",
            "keywords: ['RSI', 'internet sales,goods bought,buying,spending']\n",
            "links: {'editions': {'href': 'https://api.beta.ons.gov.uk/v1/datasets/retail-sales-index-all-businesses/editions'}, 'latest_version': {'href': 'https://api.beta.ons.gov.uk/v1/datasets/retail-sales-index-all-businesses/editions/time-series/versions/16', 'id': '16'}, 'self': {'href': 'https://api.beta.ons.gov.uk/v1/datasets/retail-sales-index-all-businesses'}, 'taxonomy': {'href': 'https://api.beta.ons.gov.uk/v1/businessindustryandtrade/retailindustry'}}\n",
            "national_statistic: False\n",
            "next_release: 18 August 2023\n",
            "qmi: {'href': 'https://www.ons.gov.uk/businessindustryandtrade/retailindustry/methodologies/retailsalesindexrsiqmi'}\n",
            "release_frequency: Monthly\n",
            "state: published\n",
            "title: Retail sales index - all businesses\n",
            "type: filterable\n",
            "unit_of_measure: 2019=100\n",
            "\n",
            "\n",
            "Item 17:\n",
            "contacts: [{'email': 'retail.sales.enquiries@ons.gov.uk', 'name': 'Rhys Lewis', 'telephone': '+44 1633 455602'}]\n",
            "description: Retail sales data for Great Britain in value and volume terms, seasonally and non-seasonally adjusted.\n",
            "id: retail-sales-index\n",
            "keywords: ['RSI', 'internet sales,goods bought,buying,spending']\n",
            "links: {'editions': {'href': 'https://api.beta.ons.gov.uk/v1/datasets/retail-sales-index/editions'}, 'latest_version': {'href': 'https://api.beta.ons.gov.uk/v1/datasets/retail-sales-index/editions/time-series/versions/16', 'id': '16'}, 'self': {'href': 'https://api.beta.ons.gov.uk/v1/datasets/retail-sales-index'}, 'taxonomy': {'href': 'https://api.beta.ons.gov.uk/v1/businessindustryandtrade/retailindustry'}}\n",
            "national_statistic: False\n",
            "next_release: 18 August 2023\n",
            "qmi: {'href': 'https://www.ons.gov.uk/businessindustryandtrade/retailindustry/methodologies/retailsalesindexrsiqmi'}\n",
            "release_frequency: Monthly\n",
            "state: published\n",
            "title: Retail sales index\n",
            "type: filterable\n",
            "unit_of_measure: 2019=100\n",
            "\n",
            "\n",
            "Item 18:\n",
            "contacts: [{'email': 'regionalgdp@ons.gov.uk', 'name': 'Keith Barnes', 'telephone': '+441633 456630'}]\n",
            "description: Annual economic activity within England, Wales and the nine English regions (North East, North West, Yorkshire and the Humber, East Midlands, West Midlands, East of England, Greater London, South East, South West).\n",
            "id: regional-gdp-by-year\n",
            "keywords: ['regional GDP']\n",
            "links: {'editions': {'href': 'https://api.beta.ons.gov.uk/v1/datasets/regional-gdp-by-year/editions'}, 'latest_version': {'href': 'https://api.beta.ons.gov.uk/v1/datasets/regional-gdp-by-year/editions/time-series/versions/6', 'id': '6'}, 'self': {'href': 'https://api.beta.ons.gov.uk/v1/datasets/regional-gdp-by-year'}, 'taxonomy': {'href': 'https://api.beta.ons.gov.uk/v1/economy/grossdomesticproductgdp'}}\n",
            "national_statistic: False\n",
            "next_release: TBA\n",
            "qmi: {'href': 'https://www.ons.gov.uk/economy/grossdomesticproductgdp/methodologies/grossdomesticproductgdpukregionsandcountriesqmi'}\n",
            "release_frequency: Annual\n",
            "state: published\n",
            "title: Annual GDP for England, Wales and the English regions\n",
            "\n",
            "\n",
            "Item 19:\n",
            "contacts: [{'email': 'regionalgdp@ons.gov.uk', 'name': 'Keith Barnes', 'telephone': '+441633 456630'}]\n",
            "description: Quarterly economic activity within England, Wales and the nine English regions (North East, North West, Yorkshire and The Humber, East Midlands, West Midlands, East of England, London, South East, South West).\n",
            "id: regional-gdp-by-quarter\n",
            "keywords: ['regional GDP']\n",
            "links: {'editions': {'href': 'https://api.beta.ons.gov.uk/v1/datasets/regional-gdp-by-quarter/editions'}, 'latest_version': {'href': 'https://api.beta.ons.gov.uk/v1/datasets/regional-gdp-by-quarter/editions/time-series/versions/6', 'id': '6'}, 'self': {'href': 'https://api.beta.ons.gov.uk/v1/datasets/regional-gdp-by-quarter'}, 'taxonomy': {'href': 'https://api.beta.ons.gov.uk/v1/economy/grossdomesticproductgdp'}}\n",
            "national_statistic: False\n",
            "next_release: To be announced\n",
            "qmi: {'href': 'https://www.ons.gov.uk/economy/grossdomesticproductgdp/methodologies/grossdomesticproductgdpukregionsandcountriesqmi'}\n",
            "release_frequency: To be announced\n",
            "state: published\n",
            "title: Quarterly GDP for England, Wales and the English regions\n",
            "\n",
            "\n",
            "Item 20:\n",
            "contacts: [{'email': 'pop.info@ons.gov.uk', 'name': 'Population Statistics Division', 'telephone': '+44 (0)1329 444661'}]\n",
            "description: Projected indicators included are derived from the published 2018-based subnational population projections for England, Wales, Scotland and Northern Ireland up to the year 2043. The indicators are the projected sex ratio for those aged 65 years and over and the projected sex ratio for those aged 85 years and over. A sex ratio shows the number of males in the population for every 100 females.\n",
            "\n",
            "This dataset has been produced by the Ageing Analysis Team for inclusion in the subnational ageing tool, which was published on July 20, 2020 (see link in Related datasets). The tool is interactive, and users can compare latest and projected measures of ageing for up to four different areas through selection on a map or from a drop-down menu. \n",
            "\n",
            "Note on data sources: England, Wales, Scotland and Northern Ireland independently publish subnational population projections and the data available here are a compilation of these datasets. The ONS publish national level data for the UK, England, Wales and England & Wales, which has been included. National level data for Scotland and Northern Ireland have been taken from their subnational population projections datasets.\n",
            "id: projections-older-people-sex-ratios\n",
            "links: {'editions': {'href': 'https://api.beta.ons.gov.uk/v1/datasets/projections-older-people-sex-ratios/editions'}, 'latest_version': {'href': 'https://api.beta.ons.gov.uk/v1/datasets/projections-older-people-sex-ratios/editions/time-series/versions/1', 'id': '1'}, 'self': {'href': 'https://api.beta.ons.gov.uk/v1/datasets/projections-older-people-sex-ratios'}, 'taxonomy': {'href': 'https://api.beta.ons.gov.uk/v1/peoplepopulationandcommunity/birthsdeathsandmarriages/ageing'}}\n",
            "methodologies: [{'href': 'https://www.nrscotland.gov.uk/files//statistics/population-projections/sub-national-pp-18/pop-proj-principal-18-methodology.pdf', 'title': 'Scotland Methodology Guide'}, {'href': 'https://gov.wales/population-and-household-statistics-technical-information', 'title': 'Wales technical information'}, {'href': 'https://www.nisra.gov.uk/sites/nisra.gov.uk/files/publications/SNPP18-Methodology.pdf', 'title': 'Northern Ireland methodology paper'}]\n",
            "next_release: To be announced\n",
            "qmi: {'href': 'https://www.ons.gov.uk/peoplepopulationandcommunity/populationandmigration/populationprojections/methodologies/subnationalpopulationprojectionsqmi'}\n",
            "related_datasets: [{'href': 'https://www.ons.gov.uk/peoplepopulationandcommunity/populationandmigration/populationprojections/bulletins/subnationalpopulationprojectionsforengland/2018based', 'title': 'Subnational population projections for England: 2018-based'}, {'href': 'https://www.nrscotland.gov.uk/statistics-and-data/statistics/statistics-by-theme/population/population-projections/sub-national-population-projections/2018-based', 'title': 'Population Projections for Scottish Areas (2018-based)'}, {'href': 'https://gov.wales/subnational-population-projections-2018-based', 'title': 'Wales Subnational population projections (local authority): 2018-based'}, {'href': 'https://www.nisra.gov.uk/publications/2018-based-population-projections-areas-within-northern-ireland', 'title': '2018-based Population Projections for Areas within Northern Ireland'}, {'href': 'https://www.ons.gov.uk/peoplepopulationandcommunity/birthsdeathsandmarriages/ageing/articles/subnationalageingtool/2020-07-20', 'title': 'Subnational ageing tool'}]\n",
            "release_frequency: Biennial\n",
            "state: published\n",
            "title: Local authority ageing statistics, projected sex ratios for older people\n",
            "\n",
            "\n"
          ]
        }
      ]
    },
    {
      "cell_type": "code",
      "source": [
        "import requests\n",
        "import json\n",
        "import pandas as pd\n",
        "from urllib.request import urlopen, Request\n",
        "\n",
        "#ONS_url_gdp = 'https://api.beta.ons.gov.uk/v1/datasets/regional-gdp-by-quarter/editions/time-series/versions/6'\n",
        "\n",
        "#json_data = requests.get(ONS_url_gdp).json()\n",
        "#print(json_data['downloads']['csv']['href'])#.keys())\n",
        "#filename = pd.read_csv(json_data['downloads']['csv']['href'])\n",
        "headers = {\"User-Agent\": \"Mozilla/5.0 (Windows NT 6.1) AppleWebKit/537.36 (KHTML, like Gecko) Chrome/41.0.2228.0 Safari/537.3\"}\n",
        "url = 'https://download.beta.ons.gov.uk/downloads/datasets/regional-gdp-by-quarter/editions/time-series/versions/6.csv'\n",
        "req = Request(url=url, headers=headers)\n",
        "html = urlopen(req).read()\n",
        "print(html)\n",
        "#gdp_df = pd.read_csv(url)\n",
        "#print(gdp_df)\n",
        "#ONS_gdp_df = pd.json_normalize(data)\n",
        "\n"
      ],
      "metadata": {
        "colab": {
          "base_uri": "https://localhost:8080/"
        },
        "id": "PkbiMYJy9YJ8",
        "outputId": "3314f994-615f-43cb-d8f9-d243fd1cf7d0"
      },
      "execution_count": null,
      "outputs": [
        {
          "output_type": "stream",
          "name": "stderr",
          "text": [
            "IOPub data rate exceeded.\n",
            "The notebook server will temporarily stop sending output\n",
            "to the client in order to avoid crashing it.\n",
            "To change this limit, set the config variable\n",
            "`--NotebookApp.iopub_data_rate_limit`.\n",
            "\n",
            "Current values:\n",
            "NotebookApp.iopub_data_rate_limit=1000000.0 (bytes/sec)\n",
            "NotebookApp.rate_limit_window=3.0 (secs)\n",
            "\n"
          ]
        }
      ]
    },
    {
      "cell_type": "code",
      "source": [
        "# ONS_url_gdp =  'https://api.beta.ons.gov.uk/v1/datasets/{}'.format('regional-gdp-by-quarter')\n",
        "\n",
        "# response = requests.get(ONS_url)\n",
        "# print(response)\n",
        "# # check if the request was successful (HTTP status code 200)\n",
        "# if response.status_code == 200:\n",
        "#   # convert response to JSON (dictionary)\n",
        "#     data = response.json()\n",
        "#     print(data)\n",
        "\n",
        "# # iterate through the key-value pairs in the JSON dictionary\n",
        "# for key, value in data.items():\n",
        "#   # print key value pairs\n",
        "#     print(key, \":\", value)\n",
        "#     print(\"\\n\")"
      ],
      "metadata": {
        "id": "ZdqaWtbfhKfL"
      },
      "execution_count": null,
      "outputs": []
    },
    {
      "cell_type": "code",
      "source": [
        "print(items_list)\n",
        "\n"
      ],
      "metadata": {
        "colab": {
          "base_uri": "https://localhost:8080/"
        },
        "id": "ow0uFIFwrYMv",
        "outputId": "a43bfea8-411b-45aa-8e3b-764a71b02993"
      },
      "execution_count": null,
      "outputs": [
        {
          "output_type": "stream",
          "name": "stdout",
          "text": [
            "[{'contacts': [{'email': 'qualityoflife@ons.gov.uk', 'name': 'Rachel Mullis, Emily Froud and Geeta Kerai', 'telephone': '+44 300 0671543'}], 'description': 'Seasonally and non seasonally-adjusted quarterly estimates of life satisfaction, feeling that the things done in life are worthwhile, happiness and anxiety in the UK.', 'id': 'wellbeing-quarterly', 'keywords': ['well-being'], 'links': {'editions': {'href': 'https://api.beta.ons.gov.uk/v1/datasets/wellbeing-quarterly/editions'}, 'latest_version': {'href': 'https://api.beta.ons.gov.uk/v1/datasets/wellbeing-quarterly/editions/time-series/versions/7', 'id': '7'}, 'self': {'href': 'https://api.beta.ons.gov.uk/v1/datasets/wellbeing-quarterly'}, 'taxonomy': {'href': 'https://api.beta.ons.gov.uk/v1/peoplepopulationandcommunity/wellbeing'}}, 'methodologies': [{'href': 'https://www.ons.gov.uk/peoplepopulationandcommunity/wellbeing/methodologies/personalwellbeingquarterlyestimatestechnicalreport', 'title': 'Personal well-being quarterly estimates technical report'}], 'national_statistic': False, 'next_release': 'TBC', 'qmi': {'href': 'https://www.ons.gov.uk/peoplepopulationandcommunity/wellbeing/methodologies/personalwellbeingintheukqmi'}, 'related_datasets': [{'href': 'https://www.ons.gov.uk/peoplepopulationandcommunity/wellbeing/bulletins/personalwellbeingintheukquarterly/april2011toseptember2021/relateddata', 'title': 'Quality of life in the UK'}], 'release_frequency': 'Quarterly', 'state': 'published', 'title': 'Quarterly personal well-being estimates', 'unit_of_measure': 'Percentage'}, {'contacts': [{'email': 'QualityOfLife@ons.gov.uk', 'name': 'Ben Hayes, Charlotte Leach and Geeta Kerai', 'telephone': '+44 3000 671 543'}], 'description': 'Estimates of life satisfaction, feeling that the things done in life are worthwhile, happiness and anxiety at the UK, country, regional, county, local and unitary authority level.', 'id': 'wellbeing-local-authority', 'keywords': ['well-being'], 'links': {'editions': {'href': 'https://api.beta.ons.gov.uk/v1/datasets/wellbeing-local-authority/editions'}, 'latest_version': {'href': 'https://api.beta.ons.gov.uk/v1/datasets/wellbeing-local-authority/editions/time-series/versions/3', 'id': '3'}, 'self': {'href': 'https://api.beta.ons.gov.uk/v1/datasets/wellbeing-local-authority'}, 'taxonomy': {'href': 'https://api.beta.ons.gov.uk/v1/peoplepopulationandcommunity/wellbeing'}}, 'national_statistic': True, 'next_release': 'TBC', 'qmi': {'href': 'https://www.ons.gov.uk/peoplepopulationandcommunity/wellbeing/methodologies/personalwellbeingintheukqmi'}, 'related_datasets': [{'href': 'https://www.ons.gov.uk/peoplepopulationandcommunity/wellbeing/bulletins/measuringnationalwellbeing/april2021tomarch2022', 'title': 'Personal well-being in the UK: April 2021 to March 2022'}], 'release_frequency': 'Annual', 'state': 'published', 'title': 'Personal well-being estimates by local authority', 'unit_of_measure': 'Percentage'}, {'contacts': [{'email': 'health.data@ons.gov.uk', 'name': 'Sarah Caul', 'telephone': '+44 1329 444110'}], 'description': 'Provisional counts of the number of deaths registered in England and Wales, by region, in the latest weeks for which data are available.', 'id': 'weekly-deaths-region', 'keywords': ['Deaths', 'weekly deaths'], 'links': {'editions': {'href': 'https://api.beta.ons.gov.uk/v1/datasets/weekly-deaths-region/editions'}, 'latest_version': {'href': 'https://api.beta.ons.gov.uk/v1/datasets/weekly-deaths-region/editions/covid-19/versions/149', 'id': '149'}, 'self': {'href': 'https://api.beta.ons.gov.uk/v1/datasets/weekly-deaths-region'}, 'taxonomy': {'href': 'https://api.beta.ons.gov.uk/v1/peoplepopulationandcommunity/birthsdeathsandmarriages/deaths'}}, 'national_statistic': True, 'next_release': '15 August 2023', 'qmi': {'href': 'https://www.ons.gov.uk/peoplepopulationandcommunity/birthsdeathsandmarriages/deaths/methodologies/mortalitystatisticsinenglandandwalesqmi'}, 'release_frequency': 'Weekly', 'state': 'published', 'title': 'Deaths registered weekly in England and Wales by region'}, {'contacts': [{'email': 'health.data@ons.gov.uk', 'name': 'Sarah Caul', 'telephone': '+44 1329 444110'}], 'description': 'Provisional counts of the number of deaths registered in England and Wales, including deaths involving the coronavirus (COVID-19), by local authority, health board and place of death in the latest weeks for which data are available.', 'id': 'weekly-deaths-local-authority', 'keywords': ['Deaths', 'weekly deaths'], 'links': {'editions': {'href': 'https://api.beta.ons.gov.uk/v1/datasets/weekly-deaths-local-authority/editions'}, 'latest_version': {'href': 'https://api.beta.ons.gov.uk/v1/datasets/weekly-deaths-local-authority/editions/2022/versions/80', 'id': '80'}, 'self': {'href': 'https://api.beta.ons.gov.uk/v1/datasets/weekly-deaths-local-authority'}, 'taxonomy': {'href': 'https://api.beta.ons.gov.uk/v1/peoplepopulationandcommunity/birthsdeathsandmarriages/deaths'}}, 'national_statistic': True, 'next_release': '15 August 2023', 'qmi': {'href': 'https://www.ons.gov.uk/peoplepopulationandcommunity/birthsdeathsandmarriages/deaths/methodologies/mortalitystatisticsinenglandandwalesqmi'}, 'release_frequency': 'Weekly', 'state': 'published', 'title': 'Death registrations and occurrences by local authority and place of death'}, {'contacts': [{'email': 'health.data@ons.gov.uk', 'name': 'Sarah Caul', 'telephone': '+44 1329 444110'}], 'description': 'Provisional counts of the number of deaths registered in Wales, by health board and place of death, in the latest weeks for which data are available.', 'id': 'weekly-deaths-health-board', 'keywords': ['Deaths', 'weekly deaths'], 'links': {'editions': {'href': 'https://api.beta.ons.gov.uk/v1/datasets/weekly-deaths-health-board/editions'}, 'latest_version': {'href': 'https://api.beta.ons.gov.uk/v1/datasets/weekly-deaths-health-board/editions/2022/versions/80', 'id': '80'}, 'self': {'href': 'https://api.beta.ons.gov.uk/v1/datasets/weekly-deaths-health-board'}, 'taxonomy': {'href': 'https://api.beta.ons.gov.uk/v1/peoplepopulationandcommunity/birthsdeathsandmarriages/deaths'}}, 'national_statistic': True, 'next_release': '15 August 2023', 'qmi': {'href': 'https://www.ons.gov.uk/peoplepopulationandcommunity/birthsdeathsandmarriages/deaths/methodologies/mortalitystatisticsinenglandandwalesqmi'}, 'release_frequency': 'Weekly', 'state': 'published', 'title': 'Death registrations and occurrences by health board and place of death'}, {'contacts': [{'email': 'health.data@ons.gov.uk', 'name': 'Sarah Caul', 'telephone': '+44 1329 444110'}], 'description': 'Provisional counts of the number of deaths registered in England and Wales, by age and sex, in the latest weeks for which data are available.', 'id': 'weekly-deaths-age-sex', 'keywords': ['Deaths', 'weekly deaths'], 'links': {'editions': {'href': 'https://api.beta.ons.gov.uk/v1/datasets/weekly-deaths-age-sex/editions'}, 'latest_version': {'href': 'https://api.beta.ons.gov.uk/v1/datasets/weekly-deaths-age-sex/editions/covid-19/versions/149', 'id': '149'}, 'self': {'href': 'https://api.beta.ons.gov.uk/v1/datasets/weekly-deaths-age-sex'}, 'taxonomy': {'href': 'https://api.beta.ons.gov.uk/v1/peoplepopulationandcommunity/birthsdeathsandmarriages/deaths'}}, 'national_statistic': True, 'next_release': '15 August 2023', 'qmi': {'href': 'https://www.ons.gov.uk/peoplepopulationandcommunity/birthsdeathsandmarriages/deaths/methodologies/mortalitystatisticsinenglandandwalesqmi'}, 'release_frequency': 'Weekly', 'state': 'published', 'title': 'Deaths registered weekly in England and Wales by age and sex'}, {'contacts': [{'email': 'realtime.indicators@ons.gov.uk', 'name': 'Katie Cunliffe', 'telephone': '+44 1633 560344'}], 'description': 'These data series are experimental faster indicators for monitoring UK spending using debit and credit cards.', 'id': 'uk-spending-on-cards', 'links': {'editions': {'href': 'https://api.beta.ons.gov.uk/v1/datasets/uk-spending-on-cards/editions'}, 'latest_version': {'href': 'https://api.beta.ons.gov.uk/v1/datasets/uk-spending-on-cards/editions/time-series/versions/91', 'id': '91'}, 'self': {'href': 'https://api.beta.ons.gov.uk/v1/datasets/uk-spending-on-cards'}, 'taxonomy': {'href': 'https://api.beta.ons.gov.uk/v1/economy/economicoutputandproductivity/productivitymeasures'}}, 'national_statistic': False, 'next_release': 'To be announced', 'qmi': {'href': 'https://www.bankofengland.co.uk/payment-and-settlement/chaps-faster-indicator'}, 'release_frequency': 'Weekly', 'state': 'published', 'title': 'UK spending on credit and debit cards', 'type': 'filterable'}, {'contacts': [{'email': 'idbras@ons.gov.uk', 'name': 'Becky Shaw', 'telephone': '+44 1633 456902'}], 'description': 'The data contained in these tables are numbers of enterprises and local units produced from a snapshot of the Inter-Departmental Business Register (IDBR) taken on 12 March 2021. This dataset contains details of the number of VAT and/or PAYE based enterprises and local units in districts, counties and unitary authorities within region and country by broad industry group.', 'id': 'uk-business-by-enterprises-and-local-units', 'keywords': ['enterprises', 'local units,IDBR,business counts,Inter-Departmental Business Register'], 'links': {'editions': {'href': 'https://api.beta.ons.gov.uk/v1/datasets/uk-business-by-enterprises-and-local-units/editions'}, 'latest_version': {'href': 'https://api.beta.ons.gov.uk/v1/datasets/uk-business-by-enterprises-and-local-units/editions/2022/versions/1', 'id': '1'}, 'self': {'href': 'https://api.beta.ons.gov.uk/v1/datasets/uk-business-by-enterprises-and-local-units'}, 'taxonomy': {'href': 'https://api.beta.ons.gov.uk/v1/businessindustryandtrade/business/businessservices'}}, 'next_release': 'To be announced', 'publications': [{'href': 'https://www.ons.gov.uk/businessindustryandtrade/business/activitysizeandlocation', 'title': 'UK Business: Activity, Size and Location'}], 'qmi': {'href': 'https://www.ons.gov.uk/businessindustryandtrade/business/activitysizeandlocation/methodologies/ukbusinessactivitysizeandlocationqmi'}, 'release_frequency': 'Annual', 'state': 'published', 'title': 'UK Business: Activity, Size and Location', 'type': 'filterable', 'unit_of_measure': 'Count'}, {'contacts': [{'email': 'realtime.indicators@ons.gov.uk', 'name': 'Katie Cunliffe', 'telephone': '+44 1633 560344'}], 'description': 'Experimental dataset for business indices covering the UK as part of the real-time indicators release to help better understand economic activity and social change in the UK.', 'id': 'traffic-camera-activity', 'links': {'editions': {'href': 'https://api.beta.ons.gov.uk/v1/datasets/traffic-camera-activity/editions'}, 'latest_version': {'href': 'https://api.beta.ons.gov.uk/v1/datasets/traffic-camera-activity/editions/time-series/versions/71', 'id': '71'}, 'self': {'href': 'https://api.beta.ons.gov.uk/v1/datasets/traffic-camera-activity'}, 'taxonomy': {'href': 'https://api.beta.ons.gov.uk/v1/businessindustryandtrade/business/activitysizeandlocation'}}, 'national_statistic': False, 'next_release': 'To be announced', 'qmi': {'href': 'https://datasciencecampus.ons.gov.uk/projects/estimating-vehicle-and-pedestrian-activity-from-town-and-city-traffic-cameras/'}, 'release_frequency': 'Weekly', 'state': 'published', 'title': 'Traffic Camera Activity', 'type': 'filterable'}, {'contacts': [{'email': 'trade@ons.gov.uk', 'name': 'Hannah Donnarumma', 'telephone': '+44 (0)1329 447648'}], 'description': \"Country by commodity data on the UK's trade in goods, including trade by all countries and selected commodities, exports and imports, non seasonally adjusted.\", 'id': 'trade', 'keywords': ['trade'], 'links': {'editions': {'href': 'https://api.beta.ons.gov.uk/v1/datasets/trade/editions'}, 'latest_version': {'href': 'https://api.beta.ons.gov.uk/v1/datasets/trade/editions/time-series/versions/34', 'id': '34'}, 'self': {'href': 'https://api.beta.ons.gov.uk/v1/datasets/trade'}, 'taxonomy': {'href': 'https://api.beta.ons.gov.uk/v1/businessindustryandtrade/internationaltrade'}}, 'national_statistic': False, 'next_release': '11 August 2022', 'qmi': {'href': 'https://www.ons.gov.uk/economy/nationalaccounts/balanceofpayments/methodologies/uktradeqmi'}, 'release_frequency': 'Monthly', 'state': 'published', 'title': 'Trade in goods: country by commodity', 'unit_of_measure': '£million'}, {'contacts': [{'email': 'hie@ons.gov.uk', 'name': 'Paula Croal', 'telephone': '01633 651927'}], 'description': 'Estimates of mean and median annual incomes in the UK, by quintile groups.\\nThe redistribution effects on individuals of direct and indirect taxation and benefits received in cash or kind.', 'id': 'tax-benefits-statistics', 'links': {'editions': {'href': 'https://api.beta.ons.gov.uk/v1/datasets/tax-benefits-statistics/editions'}, 'latest_version': {'href': 'https://api.beta.ons.gov.uk/v1/datasets/tax-benefits-statistics/editions/time-series/versions/3', 'id': '3'}, 'self': {'href': 'https://api.beta.ons.gov.uk/v1/datasets/tax-benefits-statistics'}, 'taxonomy': {'href': 'https://api.beta.ons.gov.uk/v1/economy/governmentpublicsectorandtaxes/taxesandrevenue'}}, 'next_release': 'TBA', 'qmi': {'href': 'https://www.ons.gov.uk/peoplepopulationandcommunity/personalandhouseholdfinances/incomeandwealth/methodologies/theeffectsoftaxesandbenefitsonukhouseholdincome'}, 'release_frequency': 'Annual', 'state': 'published', 'title': 'Effects of Taxes and Benefits on Household Income'}, {'contacts': [{'email': 'health.data@ons.gov.uk', 'name': 'Rabiya Nasir, Emyr John and David Mais', 'telephone': '+44 1633 456501'}], 'description': 'Number of suicides by local authority in England and Wales, registered from 2001.\\n\\nIf you are struggling to cope, please call Samaritans for free on 116 123 (UK and ROI) or contact other sources of support, such as those listed on the NHS’s help for suicidal thoughts webpage. Support is available round the clock, every single day of the year, providing a safe place for anyone struggling to cope, whoever they are, however they feel, whatever life has done to them.', 'id': 'suicides-in-the-uk', 'keywords': ['suicide', 'mortality'], 'links': {'editions': {'href': 'https://api.beta.ons.gov.uk/v1/datasets/suicides-in-the-uk/editions'}, 'latest_version': {'href': 'https://api.beta.ons.gov.uk/v1/datasets/suicides-in-the-uk/editions/2021/versions/1', 'id': '1'}, 'self': {'href': 'https://api.beta.ons.gov.uk/v1/datasets/suicides-in-the-uk'}, 'taxonomy': {'href': 'https://api.beta.ons.gov.uk/v1/peoplepopulationandcommunity/birthsdeathsandmarriages/deaths'}}, 'methodologies': [{'href': 'https://www.samaritans.org/', 'title': 'Samaritans'}, {'href': 'https://www.nhs.uk/mental-health/feelings-symptoms-behaviours/behaviours/help-for-suicidal-thoughts/', 'title': 'Help for suicidal thoughts'}], 'national_statistic': True, 'next_release': 'To be announced', 'qmi': {'href': 'https://www.ons.gov.uk/peoplepopulationandcommunity/birthsdeathsandmarriages/deaths/methodologies/suicideratesintheukqmi'}, 'related_datasets': [{'href': 'https://www.ons.gov.uk/peoplepopulationandcommunity/birthsdeathsandmarriages/deaths/bulletins/suicidesintheunitedkingdom/latest', 'title': 'Suicides in England and Wales'}], 'release_frequency': 'Annually', 'state': 'published', 'title': 'Suicide registrations in England and Wales by local authority'}, {'contacts': [{'email': 'pop.info@ons.gov.uk', 'name': 'Amanda Sharfman and Pamela Cobb', 'telephone': '+44 (0)1329 444661'}], 'description': 'Sexual orientation in the UK from 2012 to 2020 by region.\\n\\nData source: Annual Population Survey, ONS\\n', 'id': 'sexual-orientation-by-region', 'keywords': ['gay', 'lesbian,bisexual,straight,LGB'], 'links': {'editions': {'href': 'https://api.beta.ons.gov.uk/v1/datasets/sexual-orientation-by-region/editions'}, 'latest_version': {'href': 'https://api.beta.ons.gov.uk/v1/datasets/sexual-orientation-by-region/editions/time-series/versions/2', 'id': '2'}, 'self': {'href': 'https://api.beta.ons.gov.uk/v1/datasets/sexual-orientation-by-region'}, 'taxonomy': {'href': 'https://api.beta.ons.gov.uk/v1/peoplepopulationandcommunity/culturalidentity/sexuality'}}, 'next_release': 'To be announced', 'publications': [{'href': 'https://www.ons.gov.uk/peoplepopulationandcommunity/culturalidentity/sexuality/bulletins/sexualidentityuk/2020', 'title': 'Sexual orientation, UK'}], 'qmi': {'href': 'https://www.ons.gov.uk/peoplepopulationandcommunity/culturalidentity/sexuality/methodologies/sexualidentityukqmi'}, 'related_datasets': [{'href': 'https://www.ons.gov.uk/peoplepopulationandcommunity/culturalidentity/sexuality/datasets/sexualidentityuk', 'title': 'Sexual orientation, UK, dataset'}], 'release_frequency': 'Annual', 'state': 'published', 'title': 'Sexual orientation by English regions and UK countries', 'type': 'filterable', 'unit_of_measure': 'Number of people (thousands) and percentage'}, {'contacts': [{'email': 'pop.info@ons.gov.uk', 'name': 'Amanda Sharfman and Pamela Cobb', 'telephone': '+44 (0)1329 444661'}], 'description': 'Sexual orientation in the UK by sex and age, 2014 to 2020.\\n\\nSource: Annual Population Survey, ONS', 'id': 'sexual-orientation-by-age-and-sex', 'links': {'editions': {'href': 'https://api.beta.ons.gov.uk/v1/datasets/sexual-orientation-by-age-and-sex/editions'}, 'latest_version': {'href': 'https://api.beta.ons.gov.uk/v1/datasets/sexual-orientation-by-age-and-sex/editions/time-series/versions/2', 'id': '2'}, 'self': {'href': 'https://api.beta.ons.gov.uk/v1/datasets/sexual-orientation-by-age-and-sex'}, 'taxonomy': {'href': 'https://api.beta.ons.gov.uk/v1/peoplepopulationandcommunity/culturalidentity/sexuality'}}, 'next_release': 'To be announced', 'publications': [{'href': 'https://www.ons.gov.uk/peoplepopulationandcommunity/culturalidentity/sexuality/bulletins/sexualidentityuk/2020', 'title': 'Sexual orientation, UK'}], 'qmi': {'href': 'https://www.ons.gov.uk/peoplepopulationandcommunity/culturalidentity/sexuality/methodologies/sexualidentityukqmi'}, 'related_datasets': [{'href': 'https://www.ons.gov.uk/peoplepopulationandcommunity/culturalidentity/sexuality/datasets/sexualidentityuk', 'title': 'Sexual orientation, UK dataset'}], 'release_frequency': 'Annual', 'state': 'published', 'title': 'Sexual orientation by age and sex', 'type': 'filterable', 'unit_of_measure': 'Number of people (thousands) and percentage'}, {'contacts': [{'email': 'retail.sales.enquiries@ons.gov.uk', 'name': 'Rhys Lewis', 'telephone': '+44 1633 455602'}], 'description': 'Value and volume of retail sales broken down by size of business', 'id': 'retail-sales-index-large-and-small-businesses', 'keywords': ['RSI', 'internet sales,goods bought,buying,spending'], 'links': {'editions': {'href': 'https://api.beta.ons.gov.uk/v1/datasets/retail-sales-index-large-and-small-businesses/editions'}, 'latest_version': {'href': 'https://api.beta.ons.gov.uk/v1/datasets/retail-sales-index-large-and-small-businesses/editions/time-series/versions/16', 'id': '16'}, 'self': {'href': 'https://api.beta.ons.gov.uk/v1/datasets/retail-sales-index-large-and-small-businesses'}, 'taxonomy': {'href': 'https://api.beta.ons.gov.uk/v1/businessindustryandtrade/retailindustry'}}, 'national_statistic': False, 'next_release': '18 August 2023', 'qmi': {'href': 'https://www.ons.gov.uk/businessindustryandtrade/retailindustry/methodologies/retailsalesindexrsiqmi'}, 'release_frequency': 'Monthly', 'state': 'published', 'title': 'Retail sales index - large and small businesses', 'type': 'filterable', 'unit_of_measure': '2019=100'}, {'contacts': [{'email': 'retail.sales.enquiries@ons.gov.uk', 'name': 'Rhys Lewis', 'telephone': '+44 1633 455602'}], 'description': 'Value and volume of retail sales for all businesses.', 'id': 'retail-sales-index-all-businesses', 'keywords': ['RSI', 'internet sales,goods bought,buying,spending'], 'links': {'editions': {'href': 'https://api.beta.ons.gov.uk/v1/datasets/retail-sales-index-all-businesses/editions'}, 'latest_version': {'href': 'https://api.beta.ons.gov.uk/v1/datasets/retail-sales-index-all-businesses/editions/time-series/versions/16', 'id': '16'}, 'self': {'href': 'https://api.beta.ons.gov.uk/v1/datasets/retail-sales-index-all-businesses'}, 'taxonomy': {'href': 'https://api.beta.ons.gov.uk/v1/businessindustryandtrade/retailindustry'}}, 'national_statistic': False, 'next_release': '18 August 2023', 'qmi': {'href': 'https://www.ons.gov.uk/businessindustryandtrade/retailindustry/methodologies/retailsalesindexrsiqmi'}, 'release_frequency': 'Monthly', 'state': 'published', 'title': 'Retail sales index - all businesses', 'type': 'filterable', 'unit_of_measure': '2019=100'}, {'contacts': [{'email': 'retail.sales.enquiries@ons.gov.uk', 'name': 'Rhys Lewis', 'telephone': '+44 1633 455602'}], 'description': 'Retail sales data for Great Britain in value and volume terms, seasonally and non-seasonally adjusted.', 'id': 'retail-sales-index', 'keywords': ['RSI', 'internet sales,goods bought,buying,spending'], 'links': {'editions': {'href': 'https://api.beta.ons.gov.uk/v1/datasets/retail-sales-index/editions'}, 'latest_version': {'href': 'https://api.beta.ons.gov.uk/v1/datasets/retail-sales-index/editions/time-series/versions/16', 'id': '16'}, 'self': {'href': 'https://api.beta.ons.gov.uk/v1/datasets/retail-sales-index'}, 'taxonomy': {'href': 'https://api.beta.ons.gov.uk/v1/businessindustryandtrade/retailindustry'}}, 'national_statistic': False, 'next_release': '18 August 2023', 'qmi': {'href': 'https://www.ons.gov.uk/businessindustryandtrade/retailindustry/methodologies/retailsalesindexrsiqmi'}, 'release_frequency': 'Monthly', 'state': 'published', 'title': 'Retail sales index', 'type': 'filterable', 'unit_of_measure': '2019=100'}, {'contacts': [{'email': 'regionalgdp@ons.gov.uk', 'name': 'Keith Barnes', 'telephone': '+441633 456630'}], 'description': 'Annual economic activity within England, Wales and the nine English regions (North East, North West, Yorkshire and the Humber, East Midlands, West Midlands, East of England, Greater London, South East, South West).', 'id': 'regional-gdp-by-year', 'keywords': ['regional GDP'], 'links': {'editions': {'href': 'https://api.beta.ons.gov.uk/v1/datasets/regional-gdp-by-year/editions'}, 'latest_version': {'href': 'https://api.beta.ons.gov.uk/v1/datasets/regional-gdp-by-year/editions/time-series/versions/6', 'id': '6'}, 'self': {'href': 'https://api.beta.ons.gov.uk/v1/datasets/regional-gdp-by-year'}, 'taxonomy': {'href': 'https://api.beta.ons.gov.uk/v1/economy/grossdomesticproductgdp'}}, 'national_statistic': False, 'next_release': 'TBA', 'qmi': {'href': 'https://www.ons.gov.uk/economy/grossdomesticproductgdp/methodologies/grossdomesticproductgdpukregionsandcountriesqmi'}, 'release_frequency': 'Annual', 'state': 'published', 'title': 'Annual GDP for England, Wales and the English regions'}, {'contacts': [{'email': 'regionalgdp@ons.gov.uk', 'name': 'Keith Barnes', 'telephone': '+441633 456630'}], 'description': 'Quarterly economic activity within England, Wales and the nine English regions (North East, North West, Yorkshire and The Humber, East Midlands, West Midlands, East of England, London, South East, South West).', 'id': 'regional-gdp-by-quarter', 'keywords': ['regional GDP'], 'links': {'editions': {'href': 'https://api.beta.ons.gov.uk/v1/datasets/regional-gdp-by-quarter/editions'}, 'latest_version': {'href': 'https://api.beta.ons.gov.uk/v1/datasets/regional-gdp-by-quarter/editions/time-series/versions/6', 'id': '6'}, 'self': {'href': 'https://api.beta.ons.gov.uk/v1/datasets/regional-gdp-by-quarter'}, 'taxonomy': {'href': 'https://api.beta.ons.gov.uk/v1/economy/grossdomesticproductgdp'}}, 'national_statistic': False, 'next_release': 'To be announced', 'qmi': {'href': 'https://www.ons.gov.uk/economy/grossdomesticproductgdp/methodologies/grossdomesticproductgdpukregionsandcountriesqmi'}, 'release_frequency': 'To be announced', 'state': 'published', 'title': 'Quarterly GDP for England, Wales and the English regions'}, {'contacts': [{'email': 'pop.info@ons.gov.uk', 'name': 'Population Statistics Division', 'telephone': '+44 (0)1329 444661'}], 'description': 'Projected indicators included are derived from the published 2018-based subnational population projections for England, Wales, Scotland and Northern Ireland up to the year 2043. The indicators are the projected sex ratio for those aged 65 years and over and the projected sex ratio for those aged 85 years and over. A sex ratio shows the number of males in the population for every 100 females.\\n\\nThis dataset has been produced by the Ageing Analysis Team for inclusion in the subnational ageing tool, which was published on July 20, 2020 (see link in Related datasets). The tool is interactive, and users can compare latest and projected measures of ageing for up to four different areas through selection on a map or from a drop-down menu. \\n\\nNote on data sources: England, Wales, Scotland and Northern Ireland independently publish subnational population projections and the data available here are a compilation of these datasets. The ONS publish national level data for the UK, England, Wales and England & Wales, which has been included. National level data for Scotland and Northern Ireland have been taken from their subnational population projections datasets.', 'id': 'projections-older-people-sex-ratios', 'links': {'editions': {'href': 'https://api.beta.ons.gov.uk/v1/datasets/projections-older-people-sex-ratios/editions'}, 'latest_version': {'href': 'https://api.beta.ons.gov.uk/v1/datasets/projections-older-people-sex-ratios/editions/time-series/versions/1', 'id': '1'}, 'self': {'href': 'https://api.beta.ons.gov.uk/v1/datasets/projections-older-people-sex-ratios'}, 'taxonomy': {'href': 'https://api.beta.ons.gov.uk/v1/peoplepopulationandcommunity/birthsdeathsandmarriages/ageing'}}, 'methodologies': [{'href': 'https://www.nrscotland.gov.uk/files//statistics/population-projections/sub-national-pp-18/pop-proj-principal-18-methodology.pdf', 'title': 'Scotland Methodology Guide'}, {'href': 'https://gov.wales/population-and-household-statistics-technical-information', 'title': 'Wales technical information'}, {'href': 'https://www.nisra.gov.uk/sites/nisra.gov.uk/files/publications/SNPP18-Methodology.pdf', 'title': 'Northern Ireland methodology paper'}], 'next_release': 'To be announced', 'qmi': {'href': 'https://www.ons.gov.uk/peoplepopulationandcommunity/populationandmigration/populationprojections/methodologies/subnationalpopulationprojectionsqmi'}, 'related_datasets': [{'href': 'https://www.ons.gov.uk/peoplepopulationandcommunity/populationandmigration/populationprojections/bulletins/subnationalpopulationprojectionsforengland/2018based', 'title': 'Subnational population projections for England: 2018-based'}, {'href': 'https://www.nrscotland.gov.uk/statistics-and-data/statistics/statistics-by-theme/population/population-projections/sub-national-population-projections/2018-based', 'title': 'Population Projections for Scottish Areas (2018-based)'}, {'href': 'https://gov.wales/subnational-population-projections-2018-based', 'title': 'Wales Subnational population projections (local authority): 2018-based'}, {'href': 'https://www.nisra.gov.uk/publications/2018-based-population-projections-areas-within-northern-ireland', 'title': '2018-based Population Projections for Areas within Northern Ireland'}, {'href': 'https://www.ons.gov.uk/peoplepopulationandcommunity/birthsdeathsandmarriages/ageing/articles/subnationalageingtool/2020-07-20', 'title': 'Subnational ageing tool'}], 'release_frequency': 'Biennial', 'state': 'published', 'title': 'Local authority ageing statistics, projected sex ratios for older people'}]\n"
          ]
        }
      ]
    },
    {
      "cell_type": "markdown",
      "source": [
        "*** Visualisations ***\n",
        "\n",
        "I thought we could use a theme a bit prettier than the usual one in matplotlib for all our visualisations so i did a bit of searching and there are some cool libraties we can use. Personally I like the light 'Pitaya Smoothie' theme from matplotx"
      ],
      "metadata": {
        "id": "pEF9fZNNBy-k"
      }
    },
    {
      "cell_type": "code",
      "source": [
        "import matplotx\n",
        "\n",
        "with plt.style.context(matplotx.styles.pitaya_smoothie['light']):\n",
        "  #code here for plots"
      ],
      "metadata": {
        "id": "K9kij1w1ChII"
      },
      "execution_count": null,
      "outputs": []
    }
  ]
}