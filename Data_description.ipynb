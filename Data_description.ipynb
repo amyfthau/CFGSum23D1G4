{
  "nbformat": 4,
  "nbformat_minor": 0,
  "metadata": {
    "colab": {
      "provenance": [],
      "authorship_tag": "ABX9TyO0/AIMSpzibrz9Qxf3tqhX",
      "include_colab_link": true
    },
    "kernelspec": {
      "name": "python3",
      "display_name": "Python 3"
    },
    "language_info": {
      "name": "python"
    }
  },
  "cells": [
    {
      "cell_type": "markdown",
      "metadata": {
        "id": "view-in-github",
        "colab_type": "text"
      },
      "source": [
        "<a href=\"https://colab.research.google.com/github/amyfthau/CFGSum23D1G4/blob/main/Data_description.ipynb\" target=\"_parent\"><img src=\"https://colab.research.google.com/assets/colab-badge.svg\" alt=\"Open In Colab\"/></a>"
      ]
    },
    {
      "cell_type": "code",
      "execution_count": 12,
      "metadata": {
        "colab": {
          "base_uri": "https://localhost:8080/"
        },
        "id": "VqoWvHOpCrtc",
        "outputId": "61315831-59e0-42c0-b0df-71682c0cc812"
      },
      "outputs": [
        {
          "output_type": "stream",
          "name": "stdout",
          "text": [
            "Drive already mounted at /content/drive; to attempt to forcibly remount, call drive.mount(\"/content/drive\", force_remount=True).\n",
            "/content/drive/MyDrive/CFGdegree_Sum23_D1_G4/CFGSum23D1G4\n",
            "[main 7e91bd0] Add new Colab notebook\n",
            " 1 file changed, 1 insertion(+), 1 deletion(-)\n",
            " rewrite Data_description.ipynb (64%)\n",
            "error: remote origin already exists.\n",
            "fatal: could not read Username for 'https://github.com': No such device or address\n"
          ]
        }
      ],
      "source": [
        "# Configure Git credentials\n",
        "!git config --global user.email \"amyfthau@gmail.com\"\n",
        "!git config --global user.name \"amyfthau\"\n",
        "\n",
        "# Mount Google Drive and navigate to your repository\n",
        "from google.colab import drive\n",
        "drive.mount('/content/drive')\n",
        "%cd /content/drive/MyDrive/CFGdegree_Sum23_D1_G4/CFGSum23D1G4\n"
      ]
    },
    {
      "cell_type": "code",
      "source": [
        "\n"
      ],
      "metadata": {
        "id": "Pn2K3X8GDDna"
      },
      "execution_count": 4,
      "outputs": []
    }
  ]
}