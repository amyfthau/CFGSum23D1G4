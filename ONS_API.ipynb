{
  "nbformat": 4,
  "nbformat_minor": 0,
  "metadata": {
    "colab": {
      "provenance": [],
      "include_colab_link": true
    },
    "kernelspec": {
      "name": "python3",
      "display_name": "Python 3"
    },
    "language_info": {
      "name": "python"
    }
  },
  "cells": [
    {
      "cell_type": "markdown",
      "metadata": {
        "id": "view-in-github",
        "colab_type": "text"
      },
      "source": [
        "<a href=\"https://colab.research.google.com/github/amyfthau/CFGSum23D1G4/blob/data_collection/ONS_API.ipynb\" target=\"_parent\"><img src=\"https://colab.research.google.com/assets/colab-badge.svg\" alt=\"Open In Colab\"/></a>"
      ]
    },
    {
      "cell_type": "markdown",
      "source": [
        "Mount Google Drive and Change Directory"
      ],
      "metadata": {
        "id": "ulbG-9hzjwoo"
      }
    },
    {
      "cell_type": "markdown",
      "source": [
        "Getting started with the API\n",
        "Our datasets endpoint lists all the datasets we have available on the beta API.\n",
        "\n",
        "https://api.beta.ons.gov.uk/v1/datasets\n",
        "\n",
        "https://digitalblog.ons.gov.uk/2021/02/15/how-to-access-data-from-the-ons-beta-api/\n",
        "\n",
        "How to query the API\n",
        "There are three ways to query the ONS API:\n",
        "\n",
        "1. Download the entire dataset.\n",
        "2. Query an observation.\n",
        "3. Filter a dataset for more advanced queries.\n",
        "\n",
        "To download the entire CPIH dataset, navigate to the latest_version. From here you will see the CSV or XLS download link. You can read it directly into a program such as Python or paste the URL into a web browser to download it automatically.\n",
        "\n",
        "**The second way to query the API is the observations endpoint. This allows you to query an observation or several observations of data. To write our query we will need to know what dimensions are contained within the CPIH dataset and select at least one option from each.**\n",
        "\n",
        "**To do this, take the latest_version URL and add /dimensions**"
      ],
      "metadata": {
        "id": "iQX-5RpFFGK7"
      }
    },
    {
      "cell_type": "code",
      "execution_count": null,
      "metadata": {
        "colab": {
          "base_uri": "https://localhost:8080/"
        },
        "id": "rulDLHo9jidu",
        "outputId": "6141f841-9a02-445f-aaf6-7c873ed30bcd"
      },
      "outputs": [
        {
          "output_type": "stream",
          "name": "stdout",
          "text": [
            "Drive already mounted at /content/drive; to attempt to forcibly remount, call drive.mount(\"/content/drive\", force_remount=True).\n",
            "/content\n"
          ]
        }
      ],
      "source": [
        "# Import relevant libraries to mount drive\n",
        "from google.colab import drive\n",
        "import os\n",
        "\n",
        "# Mount google drive\n",
        "drive.mount('/content/drive')\n",
        "\n",
        "# Define the path to your specific folder\n",
        "specific_folder_path = '/content/drive/MyDrive/CFGdegree_Sum23_D1_G4'\n",
        "\n",
        "# Navigate to the specific folder\n",
        "os.chdir(specific_folder_path)\n",
        "\n",
        "# change directory to shared group folder\n",
        "%cd /content/drive/MyDrive/CFGdegree_Sum23_D1_G4\n",
        "\n",
        "\n"
      ]
    },
    {
      "cell_type": "markdown",
      "source": [
        "Import relevant Libraries"
      ],
      "metadata": {
        "id": "KN9KL7CCj17J"
      }
    },
    {
      "cell_type": "code",
      "source": [
        "import pandas as pd\n",
        "import requests"
      ],
      "metadata": {
        "id": "DPZVaGqoj1rc"
      },
      "execution_count": null,
      "outputs": []
    },
    {
      "cell_type": "markdown",
      "source": [
        "Checking ONS API\n",
        "\n",
        "note: The Office for National Statistics API makes datasets and other data available programmatically using HTTP. It allows you to filter datasets and directly access specific data points."
      ],
      "metadata": {
        "id": "Z-zEe3B4kF8y"
      }
    },
    {
      "cell_type": "code",
      "source": [
        "# The URL we want to request data from\n",
        "ONS_base_url =  'https://api.beta.ons.gov.uk/v1/datasets'\n",
        "# Request data from the URL\n",
        "response = requests.get(ONS_base_url)\n",
        "# Print the request\n",
        "print(response)\n",
        "# check if the request was successful (HTTP status code 200)\n",
        "if response.status_code == 200:\n",
        "  # convert response to JSON (dictionary)\n",
        "    ONS_data_response = response.json()\n",
        "    print(ONS_data_response)\n",
        "else:\n",
        "    print('Request failed with status code:', response.status_code)\n"
      ],
      "metadata": {
        "colab": {
          "base_uri": "https://localhost:8080/"
        },
        "id": "Dyh_puGLkKCI",
        "outputId": "630891c8-3f26-4f12-e55b-bab763333702"
      },
      "execution_count": null,
      "outputs": [
        {
          "output_type": "stream",
          "name": "stdout",
          "text": [
            "<Response [200]>\n",
            "{'@context': 'https://cdn.ons.gov.uk/assets/json-ld/context.json', 'count': 20, 'items': [{'contacts': [{'email': 'qualityoflife@ons.gov.uk', 'name': 'Rachel Mullis, Emily Froud and Geeta Kerai', 'telephone': '+44 300 0671543'}], 'description': 'Seasonally and non seasonally-adjusted quarterly estimates of life satisfaction, feeling that the things done in life are worthwhile, happiness and anxiety in the UK.', 'id': 'wellbeing-quarterly', 'keywords': ['well-being'], 'links': {'editions': {'href': 'https://api.beta.ons.gov.uk/v1/datasets/wellbeing-quarterly/editions'}, 'latest_version': {'href': 'https://api.beta.ons.gov.uk/v1/datasets/wellbeing-quarterly/editions/time-series/versions/7', 'id': '7'}, 'self': {'href': 'https://api.beta.ons.gov.uk/v1/datasets/wellbeing-quarterly'}, 'taxonomy': {'href': 'https://api.beta.ons.gov.uk/v1/peoplepopulationandcommunity/wellbeing'}}, 'methodologies': [{'href': 'https://www.ons.gov.uk/peoplepopulationandcommunity/wellbeing/methodologies/personalwellbeingquarterlyestimatestechnicalreport', 'title': 'Personal well-being quarterly estimates technical report'}], 'national_statistic': False, 'next_release': 'TBC', 'qmi': {'href': 'https://www.ons.gov.uk/peoplepopulationandcommunity/wellbeing/methodologies/personalwellbeingintheukqmi'}, 'related_datasets': [{'href': 'https://www.ons.gov.uk/peoplepopulationandcommunity/wellbeing/bulletins/personalwellbeingintheukquarterly/april2011toseptember2021/relateddata', 'title': 'Quality of life in the UK'}], 'release_frequency': 'Quarterly', 'state': 'published', 'title': 'Quarterly personal well-being estimates', 'unit_of_measure': 'Percentage'}, {'contacts': [{'email': 'QualityOfLife@ons.gov.uk', 'name': 'Ben Hayes, Charlotte Leach and Geeta Kerai', 'telephone': '+44 3000 671 543'}], 'description': 'Estimates of life satisfaction, feeling that the things done in life are worthwhile, happiness and anxiety at the UK, country, regional, county, local and unitary authority level.', 'id': 'wellbeing-local-authority', 'keywords': ['well-being'], 'links': {'editions': {'href': 'https://api.beta.ons.gov.uk/v1/datasets/wellbeing-local-authority/editions'}, 'latest_version': {'href': 'https://api.beta.ons.gov.uk/v1/datasets/wellbeing-local-authority/editions/time-series/versions/3', 'id': '3'}, 'self': {'href': 'https://api.beta.ons.gov.uk/v1/datasets/wellbeing-local-authority'}, 'taxonomy': {'href': 'https://api.beta.ons.gov.uk/v1/peoplepopulationandcommunity/wellbeing'}}, 'national_statistic': True, 'next_release': 'TBC', 'qmi': {'href': 'https://www.ons.gov.uk/peoplepopulationandcommunity/wellbeing/methodologies/personalwellbeingintheukqmi'}, 'related_datasets': [{'href': 'https://www.ons.gov.uk/peoplepopulationandcommunity/wellbeing/bulletins/measuringnationalwellbeing/april2021tomarch2022', 'title': 'Personal well-being in the UK: April 2021 to March 2022'}], 'release_frequency': 'Annual', 'state': 'published', 'title': 'Personal well-being estimates by local authority', 'unit_of_measure': 'Percentage'}, {'contacts': [{'email': 'health.data@ons.gov.uk', 'name': 'Sarah Caul', 'telephone': '+44 1329 444110'}], 'description': 'Provisional counts of the number of deaths registered in England and Wales, by region, in the latest weeks for which data are available.', 'id': 'weekly-deaths-region', 'keywords': ['Deaths', 'weekly deaths'], 'links': {'editions': {'href': 'https://api.beta.ons.gov.uk/v1/datasets/weekly-deaths-region/editions'}, 'latest_version': {'href': 'https://api.beta.ons.gov.uk/v1/datasets/weekly-deaths-region/editions/covid-19/versions/149', 'id': '149'}, 'self': {'href': 'https://api.beta.ons.gov.uk/v1/datasets/weekly-deaths-region'}, 'taxonomy': {'href': 'https://api.beta.ons.gov.uk/v1/peoplepopulationandcommunity/birthsdeathsandmarriages/deaths'}}, 'national_statistic': True, 'next_release': '15 August 2023', 'qmi': {'href': 'https://www.ons.gov.uk/peoplepopulationandcommunity/birthsdeathsandmarriages/deaths/methodologies/mortalitystatisticsinenglandandwalesqmi'}, 'release_frequency': 'Weekly', 'state': 'published', 'title': 'Deaths registered weekly in England and Wales by region'}, {'contacts': [{'email': 'health.data@ons.gov.uk', 'name': 'Sarah Caul', 'telephone': '+44 1329 444110'}], 'description': 'Provisional counts of the number of deaths registered in England and Wales, including deaths involving the coronavirus (COVID-19), by local authority, health board and place of death in the latest weeks for which data are available.', 'id': 'weekly-deaths-local-authority', 'keywords': ['Deaths', 'weekly deaths'], 'links': {'editions': {'href': 'https://api.beta.ons.gov.uk/v1/datasets/weekly-deaths-local-authority/editions'}, 'latest_version': {'href': 'https://api.beta.ons.gov.uk/v1/datasets/weekly-deaths-local-authority/editions/2022/versions/80', 'id': '80'}, 'self': {'href': 'https://api.beta.ons.gov.uk/v1/datasets/weekly-deaths-local-authority'}, 'taxonomy': {'href': 'https://api.beta.ons.gov.uk/v1/peoplepopulationandcommunity/birthsdeathsandmarriages/deaths'}}, 'national_statistic': True, 'next_release': '15 August 2023', 'qmi': {'href': 'https://www.ons.gov.uk/peoplepopulationandcommunity/birthsdeathsandmarriages/deaths/methodologies/mortalitystatisticsinenglandandwalesqmi'}, 'release_frequency': 'Weekly', 'state': 'published', 'title': 'Death registrations and occurrences by local authority and place of death'}, {'contacts': [{'email': 'health.data@ons.gov.uk', 'name': 'Sarah Caul', 'telephone': '+44 1329 444110'}], 'description': 'Provisional counts of the number of deaths registered in Wales, by health board and place of death, in the latest weeks for which data are available.', 'id': 'weekly-deaths-health-board', 'keywords': ['Deaths', 'weekly deaths'], 'links': {'editions': {'href': 'https://api.beta.ons.gov.uk/v1/datasets/weekly-deaths-health-board/editions'}, 'latest_version': {'href': 'https://api.beta.ons.gov.uk/v1/datasets/weekly-deaths-health-board/editions/2022/versions/80', 'id': '80'}, 'self': {'href': 'https://api.beta.ons.gov.uk/v1/datasets/weekly-deaths-health-board'}, 'taxonomy': {'href': 'https://api.beta.ons.gov.uk/v1/peoplepopulationandcommunity/birthsdeathsandmarriages/deaths'}}, 'national_statistic': True, 'next_release': '15 August 2023', 'qmi': {'href': 'https://www.ons.gov.uk/peoplepopulationandcommunity/birthsdeathsandmarriages/deaths/methodologies/mortalitystatisticsinenglandandwalesqmi'}, 'release_frequency': 'Weekly', 'state': 'published', 'title': 'Death registrations and occurrences by health board and place of death'}, {'contacts': [{'email': 'health.data@ons.gov.uk', 'name': 'Sarah Caul', 'telephone': '+44 1329 444110'}], 'description': 'Provisional counts of the number of deaths registered in England and Wales, by age and sex, in the latest weeks for which data are available.', 'id': 'weekly-deaths-age-sex', 'keywords': ['Deaths', 'weekly deaths'], 'links': {'editions': {'href': 'https://api.beta.ons.gov.uk/v1/datasets/weekly-deaths-age-sex/editions'}, 'latest_version': {'href': 'https://api.beta.ons.gov.uk/v1/datasets/weekly-deaths-age-sex/editions/covid-19/versions/149', 'id': '149'}, 'self': {'href': 'https://api.beta.ons.gov.uk/v1/datasets/weekly-deaths-age-sex'}, 'taxonomy': {'href': 'https://api.beta.ons.gov.uk/v1/peoplepopulationandcommunity/birthsdeathsandmarriages/deaths'}}, 'national_statistic': True, 'next_release': '15 August 2023', 'qmi': {'href': 'https://www.ons.gov.uk/peoplepopulationandcommunity/birthsdeathsandmarriages/deaths/methodologies/mortalitystatisticsinenglandandwalesqmi'}, 'release_frequency': 'Weekly', 'state': 'published', 'title': 'Deaths registered weekly in England and Wales by age and sex'}, {'contacts': [{'email': 'realtime.indicators@ons.gov.uk', 'name': 'Katie Cunliffe', 'telephone': '+44 1633 560344'}], 'description': 'These data series are experimental faster indicators for monitoring UK spending using debit and credit cards.', 'id': 'uk-spending-on-cards', 'links': {'editions': {'href': 'https://api.beta.ons.gov.uk/v1/datasets/uk-spending-on-cards/editions'}, 'latest_version': {'href': 'https://api.beta.ons.gov.uk/v1/datasets/uk-spending-on-cards/editions/time-series/versions/92', 'id': '92'}, 'self': {'href': 'https://api.beta.ons.gov.uk/v1/datasets/uk-spending-on-cards'}, 'taxonomy': {'href': 'https://api.beta.ons.gov.uk/v1/economy/economicoutputandproductivity/productivitymeasures'}}, 'national_statistic': False, 'next_release': 'To be announced', 'qmi': {'href': 'https://www.bankofengland.co.uk/payment-and-settlement/chaps-faster-indicator'}, 'release_frequency': 'Weekly', 'state': 'published', 'title': 'UK spending on credit and debit cards', 'type': 'filterable'}, {'contacts': [{'email': 'idbras@ons.gov.uk', 'name': 'Becky Shaw', 'telephone': '+44 1633 456902'}], 'description': 'The data contained in these tables are numbers of enterprises and local units produced from a snapshot of the Inter-Departmental Business Register (IDBR) taken on 12 March 2021. This dataset contains details of the number of VAT and/or PAYE based enterprises and local units in districts, counties and unitary authorities within region and country by broad industry group.', 'id': 'uk-business-by-enterprises-and-local-units', 'keywords': ['enterprises', 'local units,IDBR,business counts,Inter-Departmental Business Register'], 'links': {'editions': {'href': 'https://api.beta.ons.gov.uk/v1/datasets/uk-business-by-enterprises-and-local-units/editions'}, 'latest_version': {'href': 'https://api.beta.ons.gov.uk/v1/datasets/uk-business-by-enterprises-and-local-units/editions/2022/versions/1', 'id': '1'}, 'self': {'href': 'https://api.beta.ons.gov.uk/v1/datasets/uk-business-by-enterprises-and-local-units'}, 'taxonomy': {'href': 'https://api.beta.ons.gov.uk/v1/businessindustryandtrade/business/businessservices'}}, 'next_release': 'To be announced', 'publications': [{'href': 'https://www.ons.gov.uk/businessindustryandtrade/business/activitysizeandlocation', 'title': 'UK Business: Activity, Size and Location'}], 'qmi': {'href': 'https://www.ons.gov.uk/businessindustryandtrade/business/activitysizeandlocation/methodologies/ukbusinessactivitysizeandlocationqmi'}, 'release_frequency': 'Annual', 'state': 'published', 'title': 'UK Business: Activity, Size and Location', 'type': 'filterable', 'unit_of_measure': 'Count'}, {'contacts': [{'email': 'realtime.indicators@ons.gov.uk', 'name': 'Katie Cunliffe', 'telephone': '+44 1633 560344'}], 'description': 'Experimental dataset for business indices covering the UK as part of the real-time indicators release to help better understand economic activity and social change in the UK.', 'id': 'traffic-camera-activity', 'links': {'editions': {'href': 'https://api.beta.ons.gov.uk/v1/datasets/traffic-camera-activity/editions'}, 'latest_version': {'href': 'https://api.beta.ons.gov.uk/v1/datasets/traffic-camera-activity/editions/time-series/versions/72', 'id': '72'}, 'self': {'href': 'https://api.beta.ons.gov.uk/v1/datasets/traffic-camera-activity'}, 'taxonomy': {'href': 'https://api.beta.ons.gov.uk/v1/businessindustryandtrade/business/activitysizeandlocation'}}, 'national_statistic': False, 'next_release': 'To be announced', 'qmi': {'href': 'https://datasciencecampus.ons.gov.uk/projects/estimating-vehicle-and-pedestrian-activity-from-town-and-city-traffic-cameras/'}, 'release_frequency': 'Weekly', 'state': 'published', 'title': 'Traffic Camera Activity', 'type': 'filterable'}, {'contacts': [{'email': 'trade@ons.gov.uk', 'name': 'Hannah Donnarumma', 'telephone': '+44 (0)1329 447648'}], 'description': \"Country by commodity data on the UK's trade in goods, including trade by all countries and selected commodities, exports and imports, non seasonally adjusted.\", 'id': 'trade', 'keywords': ['trade'], 'links': {'editions': {'href': 'https://api.beta.ons.gov.uk/v1/datasets/trade/editions'}, 'latest_version': {'href': 'https://api.beta.ons.gov.uk/v1/datasets/trade/editions/time-series/versions/34', 'id': '34'}, 'self': {'href': 'https://api.beta.ons.gov.uk/v1/datasets/trade'}, 'taxonomy': {'href': 'https://api.beta.ons.gov.uk/v1/businessindustryandtrade/internationaltrade'}}, 'national_statistic': False, 'next_release': '11 August 2022', 'qmi': {'href': 'https://www.ons.gov.uk/economy/nationalaccounts/balanceofpayments/methodologies/uktradeqmi'}, 'release_frequency': 'Monthly', 'state': 'published', 'title': 'Trade in goods: country by commodity', 'unit_of_measure': '£million'}, {'contacts': [{'email': 'hie@ons.gov.uk', 'name': 'Paula Croal', 'telephone': '01633 651927'}], 'description': 'Estimates of mean and median annual incomes in the UK, by quintile groups.\\nThe redistribution effects on individuals of direct and indirect taxation and benefits received in cash or kind.', 'id': 'tax-benefits-statistics', 'links': {'editions': {'href': 'https://api.beta.ons.gov.uk/v1/datasets/tax-benefits-statistics/editions'}, 'latest_version': {'href': 'https://api.beta.ons.gov.uk/v1/datasets/tax-benefits-statistics/editions/time-series/versions/3', 'id': '3'}, 'self': {'href': 'https://api.beta.ons.gov.uk/v1/datasets/tax-benefits-statistics'}, 'taxonomy': {'href': 'https://api.beta.ons.gov.uk/v1/economy/governmentpublicsectorandtaxes/taxesandrevenue'}}, 'next_release': 'TBA', 'qmi': {'href': 'https://www.ons.gov.uk/peoplepopulationandcommunity/personalandhouseholdfinances/incomeandwealth/methodologies/theeffectsoftaxesandbenefitsonukhouseholdincome'}, 'release_frequency': 'Annual', 'state': 'published', 'title': 'Effects of Taxes and Benefits on Household Income'}, {'contacts': [{'email': 'health.data@ons.gov.uk', 'name': 'Rabiya Nasir, Emyr John and David Mais', 'telephone': '+44 1633 456501'}], 'description': 'Number of suicides by local authority in England and Wales, registered from 2001.\\n\\nIf you are struggling to cope, please call Samaritans for free on 116 123 (UK and ROI) or contact other sources of support, such as those listed on the NHS’s help for suicidal thoughts webpage. Support is available round the clock, every single day of the year, providing a safe place for anyone struggling to cope, whoever they are, however they feel, whatever life has done to them.', 'id': 'suicides-in-the-uk', 'keywords': ['suicide', 'mortality'], 'links': {'editions': {'href': 'https://api.beta.ons.gov.uk/v1/datasets/suicides-in-the-uk/editions'}, 'latest_version': {'href': 'https://api.beta.ons.gov.uk/v1/datasets/suicides-in-the-uk/editions/2021/versions/1', 'id': '1'}, 'self': {'href': 'https://api.beta.ons.gov.uk/v1/datasets/suicides-in-the-uk'}, 'taxonomy': {'href': 'https://api.beta.ons.gov.uk/v1/peoplepopulationandcommunity/birthsdeathsandmarriages/deaths'}}, 'methodologies': [{'href': 'https://www.samaritans.org/', 'title': 'Samaritans'}, {'href': 'https://www.nhs.uk/mental-health/feelings-symptoms-behaviours/behaviours/help-for-suicidal-thoughts/', 'title': 'Help for suicidal thoughts'}], 'national_statistic': True, 'next_release': 'To be announced', 'qmi': {'href': 'https://www.ons.gov.uk/peoplepopulationandcommunity/birthsdeathsandmarriages/deaths/methodologies/suicideratesintheukqmi'}, 'related_datasets': [{'href': 'https://www.ons.gov.uk/peoplepopulationandcommunity/birthsdeathsandmarriages/deaths/bulletins/suicidesintheunitedkingdom/latest', 'title': 'Suicides in England and Wales'}], 'release_frequency': 'Annually', 'state': 'published', 'title': 'Suicide registrations in England and Wales by local authority'}, {'contacts': [{'email': 'pop.info@ons.gov.uk', 'name': 'Amanda Sharfman and Pamela Cobb', 'telephone': '+44 (0)1329 444661'}], 'description': 'Sexual orientation in the UK from 2012 to 2020 by region.\\n\\nData source: Annual Population Survey, ONS\\n', 'id': 'sexual-orientation-by-region', 'keywords': ['gay', 'lesbian,bisexual,straight,LGB'], 'links': {'editions': {'href': 'https://api.beta.ons.gov.uk/v1/datasets/sexual-orientation-by-region/editions'}, 'latest_version': {'href': 'https://api.beta.ons.gov.uk/v1/datasets/sexual-orientation-by-region/editions/time-series/versions/2', 'id': '2'}, 'self': {'href': 'https://api.beta.ons.gov.uk/v1/datasets/sexual-orientation-by-region'}, 'taxonomy': {'href': 'https://api.beta.ons.gov.uk/v1/peoplepopulationandcommunity/culturalidentity/sexuality'}}, 'next_release': 'To be announced', 'publications': [{'href': 'https://www.ons.gov.uk/peoplepopulationandcommunity/culturalidentity/sexuality/bulletins/sexualidentityuk/2020', 'title': 'Sexual orientation, UK'}], 'qmi': {'href': 'https://www.ons.gov.uk/peoplepopulationandcommunity/culturalidentity/sexuality/methodologies/sexualidentityukqmi'}, 'related_datasets': [{'href': 'https://www.ons.gov.uk/peoplepopulationandcommunity/culturalidentity/sexuality/datasets/sexualidentityuk', 'title': 'Sexual orientation, UK, dataset'}], 'release_frequency': 'Annual', 'state': 'published', 'title': 'Sexual orientation by English regions and UK countries', 'type': 'filterable', 'unit_of_measure': 'Number of people (thousands) and percentage'}, {'contacts': [{'email': 'pop.info@ons.gov.uk', 'name': 'Amanda Sharfman and Pamela Cobb', 'telephone': '+44 (0)1329 444661'}], 'description': 'Sexual orientation in the UK by sex and age, 2014 to 2020.\\n\\nSource: Annual Population Survey, ONS', 'id': 'sexual-orientation-by-age-and-sex', 'links': {'editions': {'href': 'https://api.beta.ons.gov.uk/v1/datasets/sexual-orientation-by-age-and-sex/editions'}, 'latest_version': {'href': 'https://api.beta.ons.gov.uk/v1/datasets/sexual-orientation-by-age-and-sex/editions/time-series/versions/2', 'id': '2'}, 'self': {'href': 'https://api.beta.ons.gov.uk/v1/datasets/sexual-orientation-by-age-and-sex'}, 'taxonomy': {'href': 'https://api.beta.ons.gov.uk/v1/peoplepopulationandcommunity/culturalidentity/sexuality'}}, 'next_release': 'To be announced', 'publications': [{'href': 'https://www.ons.gov.uk/peoplepopulationandcommunity/culturalidentity/sexuality/bulletins/sexualidentityuk/2020', 'title': 'Sexual orientation, UK'}], 'qmi': {'href': 'https://www.ons.gov.uk/peoplepopulationandcommunity/culturalidentity/sexuality/methodologies/sexualidentityukqmi'}, 'related_datasets': [{'href': 'https://www.ons.gov.uk/peoplepopulationandcommunity/culturalidentity/sexuality/datasets/sexualidentityuk', 'title': 'Sexual orientation, UK dataset'}], 'release_frequency': 'Annual', 'state': 'published', 'title': 'Sexual orientation by age and sex', 'type': 'filterable', 'unit_of_measure': 'Number of people (thousands) and percentage'}, {'contacts': [{'email': 'retail.sales.enquiries@ons.gov.uk', 'name': 'Rhys Lewis', 'telephone': '+44 1633 455602'}], 'description': 'Value and volume of retail sales broken down by size of business', 'id': 'retail-sales-index-large-and-small-businesses', 'keywords': ['RSI', 'internet sales,goods bought,buying,spending'], 'links': {'editions': {'href': 'https://api.beta.ons.gov.uk/v1/datasets/retail-sales-index-large-and-small-businesses/editions'}, 'latest_version': {'href': 'https://api.beta.ons.gov.uk/v1/datasets/retail-sales-index-large-and-small-businesses/editions/time-series/versions/16', 'id': '16'}, 'self': {'href': 'https://api.beta.ons.gov.uk/v1/datasets/retail-sales-index-large-and-small-businesses'}, 'taxonomy': {'href': 'https://api.beta.ons.gov.uk/v1/businessindustryandtrade/retailindustry'}}, 'national_statistic': False, 'next_release': '18 August 2023', 'qmi': {'href': 'https://www.ons.gov.uk/businessindustryandtrade/retailindustry/methodologies/retailsalesindexrsiqmi'}, 'release_frequency': 'Monthly', 'state': 'published', 'title': 'Retail sales index - large and small businesses', 'type': 'filterable', 'unit_of_measure': '2019=100'}, {'contacts': [{'email': 'retail.sales.enquiries@ons.gov.uk', 'name': 'Rhys Lewis', 'telephone': '+44 1633 455602'}], 'description': 'Value and volume of retail sales for all businesses.', 'id': 'retail-sales-index-all-businesses', 'keywords': ['RSI', 'internet sales,goods bought,buying,spending'], 'links': {'editions': {'href': 'https://api.beta.ons.gov.uk/v1/datasets/retail-sales-index-all-businesses/editions'}, 'latest_version': {'href': 'https://api.beta.ons.gov.uk/v1/datasets/retail-sales-index-all-businesses/editions/time-series/versions/16', 'id': '16'}, 'self': {'href': 'https://api.beta.ons.gov.uk/v1/datasets/retail-sales-index-all-businesses'}, 'taxonomy': {'href': 'https://api.beta.ons.gov.uk/v1/businessindustryandtrade/retailindustry'}}, 'national_statistic': False, 'next_release': '18 August 2023', 'qmi': {'href': 'https://www.ons.gov.uk/businessindustryandtrade/retailindustry/methodologies/retailsalesindexrsiqmi'}, 'release_frequency': 'Monthly', 'state': 'published', 'title': 'Retail sales index - all businesses', 'type': 'filterable', 'unit_of_measure': '2019=100'}, {'contacts': [{'email': 'retail.sales.enquiries@ons.gov.uk', 'name': 'Rhys Lewis', 'telephone': '+44 1633 455602'}], 'description': 'Retail sales data for Great Britain in value and volume terms, seasonally and non-seasonally adjusted.', 'id': 'retail-sales-index', 'keywords': ['RSI', 'internet sales,goods bought,buying,spending'], 'links': {'editions': {'href': 'https://api.beta.ons.gov.uk/v1/datasets/retail-sales-index/editions'}, 'latest_version': {'href': 'https://api.beta.ons.gov.uk/v1/datasets/retail-sales-index/editions/time-series/versions/16', 'id': '16'}, 'self': {'href': 'https://api.beta.ons.gov.uk/v1/datasets/retail-sales-index'}, 'taxonomy': {'href': 'https://api.beta.ons.gov.uk/v1/businessindustryandtrade/retailindustry'}}, 'national_statistic': False, 'next_release': '18 August 2023', 'qmi': {'href': 'https://www.ons.gov.uk/businessindustryandtrade/retailindustry/methodologies/retailsalesindexrsiqmi'}, 'release_frequency': 'Monthly', 'state': 'published', 'title': 'Retail sales index', 'type': 'filterable', 'unit_of_measure': '2019=100'}, {'contacts': [{'email': 'regionalgdp@ons.gov.uk', 'name': 'Keith Barnes', 'telephone': '+441633 456630'}], 'description': 'Annual economic activity within England, Wales and the nine English regions (North East, North West, Yorkshire and the Humber, East Midlands, West Midlands, East of England, Greater London, South East, South West).', 'id': 'regional-gdp-by-year', 'keywords': ['regional GDP'], 'links': {'editions': {'href': 'https://api.beta.ons.gov.uk/v1/datasets/regional-gdp-by-year/editions'}, 'latest_version': {'href': 'https://api.beta.ons.gov.uk/v1/datasets/regional-gdp-by-year/editions/time-series/versions/6', 'id': '6'}, 'self': {'href': 'https://api.beta.ons.gov.uk/v1/datasets/regional-gdp-by-year'}, 'taxonomy': {'href': 'https://api.beta.ons.gov.uk/v1/economy/grossdomesticproductgdp'}}, 'national_statistic': False, 'next_release': 'TBA', 'qmi': {'href': 'https://www.ons.gov.uk/economy/grossdomesticproductgdp/methodologies/grossdomesticproductgdpukregionsandcountriesqmi'}, 'release_frequency': 'Annual', 'state': 'published', 'title': 'Annual GDP for England, Wales and the English regions'}, {'contacts': [{'email': 'regionalgdp@ons.gov.uk', 'name': 'Keith Barnes', 'telephone': '+441633 456630'}], 'description': 'Quarterly economic activity within England, Wales and the nine English regions (North East, North West, Yorkshire and The Humber, East Midlands, West Midlands, East of England, London, South East, South West).', 'id': 'regional-gdp-by-quarter', 'keywords': ['regional GDP'], 'links': {'editions': {'href': 'https://api.beta.ons.gov.uk/v1/datasets/regional-gdp-by-quarter/editions'}, 'latest_version': {'href': 'https://api.beta.ons.gov.uk/v1/datasets/regional-gdp-by-quarter/editions/time-series/versions/6', 'id': '6'}, 'self': {'href': 'https://api.beta.ons.gov.uk/v1/datasets/regional-gdp-by-quarter'}, 'taxonomy': {'href': 'https://api.beta.ons.gov.uk/v1/economy/grossdomesticproductgdp'}}, 'national_statistic': False, 'next_release': 'To be announced', 'qmi': {'href': 'https://www.ons.gov.uk/economy/grossdomesticproductgdp/methodologies/grossdomesticproductgdpukregionsandcountriesqmi'}, 'release_frequency': 'To be announced', 'state': 'published', 'title': 'Quarterly GDP for England, Wales and the English regions'}, {'contacts': [{'email': 'pop.info@ons.gov.uk', 'name': 'Population Statistics Division', 'telephone': '+44 (0)1329 444661'}], 'description': 'Projected indicators included are derived from the published 2018-based subnational population projections for England, Wales, Scotland and Northern Ireland up to the year 2043. The indicators are the projected sex ratio for those aged 65 years and over and the projected sex ratio for those aged 85 years and over. A sex ratio shows the number of males in the population for every 100 females.\\n\\nThis dataset has been produced by the Ageing Analysis Team for inclusion in the subnational ageing tool, which was published on July 20, 2020 (see link in Related datasets). The tool is interactive, and users can compare latest and projected measures of ageing for up to four different areas through selection on a map or from a drop-down menu. \\n\\nNote on data sources: England, Wales, Scotland and Northern Ireland independently publish subnational population projections and the data available here are a compilation of these datasets. The ONS publish national level data for the UK, England, Wales and England & Wales, which has been included. National level data for Scotland and Northern Ireland have been taken from their subnational population projections datasets.', 'id': 'projections-older-people-sex-ratios', 'links': {'editions': {'href': 'https://api.beta.ons.gov.uk/v1/datasets/projections-older-people-sex-ratios/editions'}, 'latest_version': {'href': 'https://api.beta.ons.gov.uk/v1/datasets/projections-older-people-sex-ratios/editions/time-series/versions/1', 'id': '1'}, 'self': {'href': 'https://api.beta.ons.gov.uk/v1/datasets/projections-older-people-sex-ratios'}, 'taxonomy': {'href': 'https://api.beta.ons.gov.uk/v1/peoplepopulationandcommunity/birthsdeathsandmarriages/ageing'}}, 'methodologies': [{'href': 'https://www.nrscotland.gov.uk/files//statistics/population-projections/sub-national-pp-18/pop-proj-principal-18-methodology.pdf', 'title': 'Scotland Methodology Guide'}, {'href': 'https://gov.wales/population-and-household-statistics-technical-information', 'title': 'Wales technical information'}, {'href': 'https://www.nisra.gov.uk/sites/nisra.gov.uk/files/publications/SNPP18-Methodology.pdf', 'title': 'Northern Ireland methodology paper'}], 'next_release': 'To be announced', 'qmi': {'href': 'https://www.ons.gov.uk/peoplepopulationandcommunity/populationandmigration/populationprojections/methodologies/subnationalpopulationprojectionsqmi'}, 'related_datasets': [{'href': 'https://www.ons.gov.uk/peoplepopulationandcommunity/populationandmigration/populationprojections/bulletins/subnationalpopulationprojectionsforengland/2018based', 'title': 'Subnational population projections for England: 2018-based'}, {'href': 'https://www.nrscotland.gov.uk/statistics-and-data/statistics/statistics-by-theme/population/population-projections/sub-national-population-projections/2018-based', 'title': 'Population Projections for Scottish Areas (2018-based)'}, {'href': 'https://gov.wales/subnational-population-projections-2018-based', 'title': 'Wales Subnational population projections (local authority): 2018-based'}, {'href': 'https://www.nisra.gov.uk/publications/2018-based-population-projections-areas-within-northern-ireland', 'title': '2018-based Population Projections for Areas within Northern Ireland'}, {'href': 'https://www.ons.gov.uk/peoplepopulationandcommunity/birthsdeathsandmarriages/ageing/articles/subnationalageingtool/2020-07-20', 'title': 'Subnational ageing tool'}], 'release_frequency': 'Biennial', 'state': 'published', 'title': 'Local authority ageing statistics, projected sex ratios for older people'}], 'limit': 20, 'offset': 0, 'total_count': 337}\n"
          ]
        }
      ]
    },
    {
      "cell_type": "markdown",
      "source": [
        "Obviously we need to try to get something more specific"
      ],
      "metadata": {
        "id": "mlALVrWSktK_"
      }
    },
    {
      "cell_type": "code",
      "source": [
        "# Lets loop over the data retreived to see if we can break it down\n",
        "for key in ONS_data_response:\n",
        "  print(key)\n",
        "  print(\"\")\n",
        "\n"
      ],
      "metadata": {
        "colab": {
          "base_uri": "https://localhost:8080/"
        },
        "id": "fKqMgTsvkx7T",
        "outputId": "8b39d562-6e84-4ee2-bb6f-1bfc8dc7d3b8"
      },
      "execution_count": null,
      "outputs": [
        {
          "output_type": "stream",
          "name": "stdout",
          "text": [
            "@context\n",
            "\n",
            "count\n",
            "\n",
            "items\n",
            "\n",
            "limit\n",
            "\n",
            "offset\n",
            "\n",
            "total_count\n",
            "\n"
          ]
        }
      ]
    },
    {
      "cell_type": "markdown",
      "source": [
        "This information isnt useful - apart from that we need to go inside the items part"
      ],
      "metadata": {
        "id": "kZ1a7VGTl8IC"
      }
    },
    {
      "cell_type": "code",
      "source": [
        "# access the 'items' list\n",
        "items_list = ONS_data_response['items']\n",
        "#print(items_list)\n",
        "\n",
        "# Loop over dictionaries to see what it looks like\n",
        "for item in items_list:\n",
        "  print(item.keys(),\"\\n\" ,item.items())\n"
      ],
      "metadata": {
        "id": "yKMZ3WiBmAxd"
      },
      "execution_count": null,
      "outputs": []
    },
    {
      "cell_type": "markdown",
      "source": [
        "Okay, that looks useful but the format is making it difficult to extract from"
      ],
      "metadata": {
        "id": "7i_T1hhgm4m4"
      }
    },
    {
      "cell_type": "code",
      "source": [
        "# Loop over keys to see what it looks like\n",
        "for item in items_list:\n",
        "  print(item.keys(),\"\\n\")\n"
      ],
      "metadata": {
        "id": "GMXGpqPam-81"
      },
      "execution_count": null,
      "outputs": []
    },
    {
      "cell_type": "code",
      "source": [
        "print(len(items_list))\n"
      ],
      "metadata": {
        "colab": {
          "base_uri": "https://localhost:8080/"
        },
        "id": "QLumSG7OF_9s",
        "outputId": "13fc1995-e87f-47b2-e684-8f044c9cc040"
      },
      "execution_count": null,
      "outputs": [
        {
          "output_type": "stream",
          "name": "stdout",
          "text": [
            "20\n"
          ]
        }
      ]
    },
    {
      "cell_type": "code",
      "source": [
        "# Loop over dictionaries to see what it looks like\n",
        "count = 0\n",
        "for item in items_list:\n",
        "  print(\"***********\")\n",
        "  print(f\"Count: {count}\")\n",
        "  print(f\"ID: {item['id']} \\nTitle: {item['title']} \\nDescription: {item['description']}\")\n",
        "  print(\"***********\")\n",
        "  count +=1\n"
      ],
      "metadata": {
        "id": "z0hRJxJQnPk1"
      },
      "execution_count": null,
      "outputs": []
    },
    {
      "cell_type": "markdown",
      "source": [
        "Okay, now we have a better idea of how this works - lets try their example endpoint...\n",
        "\n",
        "/datasets/cpih01/editions/time-series/versions/6/observations?time=Oct-11&geography=K02000001&aggregate=cpih1dim1A0\n"
      ],
      "metadata": {
        "id": "UHiQchnopP9U"
      }
    },
    {
      "cell_type": "code",
      "source": [
        "# Construct the API request URL\n",
        "# ONS_endpoint = '/datasets/cpih01/editions/time-series/versions/6/observations?time=Oct-11&geography=K02000001&aggregate=cpih1dim1A0'\n",
        "# ONS_URL = ONS_base_url + ONS_endpoint\n",
        "\n",
        "\n",
        "\n",
        "# Make the API request\n",
        "response = requests.get(ONS_URL)\n",
        "\n",
        "if response.status_code == 200:\n",
        "    # Convert response to JSON (dictionary)\n",
        "    ONS_data_response = response.json()\n",
        "    print(ONS_data_response)\n",
        "\n",
        "    # # Get the CSV download link from the response\n",
        "    # csv_download_link = ONS_data_response['downloads']['csv']['href']\n",
        "\n",
        "    # # Make a new request to download the CSV data\n",
        "    # csv_response = requests.get(csv_download_link)\n",
        "\n",
        "    # if csv_response.status_code == 200:\n",
        "    #     # Save the CSV data to a file\n",
        "    #     with open('cpih_data.csv', 'wb') as csv_file:\n",
        "    #         csv_file.write(csv_response.content)\n",
        "    #         print('CSV data saved successfully.')\n",
        "    # else:\n",
        "    #     print('Failed to download CSV data with status code:', csv_response.status_code)\n",
        "else:\n",
        "    print('Request failed with status code:', response.status_code)"
      ],
      "metadata": {
        "colab": {
          "base_uri": "https://localhost:8080/"
        },
        "id": "bUC3IKHDpVKW",
        "outputId": "f556f5af-f66d-4d29-a174-68986d42970a"
      },
      "execution_count": null,
      "outputs": [
        {
          "output_type": "stream",
          "name": "stdout",
          "text": [
            "{'@context': 'https://cdn.ons.gov.uk/assets/json-ld/context.json', 'alerts': [], 'collection_id': 'cmdcpih-2dd77bce9c8d5d08703147b3d2b27ab78ab927c4f38c9c1f2b4369f3bb165f4a', 'dimensions': [{'href': 'https://api.beta.ons.gov.uk/v1/code-lists/mmm-yy', 'id': 'mmm-yy', 'label': 'Time', 'links': {'code_list': {}, 'options': {}, 'version': {}}, 'name': 'time'}, {'href': 'https://api.beta.ons.gov.uk/v1/code-lists/uk-only', 'id': 'uk-only', 'label': 'Geography', 'links': {'code_list': {}, 'options': {}, 'version': {}}, 'name': 'geography'}, {'href': 'https://api.beta.ons.gov.uk/v1/code-lists/cpih1dim1aggid', 'id': 'cpih1dim1aggid', 'label': 'Aggregate', 'links': {'code_list': {}, 'options': {}, 'version': {}}, 'name': 'aggregate'}], 'downloads': {'csv': {'href': 'https://download.beta.ons.gov.uk/downloads/datasets/cpih01/editions/time-series/versions/6.csv', 'size': '5148315'}, 'csvw': {'href': 'https://download.beta.ons.gov.uk/downloads/datasets/cpih01/editions/time-series/versions/6.csv-metadata.json', 'size': '1606'}, 'xls': {'href': 'https://download.beta.ons.gov.uk/downloads/datasets/cpih01/editions/time-series/versions/6.xlsx', 'size': '258354'}}, 'edition': 'time-series', 'id': 'df1a1fbc-2f87-4283-8118-b7e599425d2c', 'links': {'dataset': {'href': 'https://api.beta.ons.gov.uk/v1/datasets/cpih01', 'id': 'cpih01'}, 'edition': {'href': 'https://api.beta.ons.gov.uk/v1/datasets/cpih01/editions/time-series', 'id': 'time-series'}, 'self': {'href': 'https://api.beta.ons.gov.uk/v1/datasets/cpih01/editions/time-series/versions/6'}}, 'release_date': '2021-03-24T00:00:00.000Z', 'state': 'published', 'usage_notes': [], 'version': 6}\n"
          ]
        }
      ]
    },
    {
      "cell_type": "code",
      "source": [
        "# Define the base URL\n",
        "ONS_base_url = \"https://api.beta.ons.gov.uk/v1\"\n",
        "dataset_id = \"cpih01\"\n",
        "edition = \"time-series\"\n",
        "version = \"6\"\n",
        "\n",
        "# To do this, take the latest_version URL and add /dimensions.\n",
        "# To find out what options are available for each dimension, choose one and add it to your request, followed by /options.\n",
        "dimension_name = \"time\"\n",
        "dimension_value = \"Oct-11\"\n",
        "# Define query parameters/labels\n",
        "geography = \"K02000001\"\n",
        "aggregate = \"cpih1dim1A0\"\n",
        "\n",
        "# Construct the API request URL\n",
        "ONS_endpoint = f\"/datasets/{dataset_id}/editions/{edition}/versions/{version}/observations\"\n",
        "query_params = {\n",
        "    \"geography\": geography,\n",
        "    \"aggregate\": aggregate,\n",
        "    dimension_name: dimension_value\n",
        "}\n",
        "\n",
        "#/datasets/{id}/editions/{edition}/versions/{version}/observations\n",
        "# /datasets/{datasetId}/editions/{edition}/versions/{version}/observations?time={timeLabel}&geography={geographyID}&dimension3={dimension3ID}&dimension4={dimension4ID}...\n",
        "\n",
        "response = requests.get(ONS_base_url + ONS_endpoint, params=query_params)\n",
        "\n",
        "# Process the response\n",
        "if response.status_code == 200:\n",
        "    ONS_data_response = response.json()\n",
        "    observation = ONS_data_response[\"observations\"][0][\"observation\"]\n",
        "    print(\"Observation:\", observation)\n",
        "else:\n",
        "    print('Request failed with status code:', response.status_code)\n"
      ],
      "metadata": {
        "colab": {
          "base_uri": "https://localhost:8080/"
        },
        "id": "LJ4i6t0WG7o4",
        "outputId": "de99e212-09ea-4d58-a158-ae8ebf39c35e"
      },
      "execution_count": null,
      "outputs": [
        {
          "output_type": "stream",
          "name": "stdout",
          "text": [
            "Observation: {'observation': '94.5'}\n"
          ]
        }
      ]
    },
    {
      "cell_type": "code",
      "source": [
        "# Define the base URL\n",
        "ONS_base_url = \"https://api.beta.ons.gov.uk/v1\"\n",
        "dataset_id = \"cpih01\"\n",
        "edition = \"time-series\"\n",
        "version = \"6\"\n",
        "\n",
        "# To do this, take the latest_version URL and add /dimensions.\n",
        "# To find out what options are available for each dimension, choose one and add it to your request, followed by /options.\n",
        "dimension_name = \"time\"\n",
        "dimension_value = \"*\"\n",
        "# Define query parameters/labels\n",
        "geography = \"K02000001\"\n",
        "aggregate = \"cpih1dim1A0\"\n",
        "\n",
        "# Construct the API request URL\n",
        "ONS_endpoint = f\"/datasets/{dataset_id}/editions/{edition}/versions/{version}/observations\"\n",
        "query_params = {\n",
        "    \"geography\": geography,\n",
        "    \"aggregate\": aggregate,\n",
        "    dimension_name: dimension_value\n",
        "}\n",
        "\n",
        "#/datasets/{id}/editions/{edition}/versions/{version}/observations\n",
        "# /datasets/{datasetId}/editions/{edition}/versions/{version}/observations?time={timeLabel}&geography={geographyID}&dimension3={dimension3ID}&dimension4={dimension4ID}...\n",
        "\n",
        "response = requests.get(ONS_base_url + ONS_endpoint, params=query_params)\n",
        "\n",
        "# Create lists to store data\n",
        "dates = []\n",
        "data_values = []\n",
        "\n",
        "# Process the response\n",
        "if response.status_code == 200:\n",
        "    ONS_data_response = response.json()\n",
        "    observations = ONS_data_response[\"observations\"]\n",
        "\n",
        "    # this part helps us look at the structure\n",
        "    # print(\"Observation:\", observation)\n",
        "\n",
        "    for observation in observations:\n",
        "      # # Print each observation and date\n",
        "      # # print out whole data, mm-yy: xx.x (float)\n",
        "      # print(f\"{observation['dimensions']['Time']['label']}: {observation['observation']}\")\n",
        "\n",
        "      # retreives data and appends it into preallocated variables\n",
        "      date = observation['dimensions']['Time']['label']\n",
        "      data = float(observation['observation'])\n",
        "      dates.append(date)\n",
        "      data_values.append(data)\n",
        "\n",
        "    # Create a dataframe\n",
        "    df = pd.DataFrame({'Date': dates, 'Data': data_values})\n",
        "    print(df)\n",
        "\n",
        "else:\n",
        "    print('Request failed with status code:', response.status_code)\n"
      ],
      "metadata": {
        "colab": {
          "base_uri": "https://localhost:8080/"
        },
        "id": "2NEuGA1U0gej",
        "outputId": "3f44ed36-99dc-42c5-d81a-6da826330153"
      },
      "execution_count": null,
      "outputs": [
        {
          "output_type": "stream",
          "name": "stdout",
          "text": [
            "       Date   Data\n",
            "0    May-04   77.9\n",
            "1    May-13   98.2\n",
            "2    Sep-16  101.5\n",
            "3    May-88   48.0\n",
            "4    Apr-18  105.5\n",
            "..      ...    ...\n",
            "393  Nov-90   56.9\n",
            "394  Aug-12   96.1\n",
            "395  Aug-20  108.8\n",
            "396  Mar-19  107.0\n",
            "397  May-20  108.6\n",
            "\n",
            "[398 rows x 2 columns]\n"
          ]
        }
      ]
    }
  ]
}