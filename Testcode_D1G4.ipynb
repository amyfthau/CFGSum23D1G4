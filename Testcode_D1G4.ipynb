{
  "nbformat": 4,
  "nbformat_minor": 0,
  "metadata": {
    "colab": {
      "provenance": [],
      "authorship_tag": "ABX9TyNuMziaBAMwW7293JCJbk4x",
      "include_colab_link": true
    },
    "kernelspec": {
      "name": "python3",
      "display_name": "Python 3"
    },
    "language_info": {
      "name": "python"
    }
  },
  "cells": [
    {
      "cell_type": "markdown",
      "metadata": {
        "id": "view-in-github",
        "colab_type": "text"
      },
      "source": [
        "<a href=\"https://colab.research.google.com/github/amyfthau/amyfthau/blob/main/Testcode_D1G4.ipynb\" target=\"_parent\"><img src=\"https://colab.research.google.com/assets/colab-badge.svg\" alt=\"Open In Colab\"/></a>"
      ]
    },
    {
      "cell_type": "markdown",
      "source": [
        "**Import Data from Google Drive**"
      ],
      "metadata": {
        "id": "MXyvrjreuC5T"
      }
    },
    {
      "cell_type": "code",
      "execution_count": null,
      "metadata": {
        "colab": {
          "base_uri": "https://localhost:8080/"
        },
        "id": "bogbOEh7pj9Y",
        "outputId": "7ba54378-dedb-45f3-87d9-c1e631fb730a"
      },
      "outputs": [
        {
          "output_type": "stream",
          "name": "stdout",
          "text": [
            "Drive already mounted at /content/drive; to attempt to forcibly remount, call drive.mount(\"/content/drive\", force_remount=True).\n"
          ]
        }
      ],
      "source": [
        "from google.colab import drive\n",
        "import os\n",
        "\n",
        "# mount google drive\n",
        "drive.mount('/content/drive')\n",
        "\n",
        "# Define the path to your specific folder\n",
        "specific_folder_path = '/content/drive/MyDrive/CFGdegree_Sum23_D1_G4'\n",
        "\n",
        "# Navigate to the specific folder\n",
        "os.chdir(specific_folder_path)\n",
        "\n",
        "\n"
      ]
    }
  ]
}