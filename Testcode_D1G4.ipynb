{
  "nbformat": 4,
  "nbformat_minor": 0,
  "metadata": {
    "colab": {
      "provenance": [],
      "authorship_tag": "ABX9TyPvMkvVu+2yuP6LwnONLIdu",
      "include_colab_link": true
    },
    "kernelspec": {
      "name": "python3",
      "display_name": "Python 3"
    },
    "language_info": {
      "name": "python"
    }
  },
  "cells": [
    {
      "cell_type": "markdown",
      "metadata": {
        "id": "view-in-github",
        "colab_type": "text"
      },
      "source": [
        "<a href=\"https://colab.research.google.com/github/amyfthau/CFGSum23D1G4/blob/main/Testcode_D1G4.ipynb\" target=\"_parent\"><img src=\"https://colab.research.google.com/assets/colab-badge.svg\" alt=\"Open In Colab\"/></a>"
      ]
    },
    {
      "cell_type": "markdown",
      "source": [
        "**Import Data from Google Drive**"
      ],
      "metadata": {
        "id": "MXyvrjreuC5T"
      }
    },
    {
      "cell_type": "code",
      "execution_count": 5,
      "metadata": {
        "colab": {
          "base_uri": "https://localhost:8080/"
        },
        "id": "bogbOEh7pj9Y",
        "outputId": "076a142b-290b-43ab-da54-b3be9f2ad923"
      },
      "outputs": [
        {
          "output_type": "stream",
          "name": "stdout",
          "text": [
            "Drive already mounted at /content/drive; to attempt to forcibly remount, call drive.mount(\"/content/drive\", force_remount=True).\n",
            "/content\n"
          ]
        }
      ],
      "source": [
        "# 1) Set files ready\n",
        "\n",
        "# Import relevant libraries to mount drive\n",
        "from google.colab import drive\n",
        "import os\n",
        "\n",
        "# Mount google drive\n",
        "drive.mount('/content/drive')\n",
        "\n",
        "# Define the path to your specific folder\n",
        "specific_folder_path = '/content/drive/MyDrive/CFGdegree_Sum23_D1_G4'\n",
        "\n",
        "# Navigate to the specific folder\n",
        "os.chdir(specific_folder_path)\n",
        "\n",
        "# change directory to shared group folder\n",
        "%cd /content/drive/MyDrive/CFGdegree_Sum23_D1_G4\n",
        "\n",
        "\n"
      ]
    },
    {
      "cell_type": "code",
      "source": [
        "# 2) Import relevant libraries\n",
        "\n",
        "import pandas as pd"
      ],
      "metadata": {
        "id": "9v-Ihw-2LNv4"
      },
      "execution_count": 6,
      "outputs": []
    },
    {
      "cell_type": "code",
      "source": [
        "# checking Anna's code -\n",
        "### Hey, I'm not finished checking what your issue is - sorry I ran out of time but I will get back on it! Otherwise, anyone else feel free to help- Amy\n",
        "\n",
        "\n",
        "# read and convert into a dataframe object\n",
        "\n",
        "WealthByEthnicity_pd = pd.read_excel('/content/drive/MyDrive/CFGdegree_Sum23_D1_G4/Data_Collection/Predicting_House_Prices/Household_Wealth_by_Ethnicity_GBR.xlsx')\n",
        "print(WealthByEthnicity_pd.describe())\n",
        "print(WealthByEthnicity_pd.head(5))\n",
        "\n",
        "\n",
        "#HousingAffordability2022 = pd.DataFrame(pd.read_excel('/CFGdegree_Sum23_D1_G4/Data_Collection/Housing_Purchase_Affordability_Tables2022.xlsx')\n",
        "#HomeOwnership = pd.DataFrame(pd.read_csv('/content/drive/MyDrive/CFGdegree_Sum23_D1_G4/Data_Collection/Predicting_House_Prices/home-ownership-spreadsheet.csv'))\n",
        "#UKHPI2022 = pd.DataFrame(pd.read_csv(\"UK-HPI-full-file-2022-01.csv\"))\n",
        "#EHSHeadline2022 = pd.DataFrame(pd.read_excel(\"2021-22_EHS_Headline_Report_Section_1_Households_Figures.xlsx\"))\n",
        "#PricePaidRecords = pd.DataFrame(pd.read_csv(\"price_paid_records.csv\"))"
      ],
      "metadata": {
        "colab": {
          "base_uri": "https://localhost:8080/"
        },
        "id": "VuDGoQJUdPjW",
        "outputId": "07dc6f40-cbb3-4894-c653-446cb6ab3019"
      },
      "execution_count": 15,
      "outputs": [
        {
          "output_type": "stream",
          "name": "stdout",
          "text": [
            "       Unnamed: 0\n",
            "count         0.0\n",
            "mean          NaN\n",
            "std           NaN\n",
            "min           NaN\n",
            "25%           NaN\n",
            "50%           NaN\n",
            "75%           NaN\n",
            "max           NaN\n",
            "   Unnamed: 0 Unnamed: 1                                         Unnamed: 2\n",
            "0         NaN   Contents  Household Wealth by Ethnicity: Great Britain, ...\n",
            "1         NaN        NaN                                                NaN\n",
            "2         NaN        NaN                           April 2016 to March 2018\n",
            "3         NaN    Table 1  Distribution of total household wealth, by HRP...\n",
            "4         NaN    Table 2  Median household net property, net financial, ...\n"
          ]
        }
      ]
    }
  ]
}